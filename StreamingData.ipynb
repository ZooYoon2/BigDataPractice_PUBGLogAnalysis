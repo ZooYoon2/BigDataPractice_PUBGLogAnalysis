{
 "cells": [
  {
   "cell_type": "code",
   "execution_count": 1,
   "id": "e1f822b3",
   "metadata": {},
   "outputs": [],
   "source": [
    "from pyspark.sql.types import *\n",
    "from pyspark.sql.functions import *\n",
    "import json"
   ]
  },
  {
   "cell_type": "code",
   "execution_count": null,
   "id": "775ac5fd",
   "metadata": {},
   "outputs": [],
   "source": [
    "schema = StructType() \\\n",
    "        .add(\"matchId\",StringType(),True) \\\n",
    "        .add(\"mapName\",StringType(),True) \\\n",
    "        .add(\"playerName\",StringType(),True) \\\n",
    "        .add(\"airplaneRoute\",StringType(),True) \\\n",
    "        .add(\"landingPlace\",StringType(),True) \\\n",
    "        .add(\"ranking\",StringType(),True) \\\n",
    "        .add(\"liveTime\",DoubleType(),True) \\\n",
    "        .add(\"moveDistance\",DoubleType(),True) \\\n",
    "        .add(\"firstRideTime\",LongType(),True) \\\n",
    "        .add(\"lastLeaveTime\",LongType(),True) \\\n",
    "        .add(\"WhiteCircleDistance\",ArrayType(StructType().add('1',DoubleType(),True).add('2',DoubleType(),True)),True) \\\n",
    "        .add(\"BlueCircleDistance\",ArrayType(StructType().add('1',DoubleType(),True).add('2',DoubleType(),True)),True) \\\n",
    "        .add(\"attacks\",ArrayType(StructType().add('1',DoubleType(),True).add('2',DoubleType(),True).add('3',DoubleType(),True)),True)\n",
    "\n",
    "\n",
    "newData = spark.readStream.schema(schema).json(\"/sparkdata/PUBG/IntegratedData/\")\n",
    "landingPlaceDF = newData.groupBy('mapName','airplaneRoute','landingPlace','ranking').agg(count('ranking').alias('count'))\n",
    "query = landingPlaceDF.writeStream.outputMode('update').format(\"console\").start()\n",
    "\n",
    "query.awaitTermination()"
   ]
  },
  {
   "cell_type": "code",
   "execution_count": null,
   "id": "253fb4a2",
   "metadata": {},
   "outputs": [],
   "source": []
  }
 ],
 "metadata": {
  "kernelspec": {
   "display_name": "Python 3",
   "language": "python",
   "name": "python3"
  },
  "language_info": {
   "codemirror_mode": {
    "name": "ipython",
    "version": 3
   },
   "file_extension": ".py",
   "mimetype": "text/x-python",
   "name": "python",
   "nbconvert_exporter": "python",
   "pygments_lexer": "ipython3",
   "version": "3.6.13"
  }
 },
 "nbformat": 4,
 "nbformat_minor": 5
}
