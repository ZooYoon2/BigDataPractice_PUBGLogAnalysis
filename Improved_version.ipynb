{
 "cells": [
  {
   "cell_type": "code",
   "execution_count": 1,
   "id": "58d93554",
   "metadata": {},
   "outputs": [],
   "source": [
    "from pyspark.sql.types import *\n",
    "from pyspark.sql.functions import *\n",
    "from pyspark import SparkConf\n",
    "import json\n",
    "from pyspark import SparkContext,SparkFiles\n",
    "import numpy as np"
   ]
  },
  {
   "cell_type": "code",
   "execution_count": 2,
   "id": "e28abc72",
   "metadata": {},
   "outputs": [
    {
     "name": "stdout",
     "output_type": "stream",
     "text": [
      "root\n",
      " |-- createdAt: string (nullable = true)\n",
      " |-- duration: long (nullable = true)\n",
      " |-- gameMode: string (nullable = true)\n",
      " |-- id: string (nullable = true)\n",
      " |-- isCustomMatch: boolean (nullable = true)\n",
      " |-- mapName: string (nullable = true)\n",
      " |-- matchType: string (nullable = true)\n",
      " |-- seasonState: string (nullable = true)\n",
      " |-- shardId: string (nullable = true)\n",
      " |-- stats: string (nullable = true)\n",
      " |-- tags: string (nullable = true)\n",
      " |-- titleId: string (nullable = true)\n",
      " |-- type: string (nullable = true)\n",
      "\n",
      "+--------------------+--------------------+-----------+--------+\n",
      "|                  id|           createdAt|    mapName|duration|\n",
      "+--------------------+--------------------+-----------+--------+\n",
      "|57dff48b-45a6-4e2...|2022-05-26T01:59:10Z|Baltic_Main|    1844|\n",
      "|17562fa2-00f7-4dd...|2022-05-15T22:48:17Z|Baltic_Main|    1881|\n",
      "|33775097-2850-429...|2022-05-20T20:55:55Z| Tiger_Main|    1897|\n",
      "|ad7decd7-7fb4-405...|2022-05-20T01:36:18Z|Desert_Main|    1692|\n",
      "|5d3d4b8a-121e-4dd...|2022-05-21T22:17:36Z|Baltic_Main|    1491|\n",
      "+--------------------+--------------------+-----------+--------+\n",
      "only showing top 5 rows\n",
      "\n"
     ]
    }
   ],
   "source": [
    "#매치정보 합치기\n",
    "\n",
    "#매치정보\n",
    "matchDF = spark.read.format(\"json\").load(\"/sparkdata/PUBG/MatchesList1.json\").distinct()\n",
    "matchDF.printSchema()\n",
    "\n",
    "matchDF = matchDF.select('id','createdAt','mapName','duration')  \\\n",
    "    .filter((col(\"isCustomMatch\")==False) & (col(\"matchType\")==\"competitive\"))\n",
    "            \n",
    "matchDF.show(5)"
   ]
  },
  {
   "cell_type": "code",
   "execution_count": 3,
   "id": "66227e5b",
   "metadata": {},
   "outputs": [
    {
     "name": "stdout",
     "output_type": "stream",
     "text": [
      "root\n",
      " |-- blue: array (nullable = true)\n",
      " |    |-- element: array (containsNull = true)\n",
      " |    |    |-- element: double (containsNull = true)\n",
      " |-- matchId: string (nullable = true)\n",
      " |-- red: array (nullable = true)\n",
      " |    |-- element: array (containsNull = true)\n",
      " |    |    |-- element: double (containsNull = true)\n",
      " |-- white: array (nullable = true)\n",
      " |    |-- element: array (containsNull = true)\n",
      " |    |    |-- element: double (containsNull = true)\n",
      "\n",
      "+--------------------+--------------------+--------------------+--------------------+\n",
      "|                blue|             matchId|                 red|               white|\n",
      "+--------------------+--------------------+--------------------+--------------------+\n",
      "|[[0.0, 406387.5, ...|88951693-d6cc-43c...|[[0.0, 0.0, 0.0, ...|[[0.0, 0.0, 0.0, ...|\n",
      "|[[0.0, 406387.5, ...|7139c667-0799-4f1...|[[0.0, 0.0, 0.0, ...|[[0.0, 0.0, 0.0, ...|\n",
      "|[[0.0, 406387.5, ...|4fb5d5e5-11cd-4c0...|[[0.0, 0.0, 0.0, ...|[[0.0, 0.0, 0.0, ...|\n",
      "|[[0.0, 408000.0, ...|0c4c5491-9589-417...|[[0.0, 0.0, 0.0, ...|[[0.0, 0.0, 0.0, ...|\n",
      "|[[0.0, 101175.0, ...|1ebc47bd-a525-4e1...|[[0.0, 0.0, 0.0, ...|[[0.0, 0.0, 0.0, ...|\n",
      "+--------------------+--------------------+--------------------+--------------------+\n",
      "only showing top 5 rows\n",
      "\n"
     ]
    }
   ],
   "source": [
    "#매치 자기장정보\n",
    "circlePositionDF = spark.read.format(\"json\").load(\"/sparkdata/PUBG/Matches1_CirclePosition.json\").distinct()\n",
    "circlePositionDF.printSchema()\n",
    "circlePositionDF.show(5)"
   ]
  },
  {
   "cell_type": "code",
   "execution_count": 4,
   "id": "7a478ddc",
   "metadata": {},
   "outputs": [
    {
     "name": "stdout",
     "output_type": "stream",
     "text": [
      "root\n",
      " |-- intercept: double (nullable = true)\n",
      " |-- mapX: long (nullable = true)\n",
      " |-- matchId: string (nullable = true)\n",
      " |-- slope: double (nullable = true)\n",
      "\n",
      "+------------------+------+--------------------+-------------+\n",
      "|         intercept|  mapX|             matchId|        slope|\n",
      "+------------------+------+--------------------+-------------+\n",
      "|-1033813.819757835|409600|ad8cab68-412a-436...| 9.7036999784|\n",
      "|  42688.5710657231|204800|d370e4c8-41ab-455...| 0.1880605381|\n",
      "| -47814.6373893977|819200|f040f45c-c6ce-465...| 1.4857299105|\n",
      "| 440102.2867084884|819200|591d0213-56f6-4fc...| 0.2204598748|\n",
      "|-8539082.767434431|819200|a0639006-045e-42c...|21.0765695416|\n",
      "+------------------+------+--------------------+-------------+\n",
      "only showing top 5 rows\n",
      "\n"
     ]
    }
   ],
   "source": [
    "#매치 비행기정보\n",
    "airplaneRouteDF = spark.read.format(\"json\").load(\"/sparkdata/PUBG/Matches1_AirPlaneRoute.json\").distinct()\n",
    "airplaneRouteDF = airplaneRouteDF.na.drop()\n",
    "airplaneRouteDF.printSchema()\n",
    "airplaneRouteDF.show(5)"
   ]
  },
  {
   "cell_type": "code",
   "execution_count": 5,
   "id": "30624525",
   "metadata": {},
   "outputs": [
    {
     "name": "stdout",
     "output_type": "stream",
     "text": [
      "+--------------------+--------------------+-----------+--------+-------------+-----------------------+-------------------+--------------------+--------------------+\n",
      "|             matchId|           createdAt|    mapName|duration|mapSideLength|airplaneRoute_intercept|airplaneRoute_slope|          blueCircle|         whiteCircle|\n",
      "+--------------------+--------------------+-----------+--------+-------------+-----------------------+-------------------+--------------------+--------------------+\n",
      "|0ae4ee76-e0c2-4bb...|2022-05-23T06:06:32Z|Baltic_Main|    1619|       819200|      611591.9402010179|      -0.5766222533|[[0.0, 406387.5, ...|[[0.0, 0.0, 0.0, ...|\n",
      "|168bf93d-38af-4aa...|2022-05-16T02:35:26Z|Baltic_Main|    1786|       819200|     1007058.4492530037|      -1.1085319537|[[0.0, 406387.5, ...|[[0.0, 0.0, 0.0, ...|\n",
      "|3acf4fd9-716f-47c...|2022-05-28T01:25:02Z|Desert_Main|    1739|       819200|     -731698.7205816631|       3.2363852302|[[0.0, 408000.0, ...|[[0.0, 0.0, 0.0, ...|\n",
      "|4f51f004-d69d-4fe...|2022-05-11T23:40:19Z|Desert_Main|    1794|       819200|      107027.0395405793|        0.841954437|[[0.0, 408000.0, ...|[[0.0, 0.0, 0.0, ...|\n",
      "|56901eea-f41e-46d...|2022-05-24T23:04:15Z|Desert_Main|    1655|       819200|      838892.2733942696|      -0.9935941951|[[0.0, 408000.0, ...|[[0.0, 0.0, 0.0, ...|\n",
      "|6093b714-511c-4b4...|2022-05-22T00:26:18Z|Desert_Main|    1507|       819200|      510542.3894846245|      -0.5194276887|[[0.0, 408000.0, ...|[[0.0, 0.0, 0.0, ...|\n",
      "|afaef784-4d55-484...|2022-05-24T15:56:48Z|Baltic_Main|    1649|       819200|   -2.44546523696701...|      47.7283306113|[[0.0, 406387.5, ...|[[0.0, 0.0, 0.0, ...|\n",
      "|b9738d8c-18aa-4b1...|2022-05-18T00:38:54Z|Baltic_Main|    1618|       819200|      256072.2040518089|       0.2643428569|[[0.0, 406387.5, ...|[[0.0, 0.0, 0.0, ...|\n",
      "|c5137c90-9c11-45e...|2022-05-22T07:14:02Z|Baltic_Main|    1891|       819200|      -4254268.58901834|       8.4890634607|[[0.0, 406387.5, ...|[[0.0, 0.0, 0.0, ...|\n",
      "|d3ce3c23-052e-416...|2022-05-11T18:35:30Z|Baltic_Main|    1662|       819200|     -362687.2553151442|       2.1296542401|[[0.0, 406387.5, ...|[[0.0, 0.0, 0.0, ...|\n",
      "+--------------------+--------------------+-----------+--------+-------------+-----------------------+-------------------+--------------------+--------------------+\n",
      "only showing top 10 rows\n",
      "\n",
      "root\n",
      " |-- matchId: string (nullable = true)\n",
      " |-- createdAt: string (nullable = true)\n",
      " |-- mapName: string (nullable = true)\n",
      " |-- duration: long (nullable = true)\n",
      " |-- mapSideLength: long (nullable = true)\n",
      " |-- airplaneRoute_intercept: double (nullable = true)\n",
      " |-- airplaneRoute_slope: double (nullable = true)\n",
      " |-- blueCircle: array (nullable = true)\n",
      " |    |-- element: array (containsNull = true)\n",
      " |    |    |-- element: double (containsNull = true)\n",
      " |-- whiteCircle: array (nullable = true)\n",
      " |    |-- element: array (containsNull = true)\n",
      " |    |    |-- element: double (containsNull = true)\n",
      "\n"
     ]
    }
   ],
   "source": [
    "matchInfoDF = matchDF.join(airplaneRouteDF,matchDF.id==airplaneRouteDF.matchId,\"inner\") \\\n",
    "    .join(circlePositionDF,matchDF.id==circlePositionDF.matchId,\"inner\") \\\n",
    "    .select(matchDF.id.alias(\"matchId\"),matchDF.createdAt,matchDF.mapName,matchDF.duration \\\n",
    "            , airplaneRouteDF.mapX.alias(\"mapSideLength\"), airplaneRouteDF.intercept.alias(\"airplaneRoute_intercept\") \\\n",
    "            , airplaneRouteDF.slope.alias(\"airplaneRoute_slope\") \\\n",
    "            , circlePositionDF.blue.alias(\"blueCircle\"),circlePositionDF.white.alias(\"whiteCircle\"))\n",
    "\n",
    "matchInfoDF.show(10)\n",
    "matchInfoDF.printSchema()"
   ]
  },
  {
   "cell_type": "code",
   "execution_count": 6,
   "id": "3191385b",
   "metadata": {},
   "outputs": [
    {
     "name": "stdout",
     "output_type": "stream",
     "text": [
      "root\n",
      " |-- matchId: string (nullable = true)\n",
      " |-- createAt: string (nullable = true)\n",
      " |-- mapName: string (nullable = true)\n",
      " |-- duration: long (nullable = true)\n",
      " |-- mapSize: long (nullable = true)\n",
      " |-- airplaneRoute: string (nullable = true)\n",
      " |-- blueCircle: array (nullable = true)\n",
      " |    |-- element: array (containsNull = true)\n",
      " |    |    |-- element: double (containsNull = true)\n",
      " |-- whiteCircle: array (nullable = true)\n",
      " |    |-- element: array (containsNull = true)\n",
      " |    |    |-- element: double (containsNull = true)\n",
      "\n"
     ]
    }
   ],
   "source": [
    "#비행기 기울기 절편에 따른 동선명으로 반환\n",
    "def airPlaneRouteTrans(data):\n",
    "    mapSize = data[4]\n",
    "    blockSize = mapSize/3\n",
    "    slope = data[6]\n",
    "    intercept = data[5]\n",
    "    points = []\n",
    "    points.append( (int((0-intercept)/slope),0) ) # tuple(x,y)\n",
    "    points.append( (int(((mapSize/2)-intercept)/slope),mapSize/2) )\n",
    "    points.append( (int((mapSize-intercept)/slope),mapSize) )\n",
    "    blockPos = []\n",
    "    for x, y in points:\n",
    "        block=0\n",
    "        if (x >= 0) and (x <= blockSize): #left\n",
    "            block=1\n",
    "        elif  x<=blockSize*2 : #middle\n",
    "            block=2\n",
    "        else: #right\n",
    "            block=3\n",
    "        if (y >= 0) and (y <= blockSize): #up\n",
    "            block += 0\n",
    "        elif y<=blockSize*2 : #middle\n",
    "            block += 3\n",
    "        else: #down\n",
    "            block += 6\n",
    "        blockPos.append(block)\n",
    "        \n",
    "    Route = \"Don't Know\"\n",
    "    if blockPos[1] == 5:\n",
    "        Route = \"Middle\"\n",
    "    elif (blockPos[0],blockPos[2]) in [(2,8),(8,2),(4,6),(6,4),(1,9),(9,1),(3,7),(7,3)]:\n",
    "        Route = \"Middle\"\n",
    "    elif (blockPos[0],blockPos[2]) in [(1,3),(3,1),(7,9),(9,7),(1,7),(7,1),(3,9),(9,3)]:\n",
    "        if (blockPos[0],blockPos[2]) in [(1,3),(3,1)]:\n",
    "            Route = \"UpSide\"\n",
    "        elif (blockPos[0],blockPos[2]) in [(7,9),(9,7)]:\n",
    "            Route = \"DownSide\"\n",
    "        elif (blockPos[0],blockPos[2]) in [(1,7),(7,1)]:\n",
    "            Route = \"LeftSide\"\n",
    "        elif (blockPos[0],blockPos[2]) in [(3,9),(9,3)]:\n",
    "            Route = \"RightSide\"\n",
    "    elif (blockPos[0] in [2,8]) or (blockPos[2] in [2,8]):\n",
    "        if blockPos[1]==4:\n",
    "            Route = \"LeftSide_Middle\"\n",
    "        elif blockPos[1]==6:\n",
    "            Route = \"RightSide_Middle\"\n",
    "        else:\n",
    "            Route = \"Outer\"\n",
    "    return (data[0],data[1],data[2],data[3],data[4],Route,data[7],data[8])\n",
    "\n",
    "tempRDD = matchInfoDF.rdd.map(airPlaneRouteTrans)\n",
    "matchInfoDF = tempRDD.toDF(['matchId','createAt','mapName','duration','mapSize',\\\n",
    "                                'airplaneRoute','blueCircle','whiteCircle'])\n",
    "matchInfoDF.printSchema()"
   ]
  },
  {
   "cell_type": "code",
   "execution_count": 7,
   "id": "d77d6247",
   "metadata": {},
   "outputs": [
    {
     "name": "stdout",
     "output_type": "stream",
     "text": [
      "+--------------------+--------------------+-----------+--------+-------+----------------+--------------------+--------------------+\n",
      "|             matchId|            createAt|    mapName|duration|mapSize|   airplaneRoute|          blueCircle|         whiteCircle|\n",
      "+--------------------+--------------------+-----------+--------+-------+----------------+--------------------+--------------------+\n",
      "|0ae4ee76-e0c2-4bb...|2022-05-23T06:06:32Z|Baltic_Main|    1619| 819200|          Middle|[[0.0, 406387.5, ...|[[0.0, 0.0, 0.0, ...|\n",
      "|168bf93d-38af-4aa...|2022-05-16T02:35:26Z|Baltic_Main|    1786| 819200|          Middle|[[0.0, 406387.5, ...|[[0.0, 0.0, 0.0, ...|\n",
      "|3acf4fd9-716f-47c...|2022-05-28T01:25:02Z|Desert_Main|    1739| 819200|          Middle|[[0.0, 408000.0, ...|[[0.0, 0.0, 0.0, ...|\n",
      "|4f51f004-d69d-4fe...|2022-05-11T23:40:19Z|Desert_Main|    1794| 819200|          Middle|[[0.0, 408000.0, ...|[[0.0, 0.0, 0.0, ...|\n",
      "|56901eea-f41e-46d...|2022-05-24T23:04:15Z|Desert_Main|    1655| 819200|          Middle|[[0.0, 408000.0, ...|[[0.0, 0.0, 0.0, ...|\n",
      "|6093b714-511c-4b4...|2022-05-22T00:26:18Z|Desert_Main|    1507| 819200| LeftSide_Middle|[[0.0, 408000.0, ...|[[0.0, 0.0, 0.0, ...|\n",
      "|afaef784-4d55-484...|2022-05-24T15:56:48Z|Baltic_Main|    1649| 819200|          Middle|[[0.0, 406387.5, ...|[[0.0, 0.0, 0.0, ...|\n",
      "|b9738d8c-18aa-4b1...|2022-05-18T00:38:54Z|Baltic_Main|    1618| 819200|RightSide_Middle|[[0.0, 406387.5, ...|[[0.0, 0.0, 0.0, ...|\n",
      "|c5137c90-9c11-45e...|2022-05-22T07:14:02Z|Baltic_Main|    1891| 819200|RightSide_Middle|[[0.0, 406387.5, ...|[[0.0, 0.0, 0.0, ...|\n",
      "|d3ce3c23-052e-416...|2022-05-11T18:35:30Z|Baltic_Main|    1662| 819200|          Middle|[[0.0, 406387.5, ...|[[0.0, 0.0, 0.0, ...|\n",
      "|da960cdd-a12d-4a7...|2022-05-18T07:29:48Z|Baltic_Main|    1784| 819200|RightSide_Middle|[[0.0, 406387.5, ...|[[0.0, 0.0, 0.0, ...|\n",
      "|e0574b46-5870-4f3...|2022-05-12T01:42:58Z|Desert_Main|    1890| 819200|          Middle|[[0.0, 408000.0, ...|[[0.0, 0.0, 0.0, ...|\n",
      "|055abf3c-0bc0-443...|2022-05-15T17:30:05Z|Desert_Main|    1904| 819200|          Middle|[[0.0, 408000.0, ...|[[0.0, 0.0, 0.0, ...|\n",
      "|2d2dfe29-f0d1-477...|2022-05-21T12:31:15Z|Baltic_Main|    1914| 819200|          Middle|[[0.0, 406387.5, ...|[[0.0, 0.0, 0.0, ...|\n",
      "|3584b1a5-4b80-4f2...|2022-05-17T04:34:14Z|Baltic_Main|    1512| 819200|RightSide_Middle|[[0.0, 406387.5, ...|[[0.0, 0.0, 0.0, ...|\n",
      "|3e349a8a-0129-419...|2022-05-23T23:01:34Z|Desert_Main|    1630| 819200|          Middle|[[0.0, 408000.0, ...|[[0.0, 0.0, 0.0, ...|\n",
      "|8050e151-3032-41a...|2022-05-13T22:41:35Z|Baltic_Main|    1908| 819200|          Middle|[[0.0, 406387.5, ...|[[0.0, 0.0, 0.0, ...|\n",
      "|a971e229-ef8f-461...|2022-05-27T08:26:59Z|Baltic_Main|    1503| 819200| LeftSide_Middle|[[0.0, 406387.5, ...|[[0.0, 0.0, 0.0, ...|\n",
      "|ba997b57-3231-462...|2022-05-21T08:05:06Z|Baltic_Main|    1627| 819200| LeftSide_Middle|[[0.0, 406387.5, ...|[[0.0, 0.0, 0.0, ...|\n",
      "|fe698763-756e-494...|2022-05-14T16:30:12Z|Desert_Main|    1857| 819200| LeftSide_Middle|[[0.0, 408000.0, ...|[[0.0, 0.0, 0.0, ...|\n",
      "+--------------------+--------------------+-----------+--------+-------+----------------+--------------------+--------------------+\n",
      "only showing top 20 rows\n",
      "\n"
     ]
    }
   ],
   "source": [
    "matchInfoDF.show(20)"
   ]
  },
  {
   "cell_type": "code",
   "execution_count": 8,
   "id": "60d660c6",
   "metadata": {},
   "outputs": [
    {
     "name": "stdout",
     "output_type": "stream",
     "text": [
      "+-----------+----------------+--------------------+\n",
      "|mapName    |airplaneRoute   |count(airplaneRoute)|\n",
      "+-----------+----------------+--------------------+\n",
      "|Baltic_Main|LeftSide_Middle |126                 |\n",
      "|Baltic_Main|Middle          |688                 |\n",
      "|Baltic_Main|RightSide_Middle|172                 |\n",
      "|Baltic_Main|RightSide       |1                   |\n",
      "|Desert_Main|Middle          |676                 |\n",
      "|Desert_Main|LeftSide_Middle |146                 |\n",
      "|Desert_Main|RightSide_Middle|143                 |\n",
      "+-----------+----------------+--------------------+\n",
      "\n"
     ]
    }
   ],
   "source": [
    "#비행기 정보 통계\n",
    "matchInfoDF.groupBy('mapName','airplaneRoute').agg(count('airplaneRoute')).orderBy('mapName').show(50,truncate = False)"
   ]
  },
  {
   "cell_type": "code",
   "execution_count": 9,
   "id": "3cd9ff51",
   "metadata": {},
   "outputs": [
    {
     "name": "stdout",
     "output_type": "stream",
     "text": [
      "+--------------------+----------------+-------+--------------------+--------------------+\n",
      "|             matchId|      playerName|ranking|                   x|                   y|\n",
      "+--------------------+----------------+-------+--------------------+--------------------+\n",
      "|b9337288-2cce-4f0...|J-SHOWMETHEMONEY|      6|{null, null, null...|{null, null, null...|\n",
      "|3afe59b2-cff9-445...|       KR-LIZARD|      2|{null, null, null...|{null, null, null...|\n",
      "|a2235a57-195d-470...|        BZG_OSAL|     12|{null, null, null...|{null, null, null...|\n",
      "|a2235a57-195d-470...|       AMG_JIANT|      5|{null, null, null...|{null, null, null...|\n",
      "|8a36f768-2c8b-4b7...|      KOR_JS3778|     12|{null, null, null...|{null, null, null...|\n",
      "|a4bc5e6c-f1f1-452...|     Hyein2da-_-|     11|{null, null, null...|{null, null, null...|\n",
      "|475c964d-c67d-4be...|  SwankyPantsGod|      2|{null, null, null...|{null, null, null...|\n",
      "|92d7fcdd-9cf5-42f...|         DC_Rome|      6|{null, null, null...|{null, null, null...|\n",
      "|6e5514ba-d433-4ff...|           KTX04|      7|{null, null, null...|{null, null, null...|\n",
      "|002b52eb-da81-481...|           EwnoW|     10|{null, null, null...|{null, null, null...|\n",
      "+--------------------+----------------+-------+--------------------+--------------------+\n",
      "only showing top 10 rows\n",
      "\n"
     ]
    }
   ],
   "source": [
    "#플레이어 정보\n",
    "\n",
    "#플레이어 착지 위치\n",
    "playerLandingDF = spark.read.format(\"json\").load(\"/sparkdata/PUBG/Matches1_PlayerLading.json\").distinct()\n",
    "playerLandingDF.show(10)"
   ]
  },
  {
   "cell_type": "code",
   "execution_count": 10,
   "id": "3096eba9",
   "metadata": {},
   "outputs": [
    {
     "name": "stdout",
     "output_type": "stream",
     "text": [
      "root\n",
      " |-- matchId: string (nullable = true)\n",
      " |-- playerName: string (nullable = true)\n",
      " |-- ranking: long (nullable = true)\n",
      " |-- xPos: double (nullable = true)\n",
      " |-- yPos: double (nullable = true)\n",
      "\n",
      "+--------------------+----------------+-------+-------------+------------+\n",
      "|             matchId|      playerName|ranking|         xPos|        yPos|\n",
      "+--------------------+----------------+-------+-------------+------------+\n",
      "|b9337288-2cce-4f0...|J-SHOWMETHEMONEY|      6|   458143.875| 626564.0625|\n",
      "|3afe59b2-cff9-445...|       KR-LIZARD|      2|    399246.25|487224.71875|\n",
      "|a2235a57-195d-470...|        BZG_OSAL|     12|   301561.125|430548.53125|\n",
      "|a2235a57-195d-470...|       AMG_JIANT|      5|71759.5859375| 456179.3125|\n",
      "|8a36f768-2c8b-4b7...|      KOR_JS3778|     12|  643030.8125|245492.71875|\n",
      "|a4bc5e6c-f1f1-452...|     Hyein2da-_-|     11|212831.734375| 272995.9375|\n",
      "|475c964d-c67d-4be...|  SwankyPantsGod|      2| 437845.71875|278797.65625|\n",
      "|92d7fcdd-9cf5-42f...|         DC_Rome|      6|  586717.5625| 343120.6875|\n",
      "|6e5514ba-d433-4ff...|           KTX04|      7|  319892.8125| 635509.8125|\n",
      "|002b52eb-da81-481...|           EwnoW|     10|  483815.3125|  564255.875|\n",
      "+--------------------+----------------+-------+-------------+------------+\n",
      "only showing top 10 rows\n",
      "\n"
     ]
    }
   ],
   "source": [
    "def findPos(data):\n",
    "    Pos=0\n",
    "    for value in data:\n",
    "        if not value == None:\n",
    "            Pos = value\n",
    "    return Pos\n",
    "\n",
    "convertUDF = udf(lambda x:findPos(x),DoubleType())\n",
    "\n",
    "playerLandingDF = playerLandingDF.select(col('matchId'),col('playerName'),col('ranking'),convertUDF(col('x')).alias('xPos')\\\n",
    "                                         ,convertUDF(col('y')).alias('yPos')).distinct()\n",
    "playerLandingDF.printSchema()\n",
    "playerLandingDF.show(10)"
   ]
  },
  {
   "cell_type": "code",
   "execution_count": 11,
   "id": "f414d2c5",
   "metadata": {},
   "outputs": [
    {
     "name": "stdout",
     "output_type": "stream",
     "text": [
      "+--------------------+-----------+-------+--------------+------------+-------------+\n",
      "|             matchId|    mapName|ranking|    playerName|        xPos|         yPos|\n",
      "+--------------------+-----------+-------+--------------+------------+-------------+\n",
      "|0ae4ee76-e0c2-4bb...|Baltic_Main|     11| Fiesta_Taeseo|   618125.25|     612138.5|\n",
      "|0ae4ee76-e0c2-4bb...|Baltic_Main|      3|Valentino_TANK| 450529.0625| 315106.40625|\n",
      "|0ae4ee76-e0c2-4bb...|Baltic_Main|     16|        JJ6469| 579842.6875| 485966.03125|\n",
      "|0ae4ee76-e0c2-4bb...|Baltic_Main|      4|   MAYBACHSAJO|155383.96875| 276704.84375|\n",
      "|0ae4ee76-e0c2-4bb...|Baltic_Main|      7|   joonhee0820| 599804.3125| 481784.90625|\n",
      "|0ae4ee76-e0c2-4bb...|Baltic_Main|     10|         Ya_TV| 361404.8125| 514392.90625|\n",
      "|0ae4ee76-e0c2-4bb...|Baltic_Main|      3|      Le-mario|450773.90625|    314778.75|\n",
      "|0ae4ee76-e0c2-4bb...|Baltic_Main|     13|  LeeyongZOO12| 361271.6875| 296037.40625|\n",
      "|0ae4ee76-e0c2-4bb...|Baltic_Main|      9|     14K-Dyson|    372125.0|  415906.4375|\n",
      "|0ae4ee76-e0c2-4bb...|Baltic_Main|      1|        hosiss|    203503.5|233088.078125|\n",
      "+--------------------+-----------+-------+--------------+------------+-------------+\n",
      "only showing top 10 rows\n",
      "\n"
     ]
    }
   ],
   "source": [
    "playerLandingDF = playerLandingDF.join(matchInfoDF, playerLandingDF['matchId']==matchInfoDF['matchId'],'inner')\\\n",
    "            .select(matchInfoDF['matchId'], matchInfoDF['mapName'], playerLandingDF['ranking'] \\\n",
    "             ,playerLandingDF['playerName'], playerLandingDF['xPos'], playerLandingDF['yPos']).na.drop()\n",
    "playerLandingDF.show(10)"
   ]
  },
  {
   "cell_type": "code",
   "execution_count": 12,
   "id": "8b40f519",
   "metadata": {},
   "outputs": [
    {
     "name": "stdout",
     "output_type": "stream",
     "text": [
      "+--------------------+-----------+-------+--------------+-------------------+\n",
      "|             matchId|    mapName|ranking|    playerName|       landingPlace|\n",
      "+--------------------+-----------+-------+--------------+-------------------+\n",
      "|0ae4ee76-e0c2-4bb...|Baltic_Main|     11| Fiesta_Taeseo|        Novorepnoye|\n",
      "|0ae4ee76-e0c2-4bb...|Baltic_Main|      3|Valentino_TANK|            another|\n",
      "|0ae4ee76-e0c2-4bb...|Baltic_Main|     16|        JJ6469|              Mylta|\n",
      "|0ae4ee76-e0c2-4bb...|Baltic_Main|      4|   MAYBACHSAJO|    Georgopol_south|\n",
      "|0ae4ee76-e0c2-4bb...|Baltic_Main|      7|   joonhee0820|              Mylta|\n",
      "|0ae4ee76-e0c2-4bb...|Baltic_Main|     10|         Ya_TV|      MiddleVillage|\n",
      "|0ae4ee76-e0c2-4bb...|Baltic_Main|      3|      Le-mario|MiddleBridgeVillage|\n",
      "|0ae4ee76-e0c2-4bb...|Baltic_Main|     13|  LeeyongZOO12|           AquaCity|\n",
      "|0ae4ee76-e0c2-4bb...|Baltic_Main|      9|     14K-Dyson|           Pochinki|\n",
      "|0ae4ee76-e0c2-4bb...|Baltic_Main|      1|        hosiss|    Georgopol_north|\n",
      "+--------------------+-----------+-------+--------------+-------------------+\n",
      "only showing top 10 rows\n",
      "\n"
     ]
    }
   ],
   "source": [
    "from shapely.geometry import Point\n",
    "from shapely.geometry.polygon import Polygon\n",
    "#폴리곤정보 불러오기\n",
    "ErangelPolygon = json.load(open(\"Erangel_LocalPos_Polygon.json\"))\n",
    "ErangelArea = dict()\n",
    "for name,pos in ErangelPolygon.items():\n",
    "    pos = (np.array(pos)*100).tolist()\n",
    "    ErangelArea[name]=Polygon(pos)\n",
    "    \n",
    "MiramarPolygon = json.load(open(\"Miramar_LocalPos_Polygon.json\"))\n",
    "MiramarArea = dict()\n",
    "for name,pos in MiramarPolygon.items():\n",
    "    pos = (np.array(pos)*100).tolist()\n",
    "    MiramarArea[name]=Polygon(pos)\n",
    "\n",
    "#폴리곤정보로 명칭 변경\n",
    "tempDF = playerLandingDF.collect()\n",
    "tempData = []\n",
    "for data in tempDF:\n",
    "    localName = 'another'\n",
    "    mapName = data[1]\n",
    "    if mapName == 'Baltic_Main':\n",
    "        for name,polygon in ErangelArea.items():\n",
    "            if polygon.contains(Point(data[4],data[5])):\n",
    "                localName = name\n",
    "    elif mapName == 'Desert_Main':\n",
    "        for name,polygon in MiramarArea.items():\n",
    "            if polygon.contains(Point(data[4],data[5])):\n",
    "                localName = name\n",
    "    tempData.append((data[0],data[1],data[2],data[3],localName))\n",
    "\n",
    "playerLandingDF = spark.createDataFrame(tempData,['matchId','mapName','ranking','playerName','landingPlace'])\n",
    "playerLandingDF.show(10)"
   ]
  },
  {
   "cell_type": "code",
   "execution_count": 13,
   "id": "e5af8a8d",
   "metadata": {},
   "outputs": [
    {
     "name": "stdout",
     "output_type": "stream",
     "text": [
      "+--------------------+----------------+--------------------+-------+\n",
      "|             matchId|      playerName|            position|ranking|\n",
      "+--------------------+----------------+--------------------+-------+\n",
      "|21bf1ec8-4ee8-434...|          ATS_SY|[[5.481, 295967.6...|     14|\n",
      "|b4fc5a91-a416-40c...|         NBG_xXx|[[1.649, 161841.7...|     14|\n",
      "|b811ba90-7327-4d8...|       BoB_5king|[[2.754, 939804.0...|     16|\n",
      "|e808b51a-881b-49a...|     Redsox_jjun|[[9.415, 187888.5...|      1|\n",
      "|376564f4-b798-4b8...|       qjhwhwehq|[[8.677, 298904.6...|      5|\n",
      "|75e31315-936e-48f...|         HB_SOSO|[[4.234, 914450.4...|     15|\n",
      "|75e31315-936e-48f...|      WG_lliliil|[[5.939, 890111.4...|     10|\n",
      "|e205544b-ae69-492...|OcO_Uncle_BongTV|[[2.052, 462802.5...|     12|\n",
      "|e205544b-ae69-492...|  Kings_benjamin|[[2.286, 463071.6...|      7|\n",
      "|3769da96-c4f0-4ae...|       bjRungRan|[[8.13, 795046.93...|     10|\n",
      "+--------------------+----------------+--------------------+-------+\n",
      "only showing top 10 rows\n",
      "\n"
     ]
    }
   ],
   "source": [
    "#플레이어 동선\n",
    "playerPositionDF = spark.read.format('json').load(\"/sparkdata/PUBG/Matches1_PlayerPosition_Baltic_Main.json\").distinct()\n",
    "playerPositionDF.show(10)"
   ]
  },
  {
   "cell_type": "code",
   "execution_count": 14,
   "id": "45b10fb6",
   "metadata": {},
   "outputs": [
    {
     "name": "stdout",
     "output_type": "stream",
     "text": [
      "root\n",
      " |-- matchId: string (nullable = true)\n",
      " |-- playerName: string (nullable = true)\n",
      " |-- position: array (nullable = true)\n",
      " |    |-- element: array (containsNull = true)\n",
      " |    |    |-- element: double (containsNull = true)\n",
      " |-- ranking: long (nullable = true)\n",
      "\n",
      "root\n",
      " |-- matchId: string (nullable = true)\n",
      " |-- createAt: string (nullable = true)\n",
      " |-- mapName: string (nullable = true)\n",
      " |-- duration: long (nullable = true)\n",
      " |-- mapSize: long (nullable = true)\n",
      " |-- airplaneRoute: string (nullable = true)\n",
      " |-- blueCircle: array (nullable = true)\n",
      " |    |-- element: array (containsNull = true)\n",
      " |    |    |-- element: double (containsNull = true)\n",
      " |-- whiteCircle: array (nullable = true)\n",
      " |    |-- element: array (containsNull = true)\n",
      " |    |    |-- element: double (containsNull = true)\n",
      "\n"
     ]
    }
   ],
   "source": [
    "playerPositionDF.printSchema()\n",
    "matchInfoDF.printSchema()"
   ]
  },
  {
   "cell_type": "code",
   "execution_count": 15,
   "id": "4dd37ae8",
   "metadata": {},
   "outputs": [
    {
     "name": "stdout",
     "output_type": "stream",
     "text": [
      "root\n",
      " |-- matchId: string (nullable = true)\n",
      " |-- mapName: string (nullable = true)\n",
      " |-- duration: long (nullable = true)\n",
      " |-- blueCircle: array (nullable = true)\n",
      " |    |-- element: array (containsNull = true)\n",
      " |    |    |-- element: double (containsNull = true)\n",
      " |-- whiteCircle: array (nullable = true)\n",
      " |    |-- element: array (containsNull = true)\n",
      " |    |    |-- element: double (containsNull = true)\n",
      " |-- playerName: string (nullable = true)\n",
      " |-- ranking: long (nullable = true)\n",
      " |-- position: array (nullable = true)\n",
      " |    |-- element: array (containsNull = true)\n",
      " |    |    |-- element: double (containsNull = true)\n",
      "\n"
     ]
    }
   ],
   "source": [
    "#자기장과 비교를 위해 조인연산\n",
    "tempDF = playerPositionDF.alias('Pos').join(matchInfoDF.alias('Matches') \\\n",
    "             ,playerPositionDF['matchId']==matchInfoDF['matchId'],'inner')  \\\n",
    "             .select('Matches.matchId','Matches.mapName','Matches.duration','Matches.blueCircle','Matches.whiteCircle'\\\n",
    "             ,'Pos.playerName','Pos.ranking','Pos.position')\n",
    "\n",
    "tempDF.printSchema()"
   ]
  },
  {
   "cell_type": "code",
   "execution_count": 16,
   "id": "890c83e0",
   "metadata": {},
   "outputs": [],
   "source": [
    "#총 이동거리로 변환\n",
    "def DistancePlayer(position):\n",
    "    import builtins\n",
    "    round = getattr(builtins, \"round\")\n",
    "    abs = getattr(builtins, \"abs\")\n",
    "    moveDistance = 0\n",
    "    liveTime = 0\n",
    "    if len(position)!=0:\n",
    "        liveTime = position[-1][0]\n",
    "    for idx, pos in enumerate(position[1:]):\n",
    "        x2,y2 = pos[1],pos[2]\n",
    "        x1,y1 = position[idx][1],position[idx][2]\n",
    "        moveDistance += ((abs(x2-x1)**2)+(abs(y2-y1)**2))**(1/2) / 102.4\n",
    "    moveDistance = round(moveDistance,10)\n",
    "    return moveDistance, liveTime"
   ]
  },
  {
   "cell_type": "code",
   "execution_count": 17,
   "id": "955794ec",
   "metadata": {},
   "outputs": [],
   "source": [
    "#자기장과의 거리 값으로 변환\n",
    "def DistancePlayerAndCircle(blueCircle,whiteCircle,position):  \n",
    "    WhiteDistance = []\n",
    "    BlueDistance = []\n",
    "\n",
    "    weight = 0.7\n",
    "    cnt=0\n",
    "    for pos in position:\n",
    "        Ptime = pos[0]\n",
    "        timecheck=0\n",
    "        for point, Ctime in enumerate([tm[0] for tm in whiteCircle]):\n",
    "            if Ptime < Ctime:\n",
    "                timecheck = point\n",
    "                break\n",
    "                \n",
    "        posX = pos[1]\n",
    "        posY = pos[2]\n",
    "        \n",
    "        if ((cnt%18 == 0) & (cnt!=0)):\n",
    "            weight *=0.7\n",
    "        \n",
    "        WcircleX = whiteCircle[point][1]\n",
    "        WcircleY = whiteCircle[point][2]\n",
    "        WcircleR = whiteCircle[point][4]\n",
    "        \n",
    "        import builtins\n",
    "        abs = getattr(builtins, \"abs\") #내장함수abs와 spark.abs 덮어씌우기\n",
    "        round = getattr(builtins, \"round\")\n",
    "        \n",
    "        BcircleX = blueCircle[point][1]\n",
    "        BcircleY = blueCircle[point][2]\n",
    "        BcircleR = blueCircle[point][4]\n",
    "        \n",
    "        BDistance = (BcircleR - ((abs(BcircleX-posX)**2)+(abs(BcircleY-posY)**2))**(1/2))/BcircleR\n",
    "        BlueDistance.append( (Ptime, round(BDistance * (1-weight),10)) )\n",
    "        \n",
    "        if not WcircleR == 0:\n",
    "            WDistance = ((abs(WcircleX-posX)**2)+(abs(WcircleY-posY)**2))**(1/2) / BcircleR\n",
    "            WhiteDistance.append( (Ptime,round(WDistance * (1-weight),10)) ) #T\n",
    "        cnt+=1\n",
    "        \n",
    "    return WhiteDistance, BlueDistance\n"
   ]
  },
  {
   "cell_type": "code",
   "execution_count": 18,
   "id": "49632eaf",
   "metadata": {},
   "outputs": [
    {
     "name": "stdout",
     "output_type": "stream",
     "text": [
      "+--------------------+-----------+--------+----------------+-------+--------+----------------+--------------------+--------------------+\n",
      "|             matchId|    mapName|duration|      playerName|ranking|liveTime|    moveDistance| WhiteCircleDistance|  BlueCircleDistance|\n",
      "+--------------------+-----------+--------+----------------+-------+--------+----------------+--------------------+--------------------+\n",
      "|0ae4ee76-e0c2-4bb...|Baltic_Main|    1619|       14K-Dyson|      9|1160.667| 9643.2292407632|[{80.681, 0.15152...|[{0.651, 0.007199...|\n",
      "|0ae4ee76-e0c2-4bb...|Baltic_Main|    1619|         14K-nok|      9|1162.703|  9905.721689735|[{82.718, 0.17537...|[{2.722, 0.022547...|\n",
      "|0ae4ee76-e0c2-4bb...|Baltic_Main|    1619|    SeungHyeon-e|      5|1444.304|12279.7280191351|[{84.322, 0.06781...|[{4.292, 0.034180...|\n",
      "|0ae4ee76-e0c2-4bb...|Baltic_Main|    1619|         102beom|     11| 746.447|11021.4325406113|[{86.426, 0.09629...|[{6.429, 0.050018...|\n",
      "|0ae4ee76-e0c2-4bb...|Baltic_Main|    1619|      BS_Blossom|      8|1165.308| 8874.7279162044|[{85.324, 0.15819...|[{5.293, 0.041605...|\n",
      "|0ae4ee76-e0c2-4bb...|Baltic_Main|    1619|Valentino_Golden|      3|1558.451| 9722.3098323307|[{88.463, 0.12660...|[{8.466, 0.065110...|\n",
      "|0ae4ee76-e0c2-4bb...|Baltic_Main|    1619|     MAYBACHSAJO|      4|1391.303|10205.7259858574|[{81.282, 0.27497...|[{1.286, 0.011902...|\n",
      "|0ae4ee76-e0c2-4bb...|Baltic_Main|    1619|      candy-guy2|     10| 809.982| 8317.9146543898|[{89.967, 0.13158...|[{9.969, 0.076242...|\n",
      "|0ae4ee76-e0c2-4bb...|Baltic_Main|    1619|       Raebuk_TV|     10|1099.846|10907.1911382022|[{89.864, 0.19858...|[{9.868, 0.075500...|\n",
      "|0ae4ee76-e0c2-4bb...|Baltic_Main|    1619|        Le-mario|      3|1556.414| 9062.5359040143|[{86.425, 0.12466...|[{6.429, 0.050018...|\n",
      "+--------------------+-----------+--------+----------------+-------+--------+----------------+--------------------+--------------------+\n",
      "only showing top 10 rows\n",
      "\n"
     ]
    }
   ],
   "source": [
    "def summaryDistance(data):\n",
    "    matchId = data[0]\n",
    "    mapName = data[1]\n",
    "    duration = data[2]\n",
    "    blueCircle = data[3]\n",
    "    whiteCircle = data[4]\n",
    "    playerName = data[5]\n",
    "    ranking = data[6]\n",
    "    position = data[7]\n",
    "    moveDistance, liveTime = DistancePlayer(position)\n",
    "    WhiteDistance, BlueDistance = DistancePlayerAndCircle(blueCircle,whiteCircle,position)\n",
    "    \n",
    "    return matchId, mapName, duration, playerName, ranking, liveTime, moveDistance, WhiteDistance, BlueDistance\n",
    "\n",
    "tempRDD = tempDF.rdd.map(summaryDistance)\n",
    "playerDistanceDF = tempRDD.toDF(['matchId','mapName','duration','playerName' \\\n",
    "                             ,'ranking','liveTime','moveDistance','WhiteCircleDistance','BlueCircleDistance'])\n",
    "playerDistanceDF.show(10)"
   ]
  },
  {
   "cell_type": "code",
   "execution_count": 19,
   "id": "c62844dd",
   "metadata": {},
   "outputs": [
    {
     "name": "stdout",
     "output_type": "stream",
     "text": [
      "root\n",
      " |-- a_x: double (nullable = true)\n",
      " |-- a_y: double (nullable = true)\n",
      " |-- a_z: double (nullable = true)\n",
      " |-- attacker: string (nullable = true)\n",
      " |-- matchId: string (nullable = true)\n",
      " |-- time: double (nullable = true)\n",
      " |-- v_x: double (nullable = true)\n",
      " |-- v_y: double (nullable = true)\n",
      " |-- v_z: double (nullable = true)\n",
      "\n",
      "+------------+-----------+-------------+--------+--------------------+------+------------+-----------+-------------+\n",
      "|         a_x|        a_y|          a_z|attacker|             matchId|  time|         v_x|        v_y|          v_z|\n",
      "+------------+-----------+-------------+--------+--------------------+------+------------+-----------+-------------+\n",
      "|416962.09375|   668838.0|51.2099990845|  SMO1KE|ffff5561-157c-401...| 2.602|429306.59375|665495.5625|79.2099990845|\n",
      "|416962.09375|   668838.0|51.2099990845|  SMO1KE|ffff5561-157c-401...| 3.804| 429277.6875|665477.1875|79.2099990845|\n",
      "|416962.09375|   668838.0|51.2099990845|  SMO1KE|ffff5561-157c-401...|  6.31|428915.84375|665316.0625|51.2099990845|\n",
      "|420831.28125|661470.8125|84.1600036621|  SMO1KE|ffff5561-157c-401...|40.742|421856.46875|661569.0625|52.8800010681|\n",
      "|420831.28125|661470.8125|84.1600036621|  SMO1KE|ffff5561-157c-401...|40.742|421856.46875|661569.0625|52.8800010681|\n",
      "|420831.28125|661470.8125|84.1600036621|  SMO1KE|ffff5561-157c-401...|40.743|421856.46875|661569.0625|52.8800010681|\n",
      "|420831.28125|661470.8125|84.1600036621|  SMO1KE|ffff5561-157c-401...|40.743|421856.46875|661569.0625|52.8800010681|\n",
      "|420831.28125|661470.8125|84.1600036621|  SMO1KE|ffff5561-157c-401...|40.743|421856.46875|661569.0625|52.8800010681|\n",
      "|420910.96875|661290.9375|        26.25|  SMO1KE|ffff5561-157c-401...|44.949|421581.09375|  661470.25|87.6900024414|\n",
      "|420910.96875|661290.9375|        26.25|  SMO1KE|ffff5561-157c-401...| 44.95|421581.09375|  661470.25|87.6900024414|\n",
      "+------------+-----------+-------------+--------+--------------------+------+------------+-----------+-------------+\n",
      "only showing top 10 rows\n",
      "\n"
     ]
    }
   ],
   "source": [
    "#공격 로그\n",
    "AttackDF = spark.read.format('json').load(\"/sparkdata/PUBG/Matches1_AttackerList.json\")\n",
    "AttackDF.printSchema()\n",
    "AttackDF.show(10)"
   ]
  },
  {
   "cell_type": "code",
   "execution_count": 20,
   "id": "9204181e",
   "metadata": {},
   "outputs": [
    {
     "name": "stdout",
     "output_type": "stream",
     "text": [
      "+--------------------+-----------+--------------------+----------------+-----------+------------+---------------+-----------+------------+---------------+--------+\n",
      "|             matchId|    mapName|          blueCircle|        attacker|        a_x|         a_y|            a_z|        v_x|         v_y|            v_z|    time|\n",
      "+--------------------+-----------+--------------------+----------------+-----------+------------+---------------+-----------+------------+---------------+--------+\n",
      "|0ae4ee76-e0c2-4bb...|Baltic_Main|[[0.0, 406387.5, ...|     BITION_WAY_|591086.8125|480069.15625| 877.0399780273|585231.3125| 464668.6875|1747.0200195312| 358.716|\n",
      "|0ae4ee76-e0c2-4bb...|Baltic_Main|[[0.0, 406387.5, ...|        zzzz-ppp|568487.4375|  374673.875|2249.0900878906|  570208.25| 375674.1875|2177.6799316406| 967.834|\n",
      "|0ae4ee76-e0c2-4bb...|Baltic_Main|[[0.0, 406387.5, ...|          AMF_8x|628414.0625| 343200.4375| 406.5799865723|634305.9375|  343106.625|          377.0|1387.552|\n",
      "|0ae4ee76-e0c2-4bb...|Baltic_Main|[[0.0, 406387.5, ...|     sexybboy-0-| 591196.875|489311.96875| 892.5200195312|  594038.25|  486572.875| 901.4000244141| 427.935|\n",
      "|0ae4ee76-e0c2-4bb...|Baltic_Main|[[0.0, 406387.5, ...|Valentino_Golden| 628972.625|306327.71875|  972.950012207|   612831.0|  322717.125| 220.0599975586|1069.881|\n",
      "|0ae4ee76-e0c2-4bb...|Baltic_Main|[[0.0, 406387.5, ...|            P2ge| 654019.875|353508.15625|3183.2399902344| 653870.375|354210.15625|2650.1499023438| 674.796|\n",
      "|0ae4ee76-e0c2-4bb...|Baltic_Main|[[0.0, 406387.5, ...|        Smdht-EL| 646383.875| 322724.4375| 351.9400024414|  639987.75| 338037.1875| 382.5400085449|1429.934|\n",
      "|0ae4ee76-e0c2-4bb...|Baltic_Main|[[0.0, 406387.5, ...|           Ya_TV|584198.1875|388352.53125|3572.8200683594| 587402.125|  388538.375|3593.1101074219| 699.954|\n",
      "|0ae4ee76-e0c2-4bb...|Baltic_Main|[[0.0, 406387.5, ...|          AMF_8x|   631708.0|  343134.875| 406.5599975586|636614.4375|  343210.875| 608.9000244141| 788.795|\n",
      "|0ae4ee76-e0c2-4bb...|Baltic_Main|[[0.0, 406387.5, ...|     joonhee0820|592240.3125| 489239.5625| 904.9199829102|592948.0625|493137.28125| 244.5500030518| 506.538|\n",
      "+--------------------+-----------+--------------------+----------------+-----------+------------+---------------+-----------+------------+---------------+--------+\n",
      "only showing top 10 rows\n",
      "\n"
     ]
    }
   ],
   "source": [
    "#매치자기장 정보와 공격정보 묶기\n",
    "tempDF = AttackDF.distinct().alias('Atk').join(matchInfoDF.alias('MI') \\\n",
    "             ,AttackDF['matchId']==matchInfoDF['matchId'],'inner') \\\n",
    "             .select('MI.matchId','MI.mapName','MI.blueCircle','Atk.attacker' \\\n",
    "             ,'Atk.a_x','Atk.a_y','Atk.a_z','Atk.v_x','Atk.v_y','Atk.v_z','Atk.time')\n",
    "tempDF.show(10)"
   ]
  },
  {
   "cell_type": "code",
   "execution_count": 21,
   "id": "97cd1e78",
   "metadata": {},
   "outputs": [],
   "source": [
    "def combatDistance(a_x,a_y,a_z,v_x,v_y,v_z):\n",
    "    import builtins\n",
    "    round = getattr(builtins, \"round\")\n",
    "    abs = getattr(builtins, \"abs\")\n",
    "    Distance_xy = ((abs(a_x-v_x)**2)+(abs(a_y-v_y)**2))**(1/2)\n",
    "    Distance_xyz = ((Distance_xy**2)+(abs(a_z-v_z)**2))**(1/2)\n",
    "    Distance_meter = Distance_xyz/102.4\n",
    "    return round(Distance_meter,3)"
   ]
  },
  {
   "cell_type": "code",
   "execution_count": 22,
   "id": "71776d86",
   "metadata": {},
   "outputs": [],
   "source": [
    "def combatPosition(time,blueCircle,a_x,a_y): \n",
    "    import builtins\n",
    "    abs = getattr(builtins, \"abs\")\n",
    "    position = []\n",
    "    for idx, timeLine in enumerate(blueCircle):\n",
    "        if idx < len(blueCircle):\n",
    "            if (timeLine[0] < time) | (blueCircle[idx+1][0] >= time):#사이값\n",
    "                b_x = timeLine[1]\n",
    "                b_y = timeLine[2]\n",
    "                b_r = timeLine[4]\n",
    "                position = ((abs(b_x-a_x)**2)+(abs(b_y-a_y)**2))**(1/2)/102.4\n",
    "                break\n",
    "        else:#마지막\n",
    "            b_x = timeLine[1]\n",
    "            b_y = timeLine[2]\n",
    "            b_r = timeLine[3]\n",
    "            position = ((abs(b_x-a_x)**2)+(abs(b_y-a_y)**2))**(1/2)/102.4\n",
    "            break\n",
    "    return position"
   ]
  },
  {
   "cell_type": "code",
   "execution_count": 23,
   "id": "ab573253",
   "metadata": {},
   "outputs": [
    {
     "name": "stdout",
     "output_type": "stream",
     "text": [
      "+--------------------+-----------+----------------+----------+--------------+------------------+\n",
      "|             matchId|    mapName|      playerName|attackTime|attackDistance|BlueCircleDistance|\n",
      "+--------------------+-----------+----------------+----------+--------------+------------------+\n",
      "|0ae4ee76-e0c2-4bb...|Baltic_Main|     BITION_WAY_|   358.716|       161.123|1941.9313639238696|\n",
      "|0ae4ee76-e0c2-4bb...|Baltic_Main|        zzzz-ppp|   967.834|         19.45|1613.0182822618217|\n",
      "|0ae4ee76-e0c2-4bb...|Baltic_Main|          AMF_8x|  1387.552|        57.546|2254.3242401370117|\n",
      "|0ae4ee76-e0c2-4bb...|Baltic_Main|     sexybboy-0-|   427.935|        38.542|1978.1351003129334|\n",
      "|0ae4ee76-e0c2-4bb...|Baltic_Main|Valentino_Golden|  1069.881|       224.765|2383.2146516242196|\n",
      "|0ae4ee76-e0c2-4bb...|Baltic_Main|            P2ge|   674.796|         8.731| 2472.806242356927|\n",
      "|0ae4ee76-e0c2-4bb...|Baltic_Main|        Smdht-EL|  1429.934|        162.06|2482.0401341826673|\n",
      "|0ae4ee76-e0c2-4bb...|Baltic_Main|           Ya_TV|   699.954|        31.342|1745.3415225228987|\n",
      "|0ae4ee76-e0c2-4bb...|Baltic_Main|          AMF_8x|   788.795|        47.961|2285.4530032685284|\n",
      "|0ae4ee76-e0c2-4bb...|Baltic_Main|     joonhee0820|   506.538|         39.22|1987.1482915719457|\n",
      "+--------------------+-----------+----------------+----------+--------------+------------------+\n",
      "only showing top 10 rows\n",
      "\n"
     ]
    }
   ],
   "source": [
    "def summaryCombat(data):\n",
    "    matchId = data[0]\n",
    "    mapName = data[1]\n",
    "    blueCircle = data[2]\n",
    "    attacker = data[3]\n",
    "    time = data[10]\n",
    "    a_x = data[4]\n",
    "    a_y = data[5]\n",
    "    a_z = data[6] \n",
    "    v_x = data[7]\n",
    "    v_y = data[8]\n",
    "    v_z = data[9]\n",
    "    distance = combatDistance(a_x,a_y,a_z,v_x,v_y,v_z)\n",
    "    position = combatPosition(time,blueCircle,a_x,a_y)\n",
    "    return matchId, mapName, attacker, time, distance, position\n",
    "\n",
    "tempRDD = tempDF.rdd.map(summaryCombat)\n",
    "playerCombatDF = tempRDD.toDF(['matchId','mapName','playerName' \\\n",
    "                             ,'attackTime','attackDistance','BlueCircleDistance'])\n",
    "playerCombatDF.show(10)"
   ]
  },
  {
   "cell_type": "code",
   "execution_count": 24,
   "id": "864cc722",
   "metadata": {},
   "outputs": [],
   "source": [
    "#공격자에 대해서 공격정보 묶기 (ReduceByKey 사용)\n",
    "tempRDD = playerCombatDF.orderBy('attackTime') \\\n",
    "                        .rdd.map(lambda row : ((row[0],row[1],row[2]),[(row[3],row[4],row[5])])) \\\n",
    "                            .reduceByKey(lambda x,y: x+y) \\\n",
    "                            .map(lambda row : (row[0][0],row[0][1],row[0][2],row[1]))\n",
    "playerCombatDF = tempRDD.toDF(['matchId','mapName','playerName','attacks'])"
   ]
  },
  {
   "cell_type": "code",
   "execution_count": 25,
   "id": "80ae5749",
   "metadata": {},
   "outputs": [
    {
     "name": "stdout",
     "output_type": "stream",
     "text": [
      "+--------------------+-----------+----------------+--------------------+\n",
      "|             matchId|    mapName|      playerName|             attacks|\n",
      "+--------------------+-----------+----------------+--------------------+\n",
      "|a59d0f0c-8ec7-4e0...|Desert_Main|       Terranix-|[{72.18, 59.71, 3...|\n",
      "|7e01490f-b140-402...|Baltic_Main|       952949629|[{72.391, 43.221,...|\n",
      "|d198bd1c-845f-433...|Desert_Main|      9_ZAMMANBO|[{76.334, 4.885, ...|\n",
      "|217863e4-77b0-404...|Desert_Main|Military12Driver|[{76.741, 39.904,...|\n",
      "|5ed97409-1dba-4c3...|Desert_Main|   184cm85kg20cm|[{84.505, 113.058...|\n",
      "|1f50b081-77f1-407...|Desert_Main|         e_motap|[{98.227, 18.507,...|\n",
      "|83abdae4-3bd7-4db...|Baltic_Main|      LimBBaHong|[{98.292, 4.177, ...|\n",
      "|cab7f48c-651f-48b...|Baltic_Main|       WG_Inonix|[{99.298, 3.588, ...|\n",
      "|da708bec-63eb-4bd...|Baltic_Main|       Merong_HN|[{100.927, 59.435...|\n",
      "|79ba6c30-0ae4-48f...|Desert_Main|      CVT_Salido|[{101.986, 3.603,...|\n",
      "|0bd0fd7e-617e-48e...|Baltic_Main|TBU_Twitch_SP4RK|[{102.075, 228.51...|\n",
      "|33548ed6-73d3-401...|Baltic_Main|watermelonsugar_|[{105.402, 10.054...|\n",
      "|bba0c1c2-8bf7-452...|Baltic_Main|       AF_JaeHak|[{107.241, 70.761...|\n",
      "|f7f23cbc-a044-4ac...|Desert_Main|      hanstattoo|[{107.361, 33.225...|\n",
      "|16ff384f-5989-470...|Baltic_Main|        A-bit119|[{110.348, 7.075,...|\n",
      "|e4ecdb99-8a40-4eb...|Desert_Main|   White_Bear-_-|[{111.603, 17.981...|\n",
      "|217863e4-77b0-404...|Desert_Main|        GMS_ukZa|[{114.936, 23.267...|\n",
      "|214fdac4-1be4-488...|Baltic_Main|        SSSwsasq|[{117.384, 52.413...|\n",
      "|410debf3-0ec0-42b...|Baltic_Main|      Nopharming|[{121.857, 3.239,...|\n",
      "|c0dbfbe3-2816-403...|Desert_Main|      Sniper-IGH|[{122.678, 58.665...|\n",
      "+--------------------+-----------+----------------+--------------------+\n",
      "only showing top 20 rows\n",
      "\n"
     ]
    }
   ],
   "source": [
    "playerCombatDF.show(20)"
   ]
  },
  {
   "cell_type": "code",
   "execution_count": 26,
   "id": "937a33c5",
   "metadata": {},
   "outputs": [
    {
     "name": "stdout",
     "output_type": "stream",
     "text": [
      "root\n",
      " |-- matchId: string (nullable = true)\n",
      " |-- player: string (nullable = true)\n",
      " |-- time: string (nullable = true)\n",
      " |-- x: double (nullable = true)\n",
      " |-- y: double (nullable = true)\n",
      " |-- z: double (nullable = true)\n",
      "\n",
      "+--------------------+--------------+--------------------+-------------+-------------+---------------+\n",
      "|             matchId|        player|                time|            x|            y|              z|\n",
      "+--------------------+--------------+--------------------+-------------+-------------+---------------+\n",
      "|b9337288-2cce-4f0...|     K_JooHong|2022-05-14T14:18:...| 433253.84375| 467092.46875|2095.7080078125|\n",
      "|b9337288-2cce-4f0...|What9Sangman_2|2022-05-14T14:18:...|     427737.0|    327429.25| 784.8502197266|\n",
      "|b9337288-2cce-4f0...|    kim_seulki|2022-05-14T14:18:...| 408346.34375| 346234.53125| 208.9286804199|\n",
      "|b9337288-2cce-4f0...|     K_JooHong|2022-05-14T14:18:...|  416194.9375|   476328.125|3009.9797363281|\n",
      "|b9337288-2cce-4f0...|      BLOODC0W|2022-05-14T14:18:...| 271604.09375|  428083.5625| 608.6817626953|\n",
      "|b9337288-2cce-4f0...|      BLOODC0W|2022-05-14T14:18:...| 271494.28125| 428082.59375| 609.0389404297|\n",
      "|b9337288-2cce-4f0...|     Hwan-2-DA|2022-05-14T14:18:...| 356188.21875|240840.328125|5127.8149414062|\n",
      "|b9337288-2cce-4f0...|     Hwan-2-DA|2022-05-14T14:18:...|  356196.9375| 240768.15625|5123.0834960938|\n",
      "|b9337288-2cce-4f0...|         DX_RV|2022-05-14T14:18:...|210571.453125| 372157.09375|1734.4343261719|\n",
      "|b9337288-2cce-4f0...|         DX_RV|2022-05-14T14:18:...|   210654.625| 372228.78125|1732.7362060547|\n",
      "+--------------------+--------------+--------------------+-------------+-------------+---------------+\n",
      "only showing top 10 rows\n",
      "\n"
     ]
    }
   ],
   "source": [
    "#차량탑승 로그\n",
    "rideVehicleDF = spark.read.format('json').load(\"/sparkdata/PUBG/Matches1_RideVehicle.json\")\n",
    "rideVehicleDF.printSchema()\n",
    "rideVehicleDF.show(10)"
   ]
  },
  {
   "cell_type": "code",
   "execution_count": 27,
   "id": "45e3bd45",
   "metadata": {},
   "outputs": [
    {
     "name": "stdout",
     "output_type": "stream",
     "text": [
      "root\n",
      " |-- matchId: string (nullable = true)\n",
      " |-- mapName: string (nullable = true)\n",
      " |-- playerName: string (nullable = true)\n",
      " |-- createAt: string (nullable = true)\n",
      " |-- time: string (nullable = true)\n",
      "\n",
      "+--------------------+-----------+----------+--------------------+--------------------+\n",
      "|             matchId|    mapName|playerName|            createAt|                time|\n",
      "+--------------------+-----------+----------+--------------------+--------------------+\n",
      "|0ae4ee76-e0c2-4bb...|Baltic_Main|    AMF_6x|2022-05-23T06:06:32Z|2022-05-23T06:07:...|\n",
      "|0ae4ee76-e0c2-4bb...|Baltic_Main|   14K-nok|2022-05-23T06:06:32Z|2022-05-23T06:07:...|\n",
      "|0ae4ee76-e0c2-4bb...|Baltic_Main|   14K-nok|2022-05-23T06:06:32Z|2022-05-23T06:07:...|\n",
      "|0ae4ee76-e0c2-4bb...|Baltic_Main|    AMF_6x|2022-05-23T06:06:32Z|2022-05-23T06:07:...|\n",
      "|0ae4ee76-e0c2-4bb...|Baltic_Main|Limbinlord|2022-05-23T06:06:32Z|2022-05-23T06:07:...|\n",
      "+--------------------+-----------+----------+--------------------+--------------------+\n",
      "only showing top 5 rows\n",
      "\n"
     ]
    }
   ],
   "source": [
    "tempDF = rideVehicleDF.alias('RV').join(matchInfoDF.alias('MI') \\\n",
    "             ,rideVehicleDF['matchId']==matchInfoDF['matchId'],'inner')  \\\n",
    "             .select('RV.matchId','MI.mapName',col('RV.player').alias('playerName'),'MI.createAt'\\\n",
    "             ,'RV.time')\n",
    "tempDF.printSchema()\n",
    "tempDF.show(5)"
   ]
  },
  {
   "cell_type": "code",
   "execution_count": 28,
   "id": "67d6f3fe",
   "metadata": {},
   "outputs": [
    {
     "name": "stdout",
     "output_type": "stream",
     "text": [
      "+--------------------+-----------+----------------+--------+\n",
      "|             matchId|    mapName|      playerName|rideTime|\n",
      "+--------------------+-----------+----------------+--------+\n",
      "|0ae4ee76-e0c2-4bb...|Baltic_Main|          AMF_6x|      70|\n",
      "|0ae4ee76-e0c2-4bb...|Baltic_Main|         14K-nok|      71|\n",
      "|0ae4ee76-e0c2-4bb...|Baltic_Main|         14K-nok|      71|\n",
      "|0ae4ee76-e0c2-4bb...|Baltic_Main|          AMF_6x|      86|\n",
      "|0ae4ee76-e0c2-4bb...|Baltic_Main|      Limbinlord|      86|\n",
      "|0ae4ee76-e0c2-4bb...|Baltic_Main|      Limbinlord|      86|\n",
      "|0ae4ee76-e0c2-4bb...|Baltic_Main|  Valentino_TANK|      87|\n",
      "|0ae4ee76-e0c2-4bb...|Baltic_Main|     Dark_B_Plar|      88|\n",
      "|0ae4ee76-e0c2-4bb...|Baltic_Main|Valentino_Golden|      89|\n",
      "|0ae4ee76-e0c2-4bb...|Baltic_Main|     itzy3_3yeji|      93|\n",
      "+--------------------+-----------+----------------+--------+\n",
      "only showing top 10 rows\n",
      "\n"
     ]
    }
   ],
   "source": [
    "def timeSet(data): \n",
    "    import re\n",
    "    import builtins\n",
    "    sum = getattr(builtins, \"sum\")\n",
    "    createAt=re.compile('T[0-9]{2}:[0-9]{2}:[0-9]{2}Z').findall(data[3])\n",
    "    playTime=re.compile('T[0-9]{2}:[0-9]{2}:[0-9]{2}[.]').findall(data[4])\n",
    "    (createHour,createMin,createSec) = re.findall(\"[0-9]{2}\",createAt[0])\n",
    "    (playHour,playMin,playSec) = re.findall(\"[0-9]{2}\",playTime[0])\n",
    "    Sec = int(playSec) - int(createSec)\n",
    "    Min = int(playMin) - int(createMin)\n",
    "    Hour = int(playHour) - int(createHour)\n",
    "    #년도날짜요일에 대해서는 빼기 때문에 음수에 대해서 올림처리\n",
    "    if Sec < 0:\n",
    "        Sec = 60+Sec\n",
    "        Min -=1\n",
    "    if Min < 0:\n",
    "        Min = 60+Min\n",
    "        Hour -=1\n",
    "    if Hour < 0:\n",
    "        Hour = 24+Hour\n",
    "        \n",
    "    time = (Hour*3600)+(Min*60)+Sec\n",
    "             \n",
    "    return (data[0],data[1],data[2],time)\n",
    "\n",
    "\n",
    "tempRDD = tempDF.rdd.map(timeSet)\n",
    "rideVehicleTimeDF = tempRDD.toDF(['matchId','mapName','playerName','rideTime'])\n",
    "rideVehicleTimeDF.show(10)"
   ]
  },
  {
   "cell_type": "code",
   "execution_count": 29,
   "id": "36a56837",
   "metadata": {},
   "outputs": [
    {
     "name": "stdout",
     "output_type": "stream",
     "text": [
      "root\n",
      " |-- matchId: string (nullable = true)\n",
      " |-- player: string (nullable = true)\n",
      " |-- time: string (nullable = true)\n",
      " |-- x: double (nullable = true)\n",
      " |-- y: double (nullable = true)\n",
      " |-- z: double (nullable = true)\n",
      "\n",
      "+--------------------+--------------+--------------------+-------------+-------------+---------------+\n",
      "|             matchId|        player|                time|            x|            y|              z|\n",
      "+--------------------+--------------+--------------------+-------------+-------------+---------------+\n",
      "|b9337288-2cce-4f0...|     K_JooHong|2022-05-14T14:18:...| 416240.78125| 476396.96875|3011.7536621094|\n",
      "|b9337288-2cce-4f0...|     K_JooHong|2022-05-14T14:18:...| 416124.15625|     476366.0|3010.1247558594|\n",
      "|b9337288-2cce-4f0...|      BLOODC0W|2022-05-14T14:18:...| 271604.09375|  428083.5625| 608.6817626953|\n",
      "|b9337288-2cce-4f0...|What9Sangman_2|2022-05-14T14:18:...|  434366.0625|   327110.125| 302.6544189453|\n",
      "|b9337288-2cce-4f0...|     Hwan-2-DA|2022-05-14T14:18:...| 356188.21875|240840.328125|5127.8149414062|\n",
      "|b9337288-2cce-4f0...|         DX_RV|2022-05-14T14:18:...|210571.453125| 372157.09375|1734.4343261719|\n",
      "|b9337288-2cce-4f0...|    kim_seulki|2022-05-14T14:18:...| 389993.21875|  350988.1875| 296.8018493652|\n",
      "|b9337288-2cce-4f0...|        S2-bbo|2022-05-14T14:18:...|   363939.875|  225282.6875|   5543.4296875|\n",
      "|b9337288-2cce-4f0...|         DX_RV|2022-05-14T14:18:...|196896.359375| 394368.84375| 800.0012207031|\n",
      "|b9337288-2cce-4f0...|      BLOODC0W|2022-05-14T14:18:...| 283656.40625| 401745.15625| 282.7193908691|\n",
      "+--------------------+--------------+--------------------+-------------+-------------+---------------+\n",
      "only showing top 10 rows\n",
      "\n"
     ]
    }
   ],
   "source": [
    "#차량하차 로그\n",
    "leaveVehicleDF = spark.read.format('json').load(\"/sparkdata/PUBG/Matches1_LeaveVehicle.json\")\n",
    "leaveVehicleDF.printSchema()\n",
    "leaveVehicleDF.show(10)"
   ]
  },
  {
   "cell_type": "code",
   "execution_count": 30,
   "id": "cf6d7381",
   "metadata": {},
   "outputs": [
    {
     "name": "stdout",
     "output_type": "stream",
     "text": [
      "root\n",
      " |-- matchId: string (nullable = true)\n",
      " |-- mapName: string (nullable = true)\n",
      " |-- playerName: string (nullable = true)\n",
      " |-- createAt: string (nullable = true)\n",
      " |-- time: string (nullable = true)\n",
      "\n",
      "+--------------------+-----------+----------+--------------------+--------------------+\n",
      "|             matchId|    mapName|playerName|            createAt|                time|\n",
      "+--------------------+-----------+----------+--------------------+--------------------+\n",
      "|0ae4ee76-e0c2-4bb...|Baltic_Main|   14K-nok|2022-05-23T06:06:32Z|2022-05-23T06:07:...|\n",
      "|0ae4ee76-e0c2-4bb...|Baltic_Main|   14K-nok|2022-05-23T06:06:32Z|2022-05-23T06:07:...|\n",
      "|0ae4ee76-e0c2-4bb...|Baltic_Main|    AMF_6x|2022-05-23T06:06:32Z|2022-05-23T06:07:...|\n",
      "|0ae4ee76-e0c2-4bb...|Baltic_Main|    AMF_6x|2022-05-23T06:06:32Z|2022-05-23T06:07:...|\n",
      "|0ae4ee76-e0c2-4bb...|Baltic_Main|Limbinlord|2022-05-23T06:06:32Z|2022-05-23T06:07:...|\n",
      "+--------------------+-----------+----------+--------------------+--------------------+\n",
      "only showing top 5 rows\n",
      "\n"
     ]
    }
   ],
   "source": [
    "tempDF = leaveVehicleDF.alias('LV').join(matchInfoDF.alias('MI') \\\n",
    "             ,leaveVehicleDF['matchId']==matchInfoDF['matchId'],'inner')  \\\n",
    "             .select('LV.matchId','MI.mapName',col('LV.player').alias('playerName'),'MI.createAt'\\\n",
    "             ,'LV.time')\n",
    "tempDF.printSchema()\n",
    "tempDF.show(5)"
   ]
  },
  {
   "cell_type": "code",
   "execution_count": 31,
   "id": "d29f2aa4",
   "metadata": {},
   "outputs": [
    {
     "name": "stdout",
     "output_type": "stream",
     "text": [
      "+--------------------+-----------+--------------+---------+\n",
      "|             matchId|    mapName|    playerName|leaveTime|\n",
      "+--------------------+-----------+--------------+---------+\n",
      "|0ae4ee76-e0c2-4bb...|Baltic_Main|       14K-nok|       71|\n",
      "|0ae4ee76-e0c2-4bb...|Baltic_Main|       14K-nok|       85|\n",
      "|0ae4ee76-e0c2-4bb...|Baltic_Main|        AMF_6x|       86|\n",
      "|0ae4ee76-e0c2-4bb...|Baltic_Main|        AMF_6x|       86|\n",
      "|0ae4ee76-e0c2-4bb...|Baltic_Main|    Limbinlord|       86|\n",
      "|0ae4ee76-e0c2-4bb...|Baltic_Main|Valentino_TANK|       90|\n",
      "|0ae4ee76-e0c2-4bb...|Baltic_Main|        4x_777|       97|\n",
      "|0ae4ee76-e0c2-4bb...|Baltic_Main|   Dark_B_Plar|       99|\n",
      "|0ae4ee76-e0c2-4bb...|Baltic_Main|      Le-mario|      103|\n",
      "|0ae4ee76-e0c2-4bb...|Baltic_Main|     Raebuk_TV|      106|\n",
      "+--------------------+-----------+--------------+---------+\n",
      "only showing top 10 rows\n",
      "\n"
     ]
    }
   ],
   "source": [
    "tempRDD = tempDF.rdd.map(timeSet)\n",
    "leaveVehicleTimeDF = tempRDD.toDF(['matchId','mapName','playerName','leaveTime'])\n",
    "leaveVehicleTimeDF.show(10)"
   ]
  },
  {
   "cell_type": "code",
   "execution_count": 32,
   "id": "28fdc45a",
   "metadata": {},
   "outputs": [
    {
     "name": "stdout",
     "output_type": "stream",
     "text": [
      "+--------------------+-----------+-------------+-------------+-------------+\n",
      "|             matchId|    mapName|   playerName|firstRideTime|lastLeaveTime|\n",
      "+--------------------+-----------+-------------+-------------+-------------+\n",
      "|00e2d5bb-8e71-41c...|Desert_Main|       Min2EU|          269|         1367|\n",
      "|00ecb0ca-a5ad-47a...|Desert_Main|  NaeClanMas-|          221|          867|\n",
      "|00f22211-7314-484...|Baltic_Main|     RX_3Some|           88|          511|\n",
      "|00f22211-7314-484...|Baltic_Main|  SPY_Veteran|          334|         1447|\n",
      "|018ae528-093c-45f...|Baltic_Main|     AFTV_VEX|          234|         1016|\n",
      "|02ad1d03-defb-47c...|Baltic_Main|     DaLgee_x|          311|         1282|\n",
      "|03c8286a-1023-48c...|Baltic_Main|  MaSitDDa-_-|          104|          313|\n",
      "|03ca49bb-2293-430...|Desert_Main|     RAON_BIN|          162|         1218|\n",
      "|04b0c144-2937-441...|Baltic_Main|Doomscrolling|          549|          808|\n",
      "|04b0c144-2937-441...|Baltic_Main|     leriodn2|          447|         1142|\n",
      "+--------------------+-----------+-------------+-------------+-------------+\n",
      "only showing top 10 rows\n",
      "\n"
     ]
    }
   ],
   "source": [
    "playerVehicleRideDF = rideVehicleTimeDF.groupBy('matchId','mapName','playerName') \\\n",
    "                                        .agg(min('rideTime').alias('firstRideTime'))\n",
    "playerVehicleLeaveDF = leaveVehicleTimeDF.groupBy('matchId','mapName','playerName') \\\n",
    "                                        .agg(max('leaveTime').alias('lastLeaveTime'))\n",
    "playerVehicleDF = playerVehicleRideDF.alias('RV').join(playerVehicleLeaveDF.alias('LV') \\\n",
    "                                    ,((playerVehicleRideDF['matchID']==playerVehicleLeaveDF['matchID']) \\\n",
    "                                      &(playerVehicleRideDF['mapName']==playerVehicleLeaveDF['mapName'])\n",
    "                                      &(playerVehicleRideDF['playerName']==playerVehicleLeaveDF['playerName'])),'inner') \\\n",
    "                                    .select('RV.matchId','RV.mapName','RV.playerName' \\\n",
    "                                            ,'RV.firstRideTime','LV.lastLeaveTime')\n",
    "playerVehicleDF.show(10)"
   ]
  },
  {
   "cell_type": "code",
   "execution_count": 33,
   "id": "b264cdc9",
   "metadata": {},
   "outputs": [
    {
     "name": "stdout",
     "output_type": "stream",
     "text": [
      "+--------------------+-----------+--------------+-------+--------+-------------------+----------------+--------------------+--------------------+--------------------+-------------+-------------+\n",
      "|             matchId|    mapName|    playerName|ranking|liveTime|       landingPlace|    moveDistance| WhiteCircleDistance|  BlueCircleDistance|             attacks|firstRideTime|lastLeaveTime|\n",
      "+--------------------+-----------+--------------+-------+--------+-------------------+----------------+--------------------+--------------------+--------------------+-------------+-------------+\n",
      "|00f22211-7314-484...|Baltic_Main|      RX_3Some|      5| 559.731|            Lipovka| 7678.5749259736|[{89.73, 0.083059...|[{9.721, 0.069252...|                null|           88|          511|\n",
      "|00f22211-7314-484...|Baltic_Main|   SPY_Veteran|      6|1479.222|   RightSideVillage| 9927.3611508591|[{89.193, 0.08485...|[{9.188, 0.065623...|[{910.117, 628.34...|          334|         1447|\n",
      "|018ae528-093c-45f...|Baltic_Main|      AFTV_VEX|     11|1179.897|   RightSideVillage|13038.2822407859|[{89.909, 0.19338...|[{9.912, 0.074656...|[{1103.67, 103.96...|          234|         1016|\n",
      "|02ad1d03-defb-47c...|Baltic_Main|      DaLgee_x|      7|1420.991|            Lipovka|11567.3968349127|[{80.989, 0.22108...|[{0.975, 0.008070...|[{1132.36, 15.109...|          311|         1282|\n",
      "|031334e5-805b-4a3...|Baltic_Main|white_-_kimchi|     16| 658.518|MiddleBridgeVillage| 8693.4714523167|[{88.497, 0.07638...|[{8.499, 0.062068...|[{512.469, 179.12...|            0|            0|\n",
      "|03c8286a-1023-48c...|Baltic_Main|   MaSitDDa-_-|     14| 736.706|            another| 8435.0016798908|[{86.672, 0.13511...|[{6.674, 0.051995...|                null|          104|          313|\n",
      "|0442d266-d5c8-4da...|Baltic_Main|      PPAAJJUU|     14| 669.217|           Pochinki| 5066.8760473979|[{89.208, 0.11988...|[{9.185, 0.069969...|                null|            0|            0|\n",
      "|04b0c144-2937-441...|Baltic_Main| Doomscrolling|     11|1102.836|       MilitaryBase| 9435.6892764371|[{82.83, 0.257959...|[{2.82, 0.0232128...|[{261.254, 89.106...|          549|          808|\n",
      "|04b0c144-2937-441...|Baltic_Main|      leriodn2|     10|1170.227|    Georgopol_south|10426.6826011179|[{80.251, 0.08938...|[{10.236, 0.07801...|[{972.186, 41.017...|          447|         1142|\n",
      "|04c360b1-f30c-4bd...|Baltic_Main|    ccTV_cesco|     15| 214.877|           Primorsk| 2365.2105938036|[{84.885, 0.14200...|[{4.867, 0.038338...|[{113.176, 9.328,...|            0|            0|\n",
      "+--------------------+-----------+--------------+-------+--------+-------------------+----------------+--------------------+--------------------+--------------------+-------------+-------------+\n",
      "only showing top 10 rows\n",
      "\n"
     ]
    }
   ],
   "source": [
    "matchPlayerDF = playerLandingDF.alias('F').join(playerDistanceDF.alias('S') \\\n",
    "                                    ,((playerLandingDF['matchId']==playerDistanceDF['matchId']) \\\n",
    "                                      &(playerLandingDF['mapName']==playerDistanceDF['mapName']) \\\n",
    "                                      &(playerLandingDF['playerName']==playerDistanceDF['playerName'])),'inner') \\\n",
    "                            .select('F.matchId','F.mapName','F.playerName','F.ranking','S.liveTime' \\\n",
    "                            ,'F.landingPlace','S.moveDistance','S.WhiteCircleDistance','S.BlueCircleDistance').alias('F') \\\n",
    "                                    .join(playerCombatDF.alias('S') \\\n",
    "                                    ,((col('F.matchId')==playerCombatDF['matchId']) \\\n",
    "                                      &(col('F.mapName')==playerCombatDF['mapName']) \\\n",
    "                                      &(col('F.playerName')==playerCombatDF['playerName'])),'leftouter') \\\n",
    "                            .select('F.*','S.attacks').alias('F').join(playerVehicleDF.alias('S') \\\n",
    "                                    ,((col('F.matchId')==playerVehicleDF['matchId']) \\\n",
    "                                      &(col('F.mapName')==playerVehicleDF['mapName']) \\\n",
    "                                      &(col('F.playerName')==playerVehicleDF['playerName'])),'leftouter') \\\n",
    "                            .select('F.*','S.firstRideTime','S.lastLeaveTime').na.fill(0)\n",
    "matchPlayerDF.show(10)"
   ]
  },
  {
   "cell_type": "code",
   "execution_count": 34,
   "id": "cab85b55",
   "metadata": {},
   "outputs": [
    {
     "name": "stdout",
     "output_type": "stream",
     "text": [
      "+-----------+-------+------------------+------------------+\n",
      "|    mapName|ranking|  moveDistance/sec|          liveTime|\n",
      "+-----------+-------+------------------+------------------+\n",
      "|Baltic_Main|      1| 7.436605359177562| 1646.554544598483|\n",
      "|Baltic_Main|      2| 7.708189158377864|1540.5747297370574|\n",
      "|Baltic_Main|      3| 8.143256450741015| 1474.194906983088|\n",
      "|Baltic_Main|      4|  8.49472513136982| 1378.772254475352|\n",
      "|Baltic_Main|      5| 9.033616666314362| 1290.672404635577|\n",
      "|Baltic_Main|      6| 9.392567788122903|1222.2833370150104|\n",
      "|Baltic_Main|      7|  9.63529636345341| 1168.901683010262|\n",
      "|Baltic_Main|      8| 9.990115722173508|1119.8991200113219|\n",
      "|Baltic_Main|      9|10.562404852830316| 1054.867913615561|\n",
      "|Baltic_Main|     10|10.774747892644092|1000.2692018218042|\n",
      "|Baltic_Main|     11|11.305641756678066| 930.0944729119637|\n",
      "|Baltic_Main|     12|12.002070090046344| 844.2535097984328|\n",
      "|Baltic_Main|     13|12.931184857488335| 749.3023149412725|\n",
      "|Baltic_Main|     14|14.277703296877764| 629.4136000527288|\n",
      "|Baltic_Main|     15| 16.88096959930376|  486.957927170868|\n",
      "|Baltic_Main|     16|21.509150193131312| 357.8028373983742|\n",
      "|Baltic_Main|     17|24.909128307642284| 296.9716951915241|\n",
      "|Baltic_Main|     18|29.227690322632785|239.31358982035928|\n",
      "|Baltic_Main|     19|27.043860882277915|227.98839473684208|\n",
      "|Baltic_Main|     20| 29.11823616722173|        260.917375|\n",
      "|Baltic_Main|     21| 39.14057417337876|          147.8245|\n",
      "+-----------+-------+------------------+------------------+\n",
      "\n"
     ]
    }
   ],
   "source": [
    "#등수별 초당 이동거리\n",
    "matchPlayerDF.groupBy('mapName','ranking').agg(avg(expr(('moveDistance/liveTime'))).alias('moveDistance/sec') \\\n",
    "                                                 ,avg('liveTime').alias('liveTime')).orderBy('ranking').show(25)"
   ]
  },
  {
   "cell_type": "code",
   "execution_count": 35,
   "id": "11c30b1c",
   "metadata": {},
   "outputs": [
    {
     "name": "stdout",
     "output_type": "stream",
     "text": [
      "+-----------+-------+------------------+\n",
      "|    mapName|ranking|    attackDistance|\n",
      "+-----------+-------+------------------+\n",
      "|Baltic_Main|      1|127.21406525952415|\n",
      "|Baltic_Main|      2|123.39206758245619|\n",
      "|Baltic_Main|      3| 125.9787298138202|\n",
      "|Baltic_Main|      4|125.12154472606763|\n",
      "|Baltic_Main|      5|123.20415067577389|\n",
      "|Baltic_Main|      6|116.88866998230242|\n",
      "|Baltic_Main|      7|123.39201264853112|\n",
      "|Baltic_Main|      8|120.02867684689797|\n",
      "|Baltic_Main|      9|112.01749710992857|\n",
      "|Baltic_Main|     10|111.66964700807594|\n",
      "|Baltic_Main|     11|105.58065026847136|\n",
      "|Baltic_Main|     12| 94.83744020386425|\n",
      "|Baltic_Main|     13| 85.01978671406386|\n",
      "|Baltic_Main|     14| 69.95154733937511|\n",
      "|Baltic_Main|     15| 53.97767562517689|\n",
      "|Baltic_Main|     16| 41.63358327417671|\n",
      "|Baltic_Main|     17| 35.76462930719088|\n",
      "|Baltic_Main|     18|28.297352941408835|\n",
      "|Baltic_Main|     19| 41.78366481530577|\n",
      "|Baltic_Main|     20| 9.314085779671718|\n",
      "|Baltic_Main|     21|            18.834|\n",
      "+-----------+-------+------------------+\n",
      "\n"
     ]
    }
   ],
   "source": [
    "#등수별 평균 교전 거리\n",
    "def splitAttackDistance(data):\n",
    "    if data != None:\n",
    "        sum_dist = 0\n",
    "        for time,dist,blueDist in data:\n",
    "            sum_dist += dist\n",
    "        return sum_dist/len(data)\n",
    "    return None\n",
    "\n",
    "convertUDF = udf(lambda x:splitAttackDistance(x),DoubleType())\n",
    "matchPlayerDF.select('mapName','ranking',convertUDF(col('attacks')).alias('attackDistance')) \\\n",
    "             .groupBy('mapName','ranking').agg(avg('attackDistance').alias('attackDistance')) \\\n",
    "             .orderBy('ranking').show(25)"
   ]
  },
  {
   "cell_type": "code",
   "execution_count": 36,
   "id": "b275f730",
   "metadata": {},
   "outputs": [
    {
     "name": "stdout",
     "output_type": "stream",
     "text": [
      "+-----------+-------+------------------+\n",
      "|    mapName|ranking|     firstRideTime|\n",
      "+-----------+-------+------------------+\n",
      "|Baltic_Main|      1|260.97593512947947|\n",
      "|Baltic_Main|      2| 280.4030902683654|\n",
      "|Baltic_Main|      3|285.86497545008183|\n",
      "|Baltic_Main|      4| 284.7281740567337|\n",
      "|Baltic_Main|      5|288.01089081262216|\n",
      "|Baltic_Main|      6|296.43698668932313|\n",
      "|Baltic_Main|      7| 289.0530216647663|\n",
      "|Baltic_Main|      8| 292.3826776110954|\n",
      "|Baltic_Main|      9| 294.9487986270023|\n",
      "|Baltic_Main|     10| 295.8266438941076|\n",
      "|Baltic_Main|     11|283.54825056433407|\n",
      "|Baltic_Main|     12| 283.0515117581187|\n",
      "|Baltic_Main|     13|257.40972411909314|\n",
      "|Baltic_Main|     14| 211.0276825731611|\n",
      "|Baltic_Main|     15|150.36210847975553|\n",
      "|Baltic_Main|     16| 79.96776002242781|\n",
      "|Baltic_Main|     17|  54.3480032599837|\n",
      "|Baltic_Main|     18|26.479041916167663|\n",
      "|Baltic_Main|     19|18.592105263157894|\n",
      "|Baltic_Main|     20|               0.0|\n",
      "|Baltic_Main|     21|               0.0|\n",
      "+-----------+-------+------------------+\n",
      "\n"
     ]
    }
   ],
   "source": [
    "#등수별 최초 차량탑승 시간\n",
    "matchPlayerDF.groupBy('mapName','ranking').agg(avg('firstRideTime').alias('firstRideTime')).orderBy('ranking').show(25)"
   ]
  },
  {
   "cell_type": "code",
   "execution_count": 37,
   "id": "c3ec35db",
   "metadata": {},
   "outputs": [
    {
     "name": "stdout",
     "output_type": "stream",
     "text": [
      "+-----------+-------+-------------------+\n",
      "|    mapName|ranking|           rideRate|\n",
      "+-----------+-------+-------------------+\n",
      "|Baltic_Main|      1| 0.9463771906879415|\n",
      "|Baltic_Main|      2| 0.9240986717267552|\n",
      "|Baltic_Main|      3|  0.924986361156574|\n",
      "|Baltic_Main|      4| 0.9171027265216194|\n",
      "|Baltic_Main|      5| 0.9067299636972913|\n",
      "|Baltic_Main|      6| 0.9045596148399887|\n",
      "|Baltic_Main|      7| 0.8968072976054732|\n",
      "|Baltic_Main|      8| 0.8992357769600906|\n",
      "|Baltic_Main|      9| 0.8910183066361557|\n",
      "|Baltic_Main|     10| 0.8841446057500711|\n",
      "|Baltic_Main|     11| 0.8792325056433409|\n",
      "|Baltic_Main|     12| 0.8440649496080628|\n",
      "|Baltic_Main|     13| 0.8038787216607484|\n",
      "|Baltic_Main|     14| 0.6941734774584761|\n",
      "|Baltic_Main|     15| 0.5352686529157118|\n",
      "|Baltic_Main|     16|0.32296047098402014|\n",
      "|Baltic_Main|     17|0.21189894050529745|\n",
      "|Baltic_Main|     18| 0.1467065868263473|\n",
      "|Baltic_Main|     19|0.14473684210526316|\n",
      "|Baltic_Main|     20|                0.0|\n",
      "|Baltic_Main|     21|                0.0|\n",
      "+-----------+-------+-------------------+\n",
      "\n"
     ]
    }
   ],
   "source": [
    "#등수별 차량 탑승 비율\n",
    "def ZeroOrNot(data):\n",
    "    return bool(data)\n",
    "\n",
    "convertUDF = udf(lambda x:ZeroOrNot(x),BooleanType())\n",
    "tempDF = matchPlayerDF.select('matchId','mapName','ranking',convertUDF(col('firstRideTime')).alias('ride'))\n",
    "CountTempDF = tempDF.groupBy('mapName','ranking').agg(count('ride').alias('count'))\n",
    "notRideTempDF = tempDF.filter(col('ride')==False).groupBy('mapName','ranking').agg(count('ride').alias('count'))\n",
    "CountTempDF.alias('TOTAL').join(notRideTempDF.alias('DONT'), \\\n",
    "                                   ((col('TOTAL.mapName')==col('DONT.mapName')) \\\n",
    "                                   &(col('TOTAL.ranking')==col('DONT.ranking'))),'inner') \\\n",
    "                                   .select('TOTAL.mapName','TOTAL.ranking' \\\n",
    "                                   ,expr(('1 - (DONT.count/TOTAL.count)')).alias('rideRate')) \\\n",
    "                                   .orderBy('ranking').show(25)"
   ]
  },
  {
   "cell_type": "code",
   "execution_count": 38,
   "id": "1b25ca69",
   "metadata": {},
   "outputs": [
    {
     "name": "stdout",
     "output_type": "stream",
     "text": [
      "+-----------+-------------------+-----------------+-------------------+\n",
      "|    mapName|       landingPlace|     avg(ranking)|count(landingPlace)|\n",
      "+-----------+-------------------+-----------------+-------------------+\n",
      "|Baltic_Main|         TopVillage|7.963976945244957|                694|\n",
      "|Baltic_Main|   MilitaryBackYard|7.870503597122302|                139|\n",
      "|Baltic_Main|             Quarry|7.931740614334471|                879|\n",
      "|Baltic_Main|            Lipovka|9.271585557299844|               1274|\n",
      "|Baltic_Main|     MilitaryBridge|7.530898876404494|                356|\n",
      "|Baltic_Main|MiddleBridgeVillage|8.682556879739979|                923|\n",
      "|Baltic_Main|              Mylta|9.622351474864978|               2407|\n",
      "|Baltic_Main|      MiddleVillage|8.078612716763006|               5190|\n",
      "|Baltic_Main|    Georgopol_south|9.512893982808023|               3839|\n",
      "|Baltic_Main|      ShootingRange|8.066666666666666|                270|\n",
      "+-----------+-------------------+-----------------+-------------------+\n",
      "only showing top 10 rows\n",
      "\n"
     ]
    }
   ],
   "source": [
    "#착지장소 장소별카운팅\n",
    "matchPlayerDF.groupBy('mapName','landingPlace').agg(avg('ranking'),count('landingPlace')).orderBy('mapName').show(10)"
   ]
  },
  {
   "cell_type": "code",
   "execution_count": 39,
   "id": "08995d44",
   "metadata": {},
   "outputs": [
    {
     "name": "stdout",
     "output_type": "stream",
     "text": [
      "+-----------+-------------------+-------+----+-----+\n",
      "|mapName    |landingPlace       |ranking|mode|total|\n",
      "+-----------+-------------------+-------+----+-----+\n",
      "|Baltic_Main|Ruins              |1      |34  |354  |\n",
      "|Baltic_Main|another            |1      |805 |9153 |\n",
      "|Baltic_Main|MiddleVillage      |1      |449 |5190 |\n",
      "|Baltic_Main|Shelter            |1      |128 |1089 |\n",
      "|Baltic_Main|RightSideVillage   |1      |153 |1009 |\n",
      "|Baltic_Main|MyltaPower         |1      |115 |1041 |\n",
      "|Baltic_Main|Farm               |1      |153 |1741 |\n",
      "|Baltic_Main|Ferry Pier         |1      |56  |620  |\n",
      "|Baltic_Main|Prison             |1      |51  |476  |\n",
      "|Baltic_Main|Stalber            |3      |58  |670  |\n",
      "|Baltic_Main|Novorepnoye        |3      |189 |2253 |\n",
      "|Baltic_Main|Mansion            |3      |38  |437  |\n",
      "|Baltic_Main|ShootingRange      |4      |24  |270  |\n",
      "|Baltic_Main|Quarry             |5      |77  |879  |\n",
      "|Baltic_Main|MilitaryBackYard   |5      |15  |139  |\n",
      "|Baltic_Main|MilitaryBridge     |5      |38  |356  |\n",
      "|Baltic_Main|SideVillage        |5      |128 |1462 |\n",
      "|Baltic_Main|TopVillage         |6      |68  |694  |\n",
      "|Baltic_Main|AquaCity           |7      |33  |248  |\n",
      "|Baltic_Main|Primorsk           |9      |132 |1601 |\n",
      "|Baltic_Main|Zharki             |9      |29  |285  |\n",
      "|Baltic_Main|Kameshki           |10     |43  |320  |\n",
      "|Baltic_Main|Yasnaya            |10     |259 |3374 |\n",
      "|Baltic_Main|Georgopol_north    |11     |172 |2218 |\n",
      "|Baltic_Main|Getka              |11     |104 |1279 |\n",
      "|Baltic_Main|Mansion            |14     |38  |437  |\n",
      "|Baltic_Main|Rozhok             |14     |128 |1362 |\n",
      "|Baltic_Main|Lipovka            |14     |124 |1274 |\n",
      "|Baltic_Main|MiddleBridgeVillage|14     |86  |923  |\n",
      "|Baltic_Main|Rozhok             |15     |128 |1362 |\n",
      "|Baltic_Main|Severny            |16     |185 |1856 |\n",
      "|Baltic_Main|Georgopol_south    |16     |336 |3839 |\n",
      "|Baltic_Main|Pochinki           |16     |394 |4328 |\n",
      "|Baltic_Main|Mylta              |16     |237 |2407 |\n",
      "|Baltic_Main|MilitaryBase       |16     |245 |2627 |\n",
      "|Baltic_Main|School             |16     |472 |3908 |\n",
      "+-----------+-------------------+-------+----+-----+\n",
      "\n"
     ]
    }
   ],
   "source": [
    "#착지장소 카운팅\n",
    "#등수별 카운팅\n",
    "temp1DF = matchPlayerDF.groupBy('mapName','landingPlace','ranking').agg(count('ranking').alias('count'))\n",
    "#장소별 카운팅\n",
    "temp2DF = temp1DF.groupBy('mapName','landingPlace').agg(max('count').alias('max'),sum('count').alias('total'))\n",
    "\n",
    "temp1DF.alias('SL').join(temp2DF.alias('PL'),\\\n",
    "                    ((temp1DF['mapName']==temp2DF['mapName']) \\\n",
    "                    &(temp1DF['landingPlace']==temp2DF['LandingPlace']) \\\n",
    "                    &(temp1DF['count']==temp2DF['max'])),'inner') \\\n",
    "                    .select('SL.mapName','SL.landingPlace','SL.ranking',col('PL.max').alias('mode'),'PL.total') \\\n",
    "                    .orderBy('mapName','ranking').show(100,truncate = False)"
   ]
  },
  {
   "cell_type": "code",
   "execution_count": 40,
   "id": "b3e89d7c",
   "metadata": {
    "scrolled": true
   },
   "outputs": [
    {
     "name": "stdout",
     "output_type": "stream",
     "text": [
      "+-----------+----------------+-------------------+----------+-----+\n",
      "|    mapName|   airplaneRoute|       landingPlace|   ranking|count|\n",
      "+-----------+----------------+-------------------+----------+-----+\n",
      "|Baltic_Main|RightSide_Middle|     MilitaryBridge|  HighRank|    6|\n",
      "|Baltic_Main|          Middle|         Ferry Pier|MiddleRank|  168|\n",
      "|Baltic_Main|RightSide_Middle|              Mylta|MiddleRank|  349|\n",
      "|Baltic_Main|RightSide_Middle|    Georgopol_north|  HighRank|   37|\n",
      "|Baltic_Main|          Middle|             School|   LowRank|  775|\n",
      "|Baltic_Main|RightSide_Middle|             Zharki|MiddleRank|   20|\n",
      "|Baltic_Main|       RightSide|            another|   LowRank|    4|\n",
      "|Baltic_Main| LeftSide_Middle|MiddleBridgeVillage|  HighRank|   21|\n",
      "|Baltic_Main|RightSide_Middle|       MilitaryBase|   LowRank|  120|\n",
      "|Baltic_Main| LeftSide_Middle|            Mansion|  HighRank|    4|\n",
      "+-----------+----------------+-------------------+----------+-----+\n",
      "only showing top 10 rows\n",
      "\n"
     ]
    }
   ],
   "source": [
    "#착지장소에 비행기 동선 추가\n",
    "tempDF = matchPlayerDF.select('matchId','mapName','ranking','landingPlace').alias('LP') \\\n",
    "                      .join(matchInfoDF.alias('MI'),[\"matchId\",\"mapName\"],'inner')\\\n",
    "                      .select('LP.matchId','LP.mapName','MI.airplaneRoute','LP.landingPlace','LP.ranking')\n",
    "\n",
    "#등수 묶기(순위권)\n",
    "def splitrank(data):\n",
    "    if data<=3:\n",
    "        return \"HighRank\"\n",
    "    elif data>=10:\n",
    "        return \"MiddleRank\"\n",
    "    else:\n",
    "        return \"LowRank\"\n",
    "    return data\n",
    "\n",
    "convertUDF = udf(lambda x:splitrank(x),StringType())\n",
    "\n",
    "tempDF = tempDF.select('mapName','airplaneRoute','landingPlace',convertUDF(col('ranking')).alias('ranking'))  \\\n",
    "            .groupBy('mapName','airplaneRoute','landingPlace','ranking').agg(count('ranking').alias('count'))\n",
    "tempDF.show(10)"
   ]
  },
  {
   "cell_type": "code",
   "execution_count": 41,
   "id": "a7826d17",
   "metadata": {},
   "outputs": [
    {
     "name": "stdout",
     "output_type": "stream",
     "text": [
      "+-----------+---------------+---------------+----------+-----+\n",
      "|    mapName|  airplaneRoute|   LandingPlace|   ranking| rate|\n",
      "+-----------+---------------+---------------+----------+-----+\n",
      "|Baltic_Main|LeftSide_Middle|       AquaCity|   LowRank|0.429|\n",
      "|Baltic_Main|LeftSide_Middle|       AquaCity|  HighRank| 0.31|\n",
      "|Baltic_Main|LeftSide_Middle|       AquaCity|MiddleRank|0.262|\n",
      "|Baltic_Main|LeftSide_Middle|           Farm|   LowRank|0.392|\n",
      "|Baltic_Main|LeftSide_Middle|           Farm|MiddleRank| 0.38|\n",
      "|Baltic_Main|LeftSide_Middle|           Farm|  HighRank|0.228|\n",
      "|Baltic_Main|LeftSide_Middle|     Ferry Pier|   LowRank|0.415|\n",
      "|Baltic_Main|LeftSide_Middle|     Ferry Pier|MiddleRank|0.354|\n",
      "|Baltic_Main|LeftSide_Middle|     Ferry Pier|  HighRank|0.232|\n",
      "|Baltic_Main|LeftSide_Middle|Georgopol_north|MiddleRank| 0.49|\n",
      "|Baltic_Main|LeftSide_Middle|Georgopol_north|   LowRank| 0.28|\n",
      "|Baltic_Main|LeftSide_Middle|Georgopol_north|  HighRank|0.229|\n",
      "|Baltic_Main|LeftSide_Middle|Georgopol_south|MiddleRank|0.521|\n",
      "|Baltic_Main|LeftSide_Middle|Georgopol_south|   LowRank|0.344|\n",
      "|Baltic_Main|LeftSide_Middle|Georgopol_south|  HighRank|0.135|\n",
      "|Baltic_Main|LeftSide_Middle|          Getka|MiddleRank|0.481|\n",
      "|Baltic_Main|LeftSide_Middle|          Getka|   LowRank|0.364|\n",
      "|Baltic_Main|LeftSide_Middle|          Getka|  HighRank|0.154|\n",
      "|Baltic_Main|LeftSide_Middle|       Kameshki|   LowRank|0.538|\n",
      "|Baltic_Main|LeftSide_Middle|       Kameshki|MiddleRank|0.385|\n",
      "+-----------+---------------+---------------+----------+-----+\n",
      "only showing top 20 rows\n",
      "\n"
     ]
    }
   ],
   "source": [
    "#비행기 동선, 착지 장소에 따른 순위권 비율\n",
    "countTempDF = tempDF.groupBy('mapName','airplaneRoute','landingPlace').agg(sum('count').alias('total'))\n",
    "summary_landingPlaceDF = tempDF.alias('P').join(countTempDF.alias('F') \\\n",
    "             ,((tempDF['mapName']==countTempDF['mapName']) \\\n",
    "             &(tempDF['landingPlace']==countTempDF['landingPlace'])\n",
    "             &(tempDF['airplaneRoute']==countTempDF['airplaneRoute'])),'inner')  \\\n",
    "             .select('P.mapName','P.airplaneRoute','P.LandingPlace','P.ranking' \\\n",
    "             ,expr(('round(P.count/F.total,3)')).alias('rate')) \\\n",
    "             .orderBy('mapName','airplaneRoute','landingPlace',desc('rate')).show(20)"
   ]
  },
  {
   "cell_type": "code",
   "execution_count": 42,
   "id": "c440bcf5",
   "metadata": {},
   "outputs": [
    {
     "name": "stdout",
     "output_type": "stream",
     "text": [
      "root\n",
      " |-- matchId: string (nullable = true)\n",
      " |-- mapName: string (nullable = true)\n",
      " |-- playerName: string (nullable = true)\n",
      " |-- attacks: array (nullable = true)\n",
      " |    |-- element: struct (containsNull = true)\n",
      " |    |    |-- _1: double (nullable = true)\n",
      " |    |    |-- _2: double (nullable = true)\n",
      " |    |    |-- _3: double (nullable = true)\n",
      "\n"
     ]
    }
   ],
   "source": [
    "playerCombatDF.printSchema()"
   ]
  },
  {
   "cell_type": "code",
   "execution_count": 45,
   "id": "25152899",
   "metadata": {},
   "outputs": [
    {
     "name": "stdout",
     "output_type": "stream",
     "text": [
      "root\n",
      " |-- matchId: string (nullable = true)\n",
      " |-- mapName: string (nullable = true)\n",
      " |-- playerName: string (nullable = true)\n",
      " |-- airplaneRoute: string (nullable = true)\n",
      " |-- landingPlace: string (nullable = true)\n",
      " |-- ranking: long (nullable = true)\n",
      " |-- firstRideTime: double (nullable = true)\n",
      " |-- lastLeaveTime: double (nullable = true)\n",
      " |-- moveDistance: double (nullable = true)\n",
      " |-- attackDistance: double (nullable = true)\n",
      "\n",
      "+--------------------+-----------+-----------+-------------+-------------+-------+-------------------+------------------+------------------+------------------+\n",
      "|             matchId|    mapName| playerName|airplaneRoute| landingPlace|ranking|      firstRideTime|     lastLeaveTime|      moveDistance|    attackDistance|\n",
      "+--------------------+-----------+-----------+-------------+-------------+-------+-------------------+------------------+------------------+------------------+\n",
      "|376564f4-b798-4b8...|Baltic_Main|   mono0000|       Middle|         Farm|      2|                0.0|               0.0| 17.08718868953281|11.972249999999999|\n",
      "|376564f4-b798-4b8...|Baltic_Main|  MANGO0_0O|       Middle|      another|     12| 0.3760757332954472|0.7187225125201879|12.983240995053558|             72.34|\n",
      "|376564f4-b798-4b8...|Baltic_Main|   JB_River|       Middle|      Yasnaya|      4|0.26581897240238167|0.6962506112007336| 9.771116292305638|128.96587499999998|\n",
      "|376564f4-b798-4b8...|Baltic_Main| baebaebaby|       Middle|      Severny|     12|  0.342195273142627|0.8511615759547642|11.962349230796159|           97.5044|\n",
      "|376564f4-b798-4b8...|Baltic_Main|AFTV_DDOBOM|       Middle| MilitaryBase|     10|0.31584804462017796|0.8375876884203317| 7.196744569913333|134.56808333333333|\n",
      "|376564f4-b798-4b8...|Baltic_Main|StoNe_MoonE|       Middle|     AquaCity|      6| 0.4584001833600734|0.5584377924358904| 11.44759693204749|            34.833|\n",
      "|376564f4-b798-4b8...|Baltic_Main|   MGc_moon|       Middle|MiddleVillage|      8|0.17045962237694945| 0.781502381623353| 5.560720985118944|124.28915384615385|\n",
      "|376564f4-b798-4b8...|Baltic_Main|20000205-_-|       Middle|       School|      1| 0.1829307430625388|1.0023748903485312| 5.334883438512859| 91.36446153846157|\n",
      "|376564f4-b798-4b8...|Baltic_Main| WarGermany|       Middle|      another|      6|0.14757931093407348|0.5838444669409398|14.088750292080558| 133.2446666666667|\n",
      "|376564f4-b798-4b8...|Baltic_Main|  NP_ZziZzi|       Middle|      Yasnaya|      4| 0.2966408174102524|0.6561499562058052| 7.701591212602351|           104.198|\n",
      "+--------------------+-----------+-----------+-------------+-------------+-------+-------------------+------------------+------------------+------------------+\n",
      "only showing top 10 rows\n",
      "\n",
      "root\n",
      " |-- matchId: string (nullable = true)\n",
      " |-- mapName: string (nullable = true)\n",
      " |-- playerName: string (nullable = true)\n",
      " |-- airplaneRoute: string (nullable = true)\n",
      " |-- landingPlace: string (nullable = true)\n",
      " |-- ranking: long (nullable = true)\n",
      " |-- firstRideTime: double (nullable = true)\n",
      " |-- lastLeaveTime: double (nullable = true)\n",
      " |-- moveDistance: double (nullable = true)\n",
      " |-- attackDistance: double (nullable = true)\n",
      "\n",
      "+--------------------+-----------+------------+----------------+----------------+-------+--------------------+------------------+------------------+------------------+\n",
      "|             matchId|    mapName|  playerName|   airplaneRoute|    landingPlace|ranking|       firstRideTime|     lastLeaveTime|      moveDistance|    attackDistance|\n",
      "+--------------------+-----------+------------+----------------+----------------+-------+--------------------+------------------+------------------+------------------+\n",
      "|c1f7357d-8598-4f4...|Baltic_Main| SXX_SeoHyun|RightSide_Middle|    MilitaryBase|     15|  0.6007731199086824|0.7547212318852823|14.204404888050245|19.576454545454542|\n",
      "|c1f7357d-8598-4f4...|Baltic_Main|YoonBBangDoL|RightSide_Middle|  MilitaryBridge|      9| 0.35195205114288214|0.7351709132073415| 10.22172549933065|105.67157142857143|\n",
      "|c1f7357d-8598-4f4...|Baltic_Main|     BKL-Bok|RightSide_Middle|         Lipovka|      3|  0.1726070131752456| 0.958222756965518| 4.328301834732783|121.97505405405406|\n",
      "|c1f7357d-8598-4f4...|Baltic_Main|       Gz_Os|RightSide_Middle|      Ferry Pier|     12|  0.5054228295918429|0.8607503946382296| 9.501617328126729|15.180571428571428|\n",
      "|c1f7357d-8598-4f4...|Baltic_Main|   woovelyzz|RightSide_Middle|    MilitaryBase|     14|                 0.0|               0.0|13.440527154987507|121.05957142857143|\n",
      "|c1f7357d-8598-4f4...|Baltic_Main|     VVV_CEO|RightSide_Middle|        Pochinki|     10|  0.3790903941484627|0.8355820752692333| 9.179632817425228|199.46550000000002|\n",
      "|c1f7357d-8598-4f4...|Baltic_Main| yMG_WoongBa|RightSide_Middle|MilitaryBackYard|     14| 0.11327267189929419|1.0012876751852704| 15.49709412535128| 257.7587272727273|\n",
      "|c1f7357d-8598-4f4...|Baltic_Main|  eEJ_cxxgi3|RightSide_Middle|        Primorsk|      5|  0.2500202328512134|0.9812932838495602|10.730289162685132|100.59566666666666|\n",
      "|c1f7357d-8598-4f4...|Baltic_Main|  diflwlakfk|RightSide_Middle|    MilitaryBase|     15|  0.5686654063133159|0.9433820151091763|14.686589736928982|           165.318|\n",
      "|c1f7357d-8598-4f4...|Baltic_Main|BKL-Kyungjin|RightSide_Middle|         Lipovka|      3|0.061462500192070314|0.8946208361290235| 6.329580403477924|167.71592307692305|\n",
      "+--------------------+-----------+------------+----------------+----------------+-------+--------------------+------------------+------------------+------------------+\n",
      "only showing top 10 rows\n",
      "\n"
     ]
    }
   ],
   "source": [
    "from pyspark.ml.feature import StringIndexer, OneHotEncoder\n",
    "#매치 정보 훈련 테스트 데이터로 분할\n",
    "matchTrainDF, matchTestDF = matchInfoDF.randomSplit([0.8,0.2],seed=20)\n",
    "\n",
    "def splitAttackDistance(data):\n",
    "    if data != None:\n",
    "        sum_dist = 0\n",
    "        for time,dist,blueDist in data:\n",
    "            sum_dist += dist\n",
    "        return sum_dist/len(data)\n",
    "    return None\n",
    "\n",
    "convertUDF = udf(lambda x:splitAttackDistance(x),DoubleType())\n",
    "\n",
    "#착지장소에 비행기 동선 추가\n",
    "TrainDF = matchTrainDF.alias('MI').join(matchPlayerDF.alias('LP'),[\"matchId\",\"mapName\"],'inner')\\\n",
    "                      .select('MI.matchId','MI.mapName','LP.playerName','MI.airplaneRoute','LP.landingPlace','LP.ranking'\\\n",
    "                             ,expr(('LP.firstRideTime/LP.liveTime')).alias('firstRideTime')\\\n",
    "                             ,expr(('LP.lastLeaveTime/LP.liveTime')).alias('lastLeaveTime')\\\n",
    "                             ,expr(('LP.moveDistance/LP.liveTime')).alias('moveDistance') \\\n",
    "                             ,convertUDF(col('attacks')).alias('attackDistance')) \\\n",
    "                      .na.drop()\n",
    "TrainDF.printSchema()\n",
    "TrainDF.show(10)\n",
    "\n",
    "TestDF = matchTestDF.alias('MI').join(matchPlayerDF.alias('LP'),[\"matchId\",\"mapName\"],'inner')\\\n",
    "                      .select('MI.matchId','MI.mapName','LP.playerName','MI.airplaneRoute','LP.landingPlace','LP.ranking'\\\n",
    "                             ,expr(('LP.firstRideTime/LP.liveTime')).alias('firstRideTime')\\\n",
    "                             ,expr(('LP.lastLeaveTime/LP.liveTime')).alias('lastLeaveTime')\\\n",
    "                             ,expr(('LP.moveDistance/LP.liveTime')).alias('moveDistance') \\\n",
    "                             ,convertUDF(col('attacks')).alias('attackDistance')) \\\n",
    "                      .na.drop()\n",
    "TestDF.printSchema()\n",
    "TestDF.show(10)"
   ]
  },
  {
   "cell_type": "code",
   "execution_count": 57,
   "id": "c451df2c",
   "metadata": {
    "scrolled": true
   },
   "outputs": [],
   "source": [
    "#등수 묶기(순위권)\n",
    "def splitrank(data):\n",
    "    if data<=3:\n",
    "        return \"HighRank\"\n",
    "    elif data>=10:\n",
    "        return \"MiddleRank\"\n",
    "    else:\n",
    "        return \"LowRank\"\n",
    "    return data\n",
    "\n",
    "convertUDF = udf(lambda x:splitrank(x),StringType())\n",
    "\n",
    "TrainDF = TrainDF.select('matchId','mapName','playerName','airplaneRoute','landingPlace' \\\n",
    "                         ,convertUDF(col('ranking')).alias('ranking'),'firstRideTime' \\\n",
    "                         ,'lastLeaveTime','moveDistance','attackDistance')\n",
    "TestDF = TestDF.select('matchId','mapName','playerName','airplaneRoute','landingPlace' \\\n",
    "                         ,convertUDF(col('ranking')).alias('ranking'),'firstRideTime' \\\n",
    "                         ,'lastLeaveTime','moveDistance','attackDistance')"
   ]
  },
  {
   "cell_type": "code",
   "execution_count": 76,
   "id": "70f57848",
   "metadata": {},
   "outputs": [],
   "source": [
    "categoricalCols = ['airplaneRoute','landingPlace']\n",
    "stringIndexer = StringIndexer(inputCols=categoricalCols, outputCols=[x+'index' for x in categoricalCols]\\\n",
    "                             ,handleInvalid=\"keep\")\n",
    "encoder = OneHotEncoder(inputCols=stringIndexer.getOutputCols(),outputCols=[x+'OHE' for x in categoricalCols])\n",
    "labelToIndex = StringIndexer(inputCol='ranking',outputCol='label')"
   ]
  },
  {
   "cell_type": "code",
   "execution_count": 77,
   "id": "7dfc041e",
   "metadata": {},
   "outputs": [],
   "source": [
    "from pyspark.ml.feature import VectorAssembler\n",
    "numericCols = ['firstRideTime','lastLeaveTime','moveDistance','attackDistance']\n",
    "assemblerInputs = [c + \"OHE\" for c in categoricalCols] + numericCols\n",
    "vecAssembler = VectorAssembler(inputCols=assemblerInputs, outputCol=\"features\")"
   ]
  },
  {
   "cell_type": "code",
   "execution_count": 78,
   "id": "51513955",
   "metadata": {},
   "outputs": [],
   "source": [
    "from pyspark.ml.classification import LogisticRegression\n",
    "lr = LogisticRegression(featuresCol='features', labelCol='label')"
   ]
  },
  {
   "cell_type": "code",
   "execution_count": 79,
   "id": "a3c4fb1c",
   "metadata": {
    "scrolled": true
   },
   "outputs": [
    {
     "name": "stdout",
     "output_type": "stream",
     "text": [
      "+----------+-----+----------+-------------------------------------------------------------+\n",
      "|ranking   |label|prediction|probability                                                  |\n",
      "+----------+-----+----------+-------------------------------------------------------------+\n",
      "|MiddleRank|0.0  |0.0       |[0.8085050613223205,0.18082176054631036,0.010673178131369174]|\n",
      "|HighRank  |2.0  |2.0       |[0.06979569577700348,0.34186588885181796,0.5883384153711786] |\n",
      "|MiddleRank|0.0  |0.0       |[0.7269398821063846,0.25313783141587193,0.019922286477743446]|\n",
      "|HighRank  |2.0  |2.0       |[0.07652716854895478,0.4296777023574874,0.4937951290935578]  |\n",
      "|MiddleRank|0.0  |0.0       |[0.499899159099832,0.4216139491696316,0.0784868917305365]    |\n",
      "+----------+-----+----------+-------------------------------------------------------------+\n",
      "only showing top 5 rows\n",
      "\n"
     ]
    }
   ],
   "source": [
    "from pyspark.ml import Pipeline\n",
    "pipeline = Pipeline(stages=[stringIndexer, encoder, labelToIndex, vecAssembler, lr])\n",
    "pipelineModel = pipeline.fit(TrainDF)\n",
    "predDF = pipelineModel.transform(TestDF) \n",
    "predDF.select(\"ranking\", \"label\", \"prediction\", \"probability\").show(5,truncate=False)"
   ]
  },
  {
   "cell_type": "code",
   "execution_count": 81,
   "id": "f548eb17",
   "metadata": {},
   "outputs": [
    {
     "name": "stdout",
     "output_type": "stream",
     "text": [
      "검증 정확도 =  0.5964785085447954\n"
     ]
    }
   ],
   "source": [
    "from pyspark.ml.evaluation import MulticlassClassificationEvaluator\n",
    "evaluator = MulticlassClassificationEvaluator( \\\n",
    "            labelCol=\"label\", predictionCol=\"prediction\",metricName=\"accuracy\")\n",
    "accuracy = evaluator.evaluate(predDF)\n",
    "print(\"검증 정확도 = \" , accuracy)"
   ]
  },
  {
   "cell_type": "code",
   "execution_count": 82,
   "id": "c7513d46",
   "metadata": {},
   "outputs": [
    {
     "name": "stdout",
     "output_type": "stream",
     "text": [
      "예측 정확도:  0.5931641636457794\n"
     ]
    }
   ],
   "source": [
    "from pyspark.ml.tuning import ParamGridBuilder, CrossValidator\n",
    "\n",
    "paramGrid = ParamGridBuilder().addGrid(lr.regParam, [0.01, 0.5, 2.0]) \\\n",
    ".addGrid(lr.elasticNetParam, [0.0, 0.5, 1.0]) \\\n",
    ".build()\n",
    "cv = CrossValidator(estimator=pipeline, estimatorParamMaps=paramGrid, evaluator=evaluator, numFolds=3)\n",
    "cvModel = cv.fit(TrainDF)\n",
    "cvPredDF = cvModel.transform(TestDF)\n",
    "print(\"예측 정확도: \", evaluator.evaluate(cvPredDF))"
   ]
  },
  {
   "cell_type": "code",
   "execution_count": 69,
   "id": "f1666359",
   "metadata": {
    "scrolled": true
   },
   "outputs": [
    {
     "data": {
      "text/html": [
       "<div>\n",
       "<style scoped>\n",
       "    .dataframe tbody tr th:only-of-type {\n",
       "        vertical-align: middle;\n",
       "    }\n",
       "\n",
       "    .dataframe tbody tr th {\n",
       "        vertical-align: top;\n",
       "    }\n",
       "\n",
       "    .dataframe thead th {\n",
       "        text-align: right;\n",
       "    }\n",
       "</style>\n",
       "<table border=\"1\" class=\"dataframe\">\n",
       "  <thead>\n",
       "    <tr style=\"text-align: right;\">\n",
       "      <th></th>\n",
       "      <th>firstRideTime</th>\n",
       "      <th>lastLeaveTime</th>\n",
       "      <th>moveDistance</th>\n",
       "      <th>attackDistance</th>\n",
       "      <th>airplaneRouteindex</th>\n",
       "      <th>landingPlaceindex</th>\n",
       "    </tr>\n",
       "  </thead>\n",
       "  <tbody>\n",
       "    <tr>\n",
       "      <th>firstRideTime</th>\n",
       "      <td>1.000000</td>\n",
       "      <td>0.500792</td>\n",
       "      <td>-0.069316</td>\n",
       "      <td>-0.039517</td>\n",
       "      <td>0.006824</td>\n",
       "      <td>0.054680</td>\n",
       "    </tr>\n",
       "    <tr>\n",
       "      <th>lastLeaveTime</th>\n",
       "      <td>0.500792</td>\n",
       "      <td>1.000000</td>\n",
       "      <td>-0.310949</td>\n",
       "      <td>0.203380</td>\n",
       "      <td>0.007079</td>\n",
       "      <td>0.051897</td>\n",
       "    </tr>\n",
       "    <tr>\n",
       "      <th>moveDistance</th>\n",
       "      <td>-0.069316</td>\n",
       "      <td>-0.310949</td>\n",
       "      <td>1.000000</td>\n",
       "      <td>-0.275928</td>\n",
       "      <td>-0.004577</td>\n",
       "      <td>-0.009760</td>\n",
       "    </tr>\n",
       "    <tr>\n",
       "      <th>attackDistance</th>\n",
       "      <td>-0.039517</td>\n",
       "      <td>0.203380</td>\n",
       "      <td>-0.275928</td>\n",
       "      <td>1.000000</td>\n",
       "      <td>0.012765</td>\n",
       "      <td>0.025956</td>\n",
       "    </tr>\n",
       "    <tr>\n",
       "      <th>airplaneRouteindex</th>\n",
       "      <td>0.006824</td>\n",
       "      <td>0.007079</td>\n",
       "      <td>-0.004577</td>\n",
       "      <td>0.012765</td>\n",
       "      <td>1.000000</td>\n",
       "      <td>-0.002763</td>\n",
       "    </tr>\n",
       "    <tr>\n",
       "      <th>landingPlaceindex</th>\n",
       "      <td>0.054680</td>\n",
       "      <td>0.051897</td>\n",
       "      <td>-0.009760</td>\n",
       "      <td>0.025956</td>\n",
       "      <td>-0.002763</td>\n",
       "      <td>1.000000</td>\n",
       "    </tr>\n",
       "  </tbody>\n",
       "</table>\n",
       "</div>"
      ],
      "text/plain": [
       "                    firstRideTime  lastLeaveTime  moveDistance  \\\n",
       "firstRideTime            1.000000       0.500792     -0.069316   \n",
       "lastLeaveTime            0.500792       1.000000     -0.310949   \n",
       "moveDistance            -0.069316      -0.310949      1.000000   \n",
       "attackDistance          -0.039517       0.203380     -0.275928   \n",
       "airplaneRouteindex       0.006824       0.007079     -0.004577   \n",
       "landingPlaceindex        0.054680       0.051897     -0.009760   \n",
       "\n",
       "                    attackDistance  airplaneRouteindex  landingPlaceindex  \n",
       "firstRideTime            -0.039517            0.006824           0.054680  \n",
       "lastLeaveTime             0.203380            0.007079           0.051897  \n",
       "moveDistance             -0.275928           -0.004577          -0.009760  \n",
       "attackDistance            1.000000            0.012765           0.025956  \n",
       "airplaneRouteindex        0.012765            1.000000          -0.002763  \n",
       "landingPlaceindex         0.025956           -0.002763           1.000000  "
      ]
     },
     "execution_count": 69,
     "metadata": {},
     "output_type": "execute_result"
    }
   ],
   "source": [
    "categoricalCols = ['airplaneRoute','landingPlace']\n",
    "stringIndexer = StringIndexer(inputCols=categoricalCols, outputCols=[x+'index' for x in categoricalCols])\n",
    "stringIndexerModel = stringIndexer.fit(TrainDF)\n",
    "tempIndexerDF = stringIndexerModel.transform(TrainDF)\n",
    "\n",
    "import matplotlib.pyplot as plt\n",
    "import pandas as pd\n",
    "%matplotlib inline\n",
    "testDF = tempIndexerDF.toPandas()\n",
    "testDF = testDF.corr()\n",
    "testDF"
   ]
  },
  {
   "cell_type": "code",
   "execution_count": 72,
   "id": "f87228ea",
   "metadata": {},
   "outputs": [
    {
     "data": {
      "image/png": "[encoded data removed]",
      "text/plain": [
       "<Figure size 288x288 with 2 Axes>"
      ]
     },
     "metadata": {
      "needs_background": "light"
     },
     "output_type": "display_data"
    }
   ],
   "source": [
    "plt.matshow(testDF)\n",
    "plt.xticks(range(testDF.shape[1]),testDF.columns, fontsize=14, rotation=90)\n",
    "plt.gca().xaxis.tick_bottom()\n",
    "plt.yticks(range(testDF.shape[1]),testDF.columns, fontsize=14)\n",
    "\n",
    "cb = plt.colorbar()\n",
    "cb.ax.tick_params(labelsize=14)\n",
    "plt.show()"
   ]
  },
  {
   "cell_type": "code",
   "execution_count": 83,
   "id": "e7bde730",
   "metadata": {},
   "outputs": [
    {
     "name": "stdout",
     "output_type": "stream",
     "text": [
      "root\n",
      " |-- matchId: string (nullable = true)\n",
      " |-- mapName: string (nullable = true)\n",
      " |-- playerName: string (nullable = true)\n",
      " |-- airplaneRoute: string (nullable = true)\n",
      " |-- landingPlace: string (nullable = true)\n",
      " |-- ranking: long (nullable = true)\n",
      "\n",
      "+--------------------+-----------+-----------+-------------+-------------+-------+\n",
      "|             matchId|    mapName| playerName|airplaneRoute| landingPlace|ranking|\n",
      "+--------------------+-----------+-----------+-------------+-------------+-------+\n",
      "|376564f4-b798-4b8...|Baltic_Main|   mono0000|       Middle|         Farm|      2|\n",
      "|376564f4-b798-4b8...|Baltic_Main|  MANGO0_0O|       Middle|      another|     12|\n",
      "|376564f4-b798-4b8...|Baltic_Main|   JB_River|       Middle|      Yasnaya|      4|\n",
      "|376564f4-b798-4b8...|Baltic_Main| baebaebaby|       Middle|      Severny|     12|\n",
      "|376564f4-b798-4b8...|Baltic_Main|AFTV_DDOBOM|       Middle| MilitaryBase|     10|\n",
      "|376564f4-b798-4b8...|Baltic_Main|   1ban_in_|       Middle|       Quarry|     15|\n",
      "|376564f4-b798-4b8...|Baltic_Main|StoNe_MoonE|       Middle|     AquaCity|      6|\n",
      "|376564f4-b798-4b8...|Baltic_Main|   MGc_moon|       Middle|MiddleVillage|      8|\n",
      "|376564f4-b798-4b8...|Baltic_Main|20000205-_-|       Middle|       School|      1|\n",
      "|376564f4-b798-4b8...|Baltic_Main| WarGermany|       Middle|      another|      6|\n",
      "+--------------------+-----------+-----------+-------------+-------------+-------+\n",
      "only showing top 10 rows\n",
      "\n",
      "root\n",
      " |-- matchId: string (nullable = true)\n",
      " |-- mapName: string (nullable = true)\n",
      " |-- playerName: string (nullable = true)\n",
      " |-- airplaneRoute: string (nullable = true)\n",
      " |-- landingPlace: string (nullable = true)\n",
      " |-- ranking: long (nullable = true)\n",
      "\n",
      "+--------------------+-----------+---------------+----------------+----------------+-------+\n",
      "|             matchId|    mapName|     playerName|   airplaneRoute|    landingPlace|ranking|\n",
      "+--------------------+-----------+---------------+----------------+----------------+-------+\n",
      "|c1f7357d-8598-4f4...|Baltic_Main|    SXX_SeoHyun|RightSide_Middle|    MilitaryBase|     15|\n",
      "|c1f7357d-8598-4f4...|Baltic_Main|   YoonBBangDoL|RightSide_Middle|  MilitaryBridge|      9|\n",
      "|c1f7357d-8598-4f4...|Baltic_Main|        HEXCA_L|RightSide_Middle|        Pochinki|      6|\n",
      "|c1f7357d-8598-4f4...|Baltic_Main|        BKL-Bok|RightSide_Middle|         Lipovka|      3|\n",
      "|c1f7357d-8598-4f4...|Baltic_Main|  Zzam_zI_Jo_Or|RightSide_Middle|     Novorepnoye|      2|\n",
      "|c1f7357d-8598-4f4...|Baltic_Main|   DOKSA_Malbab|RightSide_Middle|RightSideVillage|      4|\n",
      "|c1f7357d-8598-4f4...|Baltic_Main|          Gz_Os|RightSide_Middle|      Ferry Pier|     12|\n",
      "|c1f7357d-8598-4f4...|Baltic_Main|      woovelyzz|RightSide_Middle|    MilitaryBase|     14|\n",
      "|c1f7357d-8598-4f4...|Baltic_Main|AfreecaTV_Kasia|RightSide_Middle|    MilitaryBase|     15|\n",
      "|c1f7357d-8598-4f4...|Baltic_Main|        VVV_CEO|RightSide_Middle|        Pochinki|     10|\n",
      "+--------------------+-----------+---------------+----------------+----------------+-------+\n",
      "only showing top 10 rows\n",
      "\n"
     ]
    }
   ],
   "source": [
    "from pyspark.ml.feature import StringIndexer, OneHotEncoder\n",
    "#매치 정보 훈련 테스트 데이터로 분할\n",
    "matchTrainDF, matchTestDF = matchInfoDF.randomSplit([0.8,0.2],seed=20)\n",
    "\n",
    "#1단계 맵, 비행기동선, 착지장소\n",
    "#착지장소에 비행기 동선 추가\n",
    "matchTrainDF = matchTrainDF.alias('MI').join(matchPlayerDF.alias('LP'),[\"matchId\",\"mapName\"],'inner')\\\n",
    "                      .select('MI.matchId','MI.mapName','LP.playerName','MI.airplaneRoute','LP.landingPlace','LP.ranking') \\\n",
    "                      .na.drop()\n",
    "matchTrainDF.printSchema()\n",
    "matchTrainDF.show(10)\n",
    "\n",
    "matchTestDF = matchTestDF.alias('MI').join(matchPlayerDF.alias('LP'),[\"matchId\",\"mapName\"],'inner')\\\n",
    "                      .select('MI.matchId','MI.mapName','LP.playerName','MI.airplaneRoute','LP.landingPlace','LP.ranking') \\\n",
    "                      .na.drop()\n",
    "matchTestDF.printSchema()\n",
    "matchTestDF.show(10)"
   ]
  },
  {
   "cell_type": "code",
   "execution_count": 84,
   "id": "3edd3b9c",
   "metadata": {},
   "outputs": [
    {
     "name": "stdout",
     "output_type": "stream",
     "text": [
      "+--------------------+-----------+-------------+-------------+-------------+----------+\n",
      "|             matchId|    mapName|   playerName|airplaneRoute| landingPlace|   ranking|\n",
      "+--------------------+-----------+-------------+-------------+-------------+----------+\n",
      "|376564f4-b798-4b8...|Baltic_Main|  Happiness45|       Middle|       Quarry|MiddleRank|\n",
      "|376564f4-b798-4b8...|Baltic_Main|  WWS_Meerkat|       Middle|      Yasnaya|MiddleRank|\n",
      "|376564f4-b798-4b8...|Baltic_Main|  xoxo_Toreta|       Middle|     Pochinki|MiddleRank|\n",
      "|376564f4-b798-4b8...|Baltic_Main|   Safe_ChanE|       Middle|      another|MiddleRank|\n",
      "|376564f4-b798-4b8...|Baltic_Main|BBQ-_-chicken|       Middle|      Yasnaya|  HighRank|\n",
      "|376564f4-b798-4b8...|Baltic_Main|  WWS_KKANZOC|       Middle|      Yasnaya|MiddleRank|\n",
      "|376564f4-b798-4b8...|Baltic_Main|    dongtaeng|       Middle|      Severny|MiddleRank|\n",
      "|376564f4-b798-4b8...|Baltic_Main|     OcO_SEXY|       Middle|MiddleVillage|   LowRank|\n",
      "|376564f4-b798-4b8...|Baltic_Main|   Safe_seven|       Middle|      another|MiddleRank|\n",
      "|376564f4-b798-4b8...|Baltic_Main|  ZIA66_Under|       Middle|     Primorsk|   LowRank|\n",
      "+--------------------+-----------+-------------+-------------+-------------+----------+\n",
      "only showing top 10 rows\n",
      "\n",
      "+--------------------+-----------+---------------+----------------+----------------+----------+\n",
      "|             matchId|    mapName|     playerName|   airplaneRoute|    landingPlace|   ranking|\n",
      "+--------------------+-----------+---------------+----------------+----------------+----------+\n",
      "|c1f7357d-8598-4f4...|Baltic_Main|    SXX_SeoHyun|RightSide_Middle|    MilitaryBase|MiddleRank|\n",
      "|c1f7357d-8598-4f4...|Baltic_Main|   YoonBBangDoL|RightSide_Middle|  MilitaryBridge|   LowRank|\n",
      "|c1f7357d-8598-4f4...|Baltic_Main|        HEXCA_L|RightSide_Middle|        Pochinki|   LowRank|\n",
      "|c1f7357d-8598-4f4...|Baltic_Main|        BKL-Bok|RightSide_Middle|         Lipovka|  HighRank|\n",
      "|c1f7357d-8598-4f4...|Baltic_Main|  Zzam_zI_Jo_Or|RightSide_Middle|     Novorepnoye|  HighRank|\n",
      "|c1f7357d-8598-4f4...|Baltic_Main|   DOKSA_Malbab|RightSide_Middle|RightSideVillage|   LowRank|\n",
      "|c1f7357d-8598-4f4...|Baltic_Main|          Gz_Os|RightSide_Middle|      Ferry Pier|MiddleRank|\n",
      "|c1f7357d-8598-4f4...|Baltic_Main|      woovelyzz|RightSide_Middle|    MilitaryBase|MiddleRank|\n",
      "|c1f7357d-8598-4f4...|Baltic_Main|AfreecaTV_Kasia|RightSide_Middle|    MilitaryBase|MiddleRank|\n",
      "|c1f7357d-8598-4f4...|Baltic_Main|        VVV_CEO|RightSide_Middle|        Pochinki|MiddleRank|\n",
      "+--------------------+-----------+---------------+----------------+----------------+----------+\n",
      "only showing top 10 rows\n",
      "\n"
     ]
    }
   ],
   "source": [
    "#등수 묶기(순위권)\n",
    "def splitrank(data):\n",
    "    if data<=3:\n",
    "        return \"HighRank\"\n",
    "    elif data>=10:\n",
    "        return \"MiddleRank\"\n",
    "    else:\n",
    "        return \"LowRank\"\n",
    "    return data\n",
    "\n",
    "convertUDF = udf(lambda x:splitrank(x),StringType())\n",
    "\n",
    "matchTrainDF = matchTrainDF.select('matchId','mapName','playerName','airplaneRoute','landingPlace',convertUDF(col('ranking')).alias('ranking'))\n",
    "matchTrainDF.show(10)\n",
    "\n",
    "matchTestDF = matchTestDF.select('matchId','mapName','playerName','airplaneRoute','landingPlace',convertUDF(col('ranking')).alias('ranking'))\n",
    "matchTestDF.show(10)"
   ]
  },
  {
   "cell_type": "code",
   "execution_count": 85,
   "id": "1f77a5ed",
   "metadata": {},
   "outputs": [],
   "source": [
    "trainDF = matchTrainDF.select('airplaneRoute','landingPlace','ranking')\n",
    "testDF = matchTestDF.select('airplaneRoute','landingPlace','ranking')\n",
    "\n",
    "categoricalCols = ['airplaneRoute','landingPlace']\n",
    "stringIndexer = StringIndexer(inputCols=categoricalCols, outputCols=[x+'index' for x in categoricalCols]\\\n",
    "                             ,handleInvalid=\"keep\")\n",
    "encoder = OneHotEncoder(inputCols=stringIndexer.getOutputCols(),outputCols=[x+'OHE' for x in categoricalCols])\n",
    "labelToIndex = StringIndexer(inputCol='ranking',outputCol='label')"
   ]
  },
  {
   "cell_type": "code",
   "execution_count": 86,
   "id": "e493fa2a",
   "metadata": {},
   "outputs": [
    {
     "name": "stdout",
     "output_type": "stream",
     "text": [
      "+-------------+-------------+----------+------------------+-----------------+\n",
      "|airplaneRoute| landingPlace|   ranking|airplaneRouteindex|landingPlaceindex|\n",
      "+-------------+-------------+----------+------------------+-----------------+\n",
      "|       Middle|      Yasnaya|   LowRank|               0.0|              5.0|\n",
      "|       Middle|       Quarry|MiddleRank|               0.0|             21.0|\n",
      "|       Middle|MiddleVillage|   LowRank|               0.0|              1.0|\n",
      "|       Middle|       School|  HighRank|               0.0|              4.0|\n",
      "|       Middle|      Yasnaya|   LowRank|               0.0|              5.0|\n",
      "+-------------+-------------+----------+------------------+-----------------+\n",
      "only showing top 5 rows\n",
      "\n"
     ]
    }
   ],
   "source": [
    "stringIndexerModel = stringIndexer.fit(trainDF)\n",
    "tempIndexerDF = stringIndexerModel.transform(trainDF)\n",
    "tempIndexerDF.show(5)"
   ]
  },
  {
   "cell_type": "code",
   "execution_count": 87,
   "id": "724f3639",
   "metadata": {},
   "outputs": [
    {
     "name": "stdout",
     "output_type": "stream",
     "text": [
      "[('RightSide_Middle', 1.0), ('Middle', 0.0), ('LeftSide_Middle', 2.0)]\n",
      "[('Zharki', 30.0), ('TopVillage', 22.0), ('Farm', 11.0), ('Georgopol_south', 3.0), ('Yasnaya', 5.0), ('Ruins', 27.0), ('Ferry Pier', 24.0), ('Prison', 25.0), ('Kameshki', 29.0), ('Stalber', 23.0), ('Georgopol_north', 8.0), ('ShootingRange', 31.0), ('Mansion', 26.0), ('MilitaryBridge', 28.0), ('Pochinki', 2.0), ('School', 4.0), ('Getka', 15.0), ('Rozhok', 14.0), ('another', 0.0), ('Quarry', 21.0), ('Primorsk', 12.0), ('MiddleBridgeVillage', 20.0), ('RightSideVillage', 19.0), ('Mylta', 7.0), ('MilitaryBackYard', 33.0), ('Novorepnoye', 9.0), ('MiddleVillage', 1.0), ('Severny', 10.0), ('Shelter', 17.0), ('SideVillage', 13.0), ('AquaCity', 32.0), ('MilitaryBase', 6.0), ('MyltaPower', 18.0), ('Lipovka', 16.0)]\n"
     ]
    }
   ],
   "source": [
    "#mapNameIndex = []\n",
    "airplaneRouteIndex = []\n",
    "landingPlaceIndex = []\n",
    "\n",
    "#for i in tempIndexerDF.select('mapName','mapNameindex').distinct().collect():\n",
    "    #mapNameIndex.append(tuple(i))\n",
    "for i in tempIndexerDF.select('airplaneRoute','airplaneRouteindex').distinct().collect():\n",
    "    airplaneRouteIndex.append(tuple(i))\n",
    "for i in tempIndexerDF.select('landingPlace','landingPlaceindex').distinct().collect():\n",
    "    landingPlaceIndex.append(tuple(i))\n",
    "    \n",
    "#print(mapNameIndex)\n",
    "print(airplaneRouteIndex)\n",
    "print(landingPlaceIndex)"
   ]
  },
  {
   "cell_type": "code",
   "execution_count": 88,
   "id": "b06f8eb1",
   "metadata": {},
   "outputs": [
    {
     "name": "stdout",
     "output_type": "stream",
     "text": [
      "+-------------+------------+----------+------------------+-----------------+\n",
      "|airplaneRoute|landingPlace|   ranking|airplaneRouteindex|landingPlaceindex|\n",
      "+-------------+------------+----------+------------------+-----------------+\n",
      "|       Middle|        Farm|  HighRank|               0.0|             11.0|\n",
      "|       Middle|     another|MiddleRank|               0.0|              0.0|\n",
      "|       Middle|     Yasnaya|   LowRank|               0.0|              5.0|\n",
      "|       Middle|     Severny|MiddleRank|               0.0|             10.0|\n",
      "|       Middle|MilitaryBase|MiddleRank|               0.0|              6.0|\n",
      "+-------------+------------+----------+------------------+-----------------+\n",
      "only showing top 5 rows\n",
      "\n"
     ]
    }
   ],
   "source": [
    "from pyspark.ml.feature import VectorAssembler\n",
    "assemblerInputs = [c + \"OHE\" for c in categoricalCols]\n",
    "vecAssembler = VectorAssembler(inputCols=assemblerInputs, outputCol=\"features\")\n",
    "tempIndexerDF = stringIndexerModel.transform(trainDF)\n",
    "tempIndexerDF.show(5)"
   ]
  },
  {
   "cell_type": "code",
   "execution_count": 89,
   "id": "1ec4d197",
   "metadata": {},
   "outputs": [],
   "source": [
    "from pyspark.ml.classification import LogisticRegression\n",
    "lr = LogisticRegression(featuresCol='features', labelCol='label')"
   ]
  },
  {
   "cell_type": "code",
   "execution_count": 90,
   "id": "c198870f",
   "metadata": {},
   "outputs": [
    {
     "name": "stdout",
     "output_type": "stream",
     "text": [
      "+---------------------+-----+----------+-------------------------------------------------------------+\n",
      "|features             |label|prediction|probability                                                  |\n",
      "+---------------------+-----+----------+-------------------------------------------------------------+\n",
      "|(37,[1,9],[1.0,1.0]) |0.0  |0.0       |[0.4760832874229982,0.35914357180230816,0.16477314077469357] |\n",
      "|(37,[1,31],[1.0,1.0])|1.0  |1.0       |[0.3214271593785508,0.49548580926500585,0.18308703135644333] |\n",
      "|(37,[1,5],[1.0,1.0]) |1.0  |0.0       |[0.5110892626666231,0.3108615571167779,0.17804918021659896]  |\n",
      "|(37,[1,19],[1.0,1.0])|2.0  |0.0       |[0.5275883608200768,0.2959602226740886,0.17645141650583474]  |\n",
      "|(37,[1,12],[1.0,1.0])|2.0  |0.0       |[0.44010954964022664,0.36606848078288023,0.19382196957689324]|\n",
      "+---------------------+-----+----------+-------------------------------------------------------------+\n",
      "only showing top 5 rows\n",
      "\n"
     ]
    }
   ],
   "source": [
    "from pyspark.ml import Pipeline\n",
    "pipeline = Pipeline(stages=[stringIndexer, encoder, labelToIndex, vecAssembler, lr])\n",
    "pipelineModel = pipeline.fit(trainDF)\n",
    "predDF = pipelineModel.transform(testDF) \n",
    "predDF.select(\"features\", \"label\", \"prediction\", \"probability\").show(5,truncate=False)"
   ]
  },
  {
   "cell_type": "code",
   "execution_count": 91,
   "id": "86a66e37",
   "metadata": {},
   "outputs": [
    {
     "name": "stdout",
     "output_type": "stream",
     "text": [
      "+---------------------+-----+----------+-------------------------------------------------------------+\n",
      "|features             |label|prediction|probability                                                  |\n",
      "+---------------------+-----+----------+-------------------------------------------------------------+\n",
      "|(37,[1,9],[1.0,1.0]) |0.0  |0.0       |[0.4760832874229982,0.35914357180230816,0.16477314077469357] |\n",
      "|(37,[1,31],[1.0,1.0])|1.0  |1.0       |[0.3214271593785508,0.49548580926500585,0.18308703135644333] |\n",
      "|(37,[1,5],[1.0,1.0]) |1.0  |0.0       |[0.5110892626666231,0.3108615571167779,0.17804918021659896]  |\n",
      "|(37,[1,19],[1.0,1.0])|2.0  |0.0       |[0.5275883608200768,0.2959602226740886,0.17645141650583474]  |\n",
      "|(37,[1,12],[1.0,1.0])|2.0  |0.0       |[0.44010954964022664,0.36606848078288023,0.19382196957689324]|\n",
      "+---------------------+-----+----------+-------------------------------------------------------------+\n",
      "only showing top 5 rows\n",
      "\n"
     ]
    }
   ],
   "source": [
    "predDF.select(\"features\", \"label\", \"prediction\", \"probability\").show(5,truncate=False)"
   ]
  },
  {
   "cell_type": "code",
   "execution_count": 92,
   "id": "723a3b76",
   "metadata": {},
   "outputs": [
    {
     "name": "stdout",
     "output_type": "stream",
     "text": [
      "정확도 =  0.4604623389917257\n"
     ]
    }
   ],
   "source": [
    "from pyspark.ml.evaluation import MulticlassClassificationEvaluator\n",
    "\n",
    "# Select (prediction, true label) and compute test error\n",
    "evaluator = MulticlassClassificationEvaluator(metricName=\"accuracy\")\n",
    "accuracy = evaluator.evaluate(predDF)\n",
    "print(\"정확도 = \" ,accuracy)"
   ]
  },
  {
   "cell_type": "code",
   "execution_count": null,
   "id": "924593fa",
   "metadata": {},
   "outputs": [],
   "source": []
  }
 ],
 "metadata": {
  "kernelspec": {
   "display_name": "Python 3",
   "language": "python",
   "name": "python3"
  },
  "language_info": {
   "codemirror_mode": {
    "name": "ipython",
    "version": 3
   },
   "file_extension": ".py",
   "mimetype": "text/x-python",
   "name": "python",
   "nbconvert_exporter": "python",
   "pygments_lexer": "ipython3",
   "version": "3.6.13"
  }
 },
 "nbformat": 4,
 "nbformat_minor": 5
}
