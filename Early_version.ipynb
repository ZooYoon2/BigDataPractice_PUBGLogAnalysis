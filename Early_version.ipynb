{
 "cells": [
  {
   "cell_type": "code",
   "execution_count": 1,
   "id": "6210cde4",
   "metadata": {},
   "outputs": [],
   "source": [
    "from pyspark.sql.types import *\n",
    "from pyspark.sql.functions import *\n",
    "from pyspark import SparkConf\n",
    "import json\n",
    "from pyspark import SparkContext,SparkFiles\n",
    "import numpy as np\n",
    "\n",
    "#matchInfoDF\n",
    "#rankingOfLandingPlayerDF\n",
    "#rankingOfDistanceCircleDF\n",
    "#rankingOfcombatCountDF\n",
    "#rankingOfAttackDistanceDF\n",
    "#rankingOfcombatDistanceDF 큰차이없음\n",
    "#rankingOfMoveDistanceDF 큰차이없음"
   ]
  },
  {
   "cell_type": "code",
   "execution_count": 2,
   "id": "8e44aa9b",
   "metadata": {
    "scrolled": false
   },
   "outputs": [
    {
     "name": "stdout",
     "output_type": "stream",
     "text": [
      "root\n",
      " |-- createdAt: string (nullable = true)\n",
      " |-- duration: long (nullable = true)\n",
      " |-- gameMode: string (nullable = true)\n",
      " |-- id: string (nullable = true)\n",
      " |-- isCustomMatch: boolean (nullable = true)\n",
      " |-- mapName: string (nullable = true)\n",
      " |-- matchType: string (nullable = true)\n",
      " |-- seasonState: string (nullable = true)\n",
      " |-- shardId: string (nullable = true)\n",
      " |-- stats: string (nullable = true)\n",
      " |-- tags: string (nullable = true)\n",
      " |-- titleId: string (nullable = true)\n",
      " |-- type: string (nullable = true)\n",
      "\n",
      "+--------------------+--------------------+-----------+--------+\n",
      "|                  id|           createdAt|    mapName|duration|\n",
      "+--------------------+--------------------+-----------+--------+\n",
      "|57dff48b-45a6-4e2...|2022-05-26T01:59:10Z|Baltic_Main|    1844|\n",
      "|17562fa2-00f7-4dd...|2022-05-15T22:48:17Z|Baltic_Main|    1881|\n",
      "|33775097-2850-429...|2022-05-20T20:55:55Z| Tiger_Main|    1897|\n",
      "|ad7decd7-7fb4-405...|2022-05-20T01:36:18Z|Desert_Main|    1692|\n",
      "|5d3d4b8a-121e-4dd...|2022-05-21T22:17:36Z|Baltic_Main|    1491|\n",
      "+--------------------+--------------------+-----------+--------+\n",
      "only showing top 5 rows\n",
      "\n"
     ]
    }
   ],
   "source": [
    "matchDF = spark.read.format(\"json\").load(\"/sparkdata/PUBG/MatchesList1.json\").distinct()\n",
    "matchDF.printSchema()\n",
    "\n",
    "matchDF = matchDF.select('id','createdAt','mapName','duration')  \\\n",
    "    .filter((col(\"isCustomMatch\")==False) & (col(\"matchType\")==\"competitive\"))\n",
    "            \n",
    "matchDF.show(5)"
   ]
  },
  {
   "cell_type": "code",
   "execution_count": 3,
   "id": "4c4d642c",
   "metadata": {},
   "outputs": [
    {
     "name": "stdout",
     "output_type": "stream",
     "text": [
      "root\n",
      " |-- blue: array (nullable = true)\n",
      " |    |-- element: array (containsNull = true)\n",
      " |    |    |-- element: double (containsNull = true)\n",
      " |-- matchId: string (nullable = true)\n",
      " |-- red: array (nullable = true)\n",
      " |    |-- element: array (containsNull = true)\n",
      " |    |    |-- element: double (containsNull = true)\n",
      " |-- white: array (nullable = true)\n",
      " |    |-- element: array (containsNull = true)\n",
      " |    |    |-- element: double (containsNull = true)\n",
      "\n",
      "+--------------------+--------------------+--------------------+--------------------+\n",
      "|                blue|             matchId|                 red|               white|\n",
      "+--------------------+--------------------+--------------------+--------------------+\n",
      "|[[0.0, 406387.5, ...|88951693-d6cc-43c...|[[0.0, 0.0, 0.0, ...|[[0.0, 0.0, 0.0, ...|\n",
      "|[[0.0, 406387.5, ...|7139c667-0799-4f1...|[[0.0, 0.0, 0.0, ...|[[0.0, 0.0, 0.0, ...|\n",
      "|[[0.0, 406387.5, ...|4fb5d5e5-11cd-4c0...|[[0.0, 0.0, 0.0, ...|[[0.0, 0.0, 0.0, ...|\n",
      "|[[0.0, 408000.0, ...|0c4c5491-9589-417...|[[0.0, 0.0, 0.0, ...|[[0.0, 0.0, 0.0, ...|\n",
      "|[[0.0, 101175.0, ...|1ebc47bd-a525-4e1...|[[0.0, 0.0, 0.0, ...|[[0.0, 0.0, 0.0, ...|\n",
      "+--------------------+--------------------+--------------------+--------------------+\n",
      "only showing top 5 rows\n",
      "\n"
     ]
    }
   ],
   "source": [
    "circlePositionDF = spark.read.format(\"json\").load(\"/sparkdata/PUBG/Matches1_CirclePosition.json\").distinct()\n",
    "circlePositionDF.printSchema()\n",
    "circlePositionDF.show(5)"
   ]
  },
  {
   "cell_type": "code",
   "execution_count": 4,
   "id": "d766b65f",
   "metadata": {},
   "outputs": [
    {
     "name": "stdout",
     "output_type": "stream",
     "text": [
      "root\n",
      " |-- intercept: double (nullable = true)\n",
      " |-- mapX: long (nullable = true)\n",
      " |-- matchId: string (nullable = true)\n",
      " |-- slope: double (nullable = true)\n",
      "\n",
      "+------------------+------+--------------------+-------------+\n",
      "|         intercept|  mapX|             matchId|        slope|\n",
      "+------------------+------+--------------------+-------------+\n",
      "|-1033813.819757835|409600|ad8cab68-412a-436...| 9.7036999784|\n",
      "|  42688.5710657231|204800|d370e4c8-41ab-455...| 0.1880605381|\n",
      "| -47814.6373893977|819200|f040f45c-c6ce-465...| 1.4857299105|\n",
      "| 440102.2867084884|819200|591d0213-56f6-4fc...| 0.2204598748|\n",
      "|-8539082.767434431|819200|a0639006-045e-42c...|21.0765695416|\n",
      "+------------------+------+--------------------+-------------+\n",
      "only showing top 5 rows\n",
      "\n"
     ]
    }
   ],
   "source": [
    "airplaneRouteDF = spark.read.format(\"json\").load(\"/sparkdata/PUBG/Matches1_AirPlaneRoute.json\").distinct()\n",
    "airplaneRouteDF = airplaneRouteDF.na.drop()\n",
    "airplaneRouteDF.printSchema()\n",
    "airplaneRouteDF.show(5)"
   ]
  },
  {
   "cell_type": "code",
   "execution_count": 5,
   "id": "9ceb1c2f",
   "metadata": {},
   "outputs": [
    {
     "name": "stdout",
     "output_type": "stream",
     "text": [
      "+--------------------+--------------------+-----------+--------+-------------+-----------------------+-------------------+--------------------+--------------------+\n",
      "|             matchId|           createdAt|    mapName|duration|mapSideLength|airplaneRoute_intercept|airplaneRoute_slope|          blueCircle|         whiteCircle|\n",
      "+--------------------+--------------------+-----------+--------+-------------+-----------------------+-------------------+--------------------+--------------------+\n",
      "|0ae4ee76-e0c2-4bb...|2022-05-23T06:06:32Z|Baltic_Main|    1619|       819200|      611591.9402010179|      -0.5766222533|[[0.0, 406387.5, ...|[[0.0, 0.0, 0.0, ...|\n",
      "|168bf93d-38af-4aa...|2022-05-16T02:35:26Z|Baltic_Main|    1786|       819200|     1007058.4492530037|      -1.1085319537|[[0.0, 406387.5, ...|[[0.0, 0.0, 0.0, ...|\n",
      "|3acf4fd9-716f-47c...|2022-05-28T01:25:02Z|Desert_Main|    1739|       819200|     -731698.7205816631|       3.2363852302|[[0.0, 408000.0, ...|[[0.0, 0.0, 0.0, ...|\n",
      "|4f51f004-d69d-4fe...|2022-05-11T23:40:19Z|Desert_Main|    1794|       819200|      107027.0395405793|        0.841954437|[[0.0, 408000.0, ...|[[0.0, 0.0, 0.0, ...|\n",
      "|56901eea-f41e-46d...|2022-05-24T23:04:15Z|Desert_Main|    1655|       819200|      838892.2733942696|      -0.9935941951|[[0.0, 408000.0, ...|[[0.0, 0.0, 0.0, ...|\n",
      "|6093b714-511c-4b4...|2022-05-22T00:26:18Z|Desert_Main|    1507|       819200|      510542.3894846245|      -0.5194276887|[[0.0, 408000.0, ...|[[0.0, 0.0, 0.0, ...|\n",
      "|afaef784-4d55-484...|2022-05-24T15:56:48Z|Baltic_Main|    1649|       819200|   -2.44546523696701...|      47.7283306113|[[0.0, 406387.5, ...|[[0.0, 0.0, 0.0, ...|\n",
      "|b9738d8c-18aa-4b1...|2022-05-18T00:38:54Z|Baltic_Main|    1618|       819200|      256072.2040518089|       0.2643428569|[[0.0, 406387.5, ...|[[0.0, 0.0, 0.0, ...|\n",
      "|c5137c90-9c11-45e...|2022-05-22T07:14:02Z|Baltic_Main|    1891|       819200|      -4254268.58901834|       8.4890634607|[[0.0, 406387.5, ...|[[0.0, 0.0, 0.0, ...|\n",
      "|d3ce3c23-052e-416...|2022-05-11T18:35:30Z|Baltic_Main|    1662|       819200|     -362687.2553151442|       2.1296542401|[[0.0, 406387.5, ...|[[0.0, 0.0, 0.0, ...|\n",
      "+--------------------+--------------------+-----------+--------+-------------+-----------------------+-------------------+--------------------+--------------------+\n",
      "only showing top 10 rows\n",
      "\n",
      "root\n",
      " |-- matchId: string (nullable = true)\n",
      " |-- createdAt: string (nullable = true)\n",
      " |-- mapName: string (nullable = true)\n",
      " |-- duration: long (nullable = true)\n",
      " |-- mapSideLength: long (nullable = true)\n",
      " |-- airplaneRoute_intercept: double (nullable = true)\n",
      " |-- airplaneRoute_slope: double (nullable = true)\n",
      " |-- blueCircle: array (nullable = true)\n",
      " |    |-- element: array (containsNull = true)\n",
      " |    |    |-- element: double (containsNull = true)\n",
      " |-- whiteCircle: array (nullable = true)\n",
      " |    |-- element: array (containsNull = true)\n",
      " |    |    |-- element: double (containsNull = true)\n",
      "\n"
     ]
    }
   ],
   "source": [
    "matchInfoDF = matchDF.join(airplaneRouteDF,matchDF.id==airplaneRouteDF.matchId,\"inner\") \\\n",
    "    .join(circlePositionDF,matchDF.id==circlePositionDF.matchId,\"inner\") \\\n",
    "    .select(matchDF.id.alias(\"matchId\"),matchDF.createdAt,matchDF.mapName,matchDF.duration \\\n",
    "            , airplaneRouteDF.mapX.alias(\"mapSideLength\"), airplaneRouteDF.intercept.alias(\"airplaneRoute_intercept\") \\\n",
    "            , airplaneRouteDF.slope.alias(\"airplaneRoute_slope\") \\\n",
    "            , circlePositionDF.blue.alias(\"blueCircle\"),circlePositionDF.white.alias(\"whiteCircle\"))\n",
    "\n",
    "matchInfoDF.show(10)\n",
    "matchInfoDF.printSchema()"
   ]
  },
  {
   "cell_type": "code",
   "execution_count": 6,
   "id": "7922c65b",
   "metadata": {
    "scrolled": false
   },
   "outputs": [
    {
     "name": "stdout",
     "output_type": "stream",
     "text": [
      "+--------------------+----------------+-------+--------------------+--------------------+\n",
      "|             matchId|      playerName|ranking|                   x|                   y|\n",
      "+--------------------+----------------+-------+--------------------+--------------------+\n",
      "|b9337288-2cce-4f0...|J-SHOWMETHEMONEY|      6|{null, null, null...|{null, null, null...|\n",
      "|3afe59b2-cff9-445...|       KR-LIZARD|      2|{null, null, null...|{null, null, null...|\n",
      "|a2235a57-195d-470...|        BZG_OSAL|     12|{null, null, null...|{null, null, null...|\n",
      "|a2235a57-195d-470...|       AMG_JIANT|      5|{null, null, null...|{null, null, null...|\n",
      "|8a36f768-2c8b-4b7...|      KOR_JS3778|     12|{null, null, null...|{null, null, null...|\n",
      "|a4bc5e6c-f1f1-452...|     Hyein2da-_-|     11|{null, null, null...|{null, null, null...|\n",
      "|475c964d-c67d-4be...|  SwankyPantsGod|      2|{null, null, null...|{null, null, null...|\n",
      "|92d7fcdd-9cf5-42f...|         DC_Rome|      6|{null, null, null...|{null, null, null...|\n",
      "|6e5514ba-d433-4ff...|           KTX04|      7|{null, null, null...|{null, null, null...|\n",
      "|002b52eb-da81-481...|           EwnoW|     10|{null, null, null...|{null, null, null...|\n",
      "+--------------------+----------------+-------+--------------------+--------------------+\n",
      "only showing top 10 rows\n",
      "\n"
     ]
    }
   ],
   "source": [
    "playerLandingDF = spark.read.format(\"json\").load(\"/sparkdata/PUBG/Matches1_PlayerLading.json\").distinct()\n",
    "playerLandingDF.show(10)"
   ]
  },
  {
   "cell_type": "code",
   "execution_count": 7,
   "id": "07ebe1d8",
   "metadata": {},
   "outputs": [
    {
     "name": "stdout",
     "output_type": "stream",
     "text": [
      "root\n",
      " |-- matchId: string (nullable = true)\n",
      " |-- playerName: string (nullable = true)\n",
      " |-- ranking: long (nullable = true)\n",
      " |-- xPos: double (nullable = true)\n",
      " |-- yPos: double (nullable = true)\n",
      "\n",
      "+--------------------+----------------+-------+-------------+------------+\n",
      "|             matchId|      playerName|ranking|         xPos|        yPos|\n",
      "+--------------------+----------------+-------+-------------+------------+\n",
      "|b9337288-2cce-4f0...|J-SHOWMETHEMONEY|      6|   458143.875| 626564.0625|\n",
      "|3afe59b2-cff9-445...|       KR-LIZARD|      2|    399246.25|487224.71875|\n",
      "|a2235a57-195d-470...|        BZG_OSAL|     12|   301561.125|430548.53125|\n",
      "|a2235a57-195d-470...|       AMG_JIANT|      5|71759.5859375| 456179.3125|\n",
      "|8a36f768-2c8b-4b7...|      KOR_JS3778|     12|  643030.8125|245492.71875|\n",
      "|a4bc5e6c-f1f1-452...|     Hyein2da-_-|     11|212831.734375| 272995.9375|\n",
      "|475c964d-c67d-4be...|  SwankyPantsGod|      2| 437845.71875|278797.65625|\n",
      "|92d7fcdd-9cf5-42f...|         DC_Rome|      6|  586717.5625| 343120.6875|\n",
      "|6e5514ba-d433-4ff...|           KTX04|      7|  319892.8125| 635509.8125|\n",
      "|002b52eb-da81-481...|           EwnoW|     10|  483815.3125|  564255.875|\n",
      "+--------------------+----------------+-------+-------------+------------+\n",
      "only showing top 10 rows\n",
      "\n"
     ]
    }
   ],
   "source": [
    "def findPos(data):\n",
    "    Pos=0\n",
    "    for value in data:\n",
    "        if not value == None:\n",
    "            Pos = value\n",
    "    return Pos\n",
    "\n",
    "convertUDF = udf(lambda x:findPos(x),DoubleType())\n",
    "\n",
    "playerLandingDF = playerLandingDF.select(col('matchId'),col('playerName'),col('ranking'),convertUDF(col('x')).alias('xPos')\\\n",
    "                                         ,convertUDF(col('y')).alias('yPos')).distinct()\n",
    "playerLandingDF.printSchema()\n",
    "playerLandingDF.show(10)"
   ]
  },
  {
   "cell_type": "code",
   "execution_count": 8,
   "id": "c8d88254",
   "metadata": {
    "scrolled": false
   },
   "outputs": [
    {
     "name": "stdout",
     "output_type": "stream",
     "text": [
      "root\n",
      " |-- matchId: string (nullable = true)\n",
      " |-- ranking: long (nullable = true)\n",
      " |-- teamXPos: double (nullable = true)\n",
      " |-- teamYPos: double (nullable = true)\n",
      "\n",
      "+--------------------+-----------+-------+-------------+-----------------+\n",
      "|             matchId|    mapName|ranking|     teamXPos|         teamYPos|\n",
      "+--------------------+-----------+-------+-------------+-----------------+\n",
      "|0ae4ee76-e0c2-4bb...|Baltic_Main|      7|595798.671875|        475962.75|\n",
      "|0ae4ee76-e0c2-4bb...|Baltic_Main|      3|     449609.0|   313959.9140625|\n",
      "|0ae4ee76-e0c2-4bb...|Baltic_Main|      4|158194.484375|   281945.4296875|\n",
      "|0ae4ee76-e0c2-4bb...|Baltic_Main|     15|586005.703125|   378576.3671875|\n",
      "|0ae4ee76-e0c2-4bb...|Baltic_Main|     10| 357920.03125|510593.1770833333|\n",
      "|0ae4ee76-e0c2-4bb...|Baltic_Main|     16|    520028.25|     419093.84375|\n",
      "|0ae4ee76-e0c2-4bb...|Baltic_Main|     14| 670518.46875|    476747.078125|\n",
      "|0ae4ee76-e0c2-4bb...|Baltic_Main|     11|619373.140625|      605919.0625|\n",
      "|0ae4ee76-e0c2-4bb...|Baltic_Main|      2|425427.578125|   330667.4921875|\n",
      "|0ae4ee76-e0c2-4bb...|Baltic_Main|     12|222913.565625|      325526.1375|\n",
      "+--------------------+-----------+-------+-------------+-----------------+\n",
      "only showing top 10 rows\n",
      "\n"
     ]
    }
   ],
   "source": [
    "#팀단위로 변경\n",
    "teamsLandingDF = playerLandingDF.groupBy('matchId','ranking').agg(avg('xPos').alias(\"teamXPos\"),avg('yPos').alias(\"teamYPos\"))\n",
    "teamsLandingDF.printSchema()\n",
    "\n",
    "teamsLandingDF = teamsLandingDF.join(matchInfoDF, teamsLandingDF['matchId']==matchInfoDF['matchId'],'inner')\\\n",
    "            .select(matchInfoDF['matchId'], matchInfoDF['mapName'], teamsLandingDF['ranking'] \\\n",
    "             ,teamsLandingDF['teamXPos'], teamsLandingDF['teamYPos'])\n",
    "\n",
    "teamsLandingDF = teamsLandingDF.na.drop()\n",
    "teamsLandingDF.show(10)"
   ]
  },
  {
   "cell_type": "code",
   "execution_count": 9,
   "id": "54c8cab8",
   "metadata": {
    "scrolled": true
   },
   "outputs": [
    {
     "name": "stdout",
     "output_type": "stream",
     "text": [
      "+--------------------+-----------+-------+-------------------+\n",
      "|             matchId|    mapName|ranking|       landingPlace|\n",
      "+--------------------+-----------+-------+-------------------+\n",
      "|0ae4ee76-e0c2-4bb...|Baltic_Main|      7|              Mylta|\n",
      "|0ae4ee76-e0c2-4bb...|Baltic_Main|      3|MiddleBridgeVillage|\n",
      "|0ae4ee76-e0c2-4bb...|Baltic_Main|      4|    Georgopol_south|\n",
      "|0ae4ee76-e0c2-4bb...|Baltic_Main|     15|            Shelter|\n",
      "|0ae4ee76-e0c2-4bb...|Baltic_Main|     10|      MiddleVillage|\n",
      "|0ae4ee76-e0c2-4bb...|Baltic_Main|     16|            another|\n",
      "|0ae4ee76-e0c2-4bb...|Baltic_Main|     14|            another|\n",
      "|0ae4ee76-e0c2-4bb...|Baltic_Main|     11|        Novorepnoye|\n",
      "|0ae4ee76-e0c2-4bb...|Baltic_Main|      2|             School|\n",
      "|0ae4ee76-e0c2-4bb...|Baltic_Main|     12|            another|\n",
      "+--------------------+-----------+-------+-------------------+\n",
      "only showing top 10 rows\n",
      "\n"
     ]
    }
   ],
   "source": [
    "from shapely.geometry import Point\n",
    "from shapely.geometry.polygon import Polygon\n",
    "#폴리곤정보 불러오기\n",
    "ErangelPolygon = json.load(open(\"Erangel_LocalPos_Polygon.json\"))\n",
    "ErangelArea = dict()\n",
    "for name,pos in ErangelPolygon.items():\n",
    "    pos = (np.array(pos)*100).tolist()\n",
    "    ErangelArea[name]=Polygon(pos)\n",
    "    \n",
    "MiramarPolygon = json.load(open(\"Miramar_LocalPos_Polygon.json\"))\n",
    "MiramarArea = dict()\n",
    "for name,pos in MiramarPolygon.items():\n",
    "    pos = (np.array(pos)*100).tolist()\n",
    "    MiramarArea[name]=Polygon(pos)\n",
    "#폴리곤정보로 명칭 변경\n",
    "tempDF = teamsLandingDF.collect()\n",
    "tempData = []\n",
    "for data in tempDF:\n",
    "    localName = 'another'\n",
    "    mapName = data[1]\n",
    "    if mapName == 'Baltic_Main':\n",
    "        for name,polygon in ErangelArea.items():\n",
    "            if polygon.contains(Point(data[3],data[4])):\n",
    "                localName = name\n",
    "    elif mapName == 'Desert_Main':\n",
    "        for name,polygon in MiramarArea.items():\n",
    "            if polygon.contains(Point(data[3],data[4])):\n",
    "                localName = name\n",
    "    tempData.append((data[0],data[1],data[2],localName))\n",
    "\n",
    "landingPlaceDF = spark.createDataFrame(tempData,['matchId','mapName','ranking','landingPlace'])\n",
    "landingPlaceDF.show(10)\n",
    "\n",
    "#ErangelArea = sc.broadcast(dict())\n",
    "#MiramarArea = sc.broadcast(dict())"
   ]
  },
  {
   "cell_type": "code",
   "execution_count": 10,
   "id": "4090bc38",
   "metadata": {
    "scrolled": false
   },
   "outputs": [
    {
     "name": "stdout",
     "output_type": "stream",
     "text": [
      "+-----------+-------------------+-----------------+-------------------+\n",
      "|    mapName|       landingPlace|     avg(ranking)|count(landingPlace)|\n",
      "+-----------+-------------------+-----------------+-------------------+\n",
      "|Baltic_Main|             School|9.615384615384615|               1066|\n",
      "|Baltic_Main|              Mylta|8.822306238185256|                529|\n",
      "|Baltic_Main|      ShootingRange|              8.8|                 35|\n",
      "|Baltic_Main|         TopVillage|9.276018099547512|                221|\n",
      "|Baltic_Main|            Lipovka| 8.58874458874459|                231|\n",
      "|Baltic_Main|             Quarry|             7.92|                175|\n",
      "|Baltic_Main|      MiddleVillage| 8.07750865051903|               1445|\n",
      "|Baltic_Main|MiddleBridgeVillage|9.873096446700508|                197|\n",
      "|Baltic_Main|   MilitaryBackYard|              7.4|                 25|\n",
      "|Baltic_Main|     MilitaryBridge|9.585365853658537|                123|\n",
      "+-----------+-------------------+-----------------+-------------------+\n",
      "only showing top 10 rows\n",
      "\n"
     ]
    }
   ],
   "source": [
    "#착지장소 장소별카운팅\n",
    "landingPlaceDF.groupBy('mapName','landingPlace').agg(avg('ranking'),count('landingPlace')) \\\n",
    "    .select('*').orderBy('mapName').show(10)"
   ]
  },
  {
   "cell_type": "code",
   "execution_count": 11,
   "id": "bc49ceee",
   "metadata": {},
   "outputs": [
    {
     "name": "stdout",
     "output_type": "stream",
     "text": [
      "+-----------+-------------------+-------+----+-----+\n",
      "|mapName    |landingPlace       |ranking|mode|total|\n",
      "+-----------+-------------------+-------+----+-----+\n",
      "|Baltic_Main|MilitaryBackYard   |5      |5   |25   |\n",
      "|Baltic_Main|Mylta              |7      |43  |529  |\n",
      "|Baltic_Main|Georgopol_south    |7      |63  |888  |\n",
      "|Baltic_Main|MyltaPower         |1      |29  |243  |\n",
      "|Baltic_Main|TopVillage         |10     |18  |221  |\n",
      "|Baltic_Main|Getka              |5      |21  |258  |\n",
      "|Baltic_Main|Getka              |8      |21  |258  |\n",
      "|Baltic_Main|Ferry Pier         |8      |14  |144  |\n",
      "|Baltic_Main|School             |16     |102 |1066 |\n",
      "|Baltic_Main|Farm               |1      |40  |406  |\n",
      "|Baltic_Main|Novorepnoye        |3      |50  |507  |\n",
      "|Baltic_Main|Ruins              |3      |8   |57   |\n",
      "|Baltic_Main|RightSideVillage   |1      |26  |201  |\n",
      "|Baltic_Main|Lipovka            |3      |20  |231  |\n",
      "|Baltic_Main|MiddleVillage      |1      |115 |1445 |\n",
      "|Baltic_Main|Severny            |9      |39  |405  |\n",
      "|Baltic_Main|Shelter            |1      |41  |263  |\n",
      "|Baltic_Main|Georgopol_north    |11     |46  |537  |\n",
      "|Baltic_Main|Kameshki           |5      |7   |38   |\n",
      "|Baltic_Main|Georgopol_south    |11     |63  |888  |\n",
      "|Baltic_Main|MiddleBridgeVillage|14     |20  |197  |\n",
      "|Baltic_Main|ShootingRange      |13     |5   |35   |\n",
      "|Baltic_Main|another            |14     |293 |4129 |\n",
      "|Baltic_Main|Yasnaya            |10     |67  |770  |\n",
      "|Baltic_Main|Quarry             |5      |19  |175  |\n",
      "|Baltic_Main|MilitaryBase       |6      |48  |620  |\n",
      "|Baltic_Main|AquaCity           |7      |7   |67   |\n",
      "|Baltic_Main|AquaCity           |2      |7   |67   |\n",
      "|Baltic_Main|SideVillage        |5      |27  |268  |\n",
      "|Baltic_Main|Pochinki           |16     |82  |1072 |\n",
      "|Baltic_Main|Stalber            |7      |18  |198  |\n",
      "|Baltic_Main|Primorsk           |9      |31  |344  |\n",
      "|Baltic_Main|Rozhok             |15     |36  |375  |\n",
      "|Baltic_Main|Mansion            |14     |5   |51   |\n",
      "|Baltic_Main|Mansion            |2      |5   |51   |\n",
      "|Baltic_Main|Zharki             |9      |7   |61   |\n",
      "|Baltic_Main|MilitaryBridge     |14     |12  |123  |\n",
      "|Baltic_Main|MilitaryBridge     |13     |12  |123  |\n",
      "|Baltic_Main|Prison             |11     |6   |44   |\n",
      "|Desert_Main|Pecado             |16     |141 |1115 |\n",
      "|Desert_Main|TorreAhumada       |7      |18  |115  |\n",
      "|Desert_Main|AquaCity           |12     |3   |17   |\n",
      "|Desert_Main|Hacienda           |16     |65  |529  |\n",
      "|Desert_Main|SanMaritin         |12     |50  |654  |\n",
      "|Desert_Main|Graveyard          |1      |12  |136  |\n",
      "|Desert_Main|MonteNuevo         |2      |52  |599  |\n",
      "|Desert_Main|RightSideVillage   |11     |29  |306  |\n",
      "|Desert_Main|SanMaritin         |5      |50  |654  |\n",
      "|Desert_Main|LaBendita          |9      |24  |289  |\n",
      "|Desert_Main|AquaCity           |8      |3   |17   |\n",
      "|Desert_Main|Graveyard          |9      |12  |136  |\n",
      "|Desert_Main|LeftSideVillage    |11     |17  |183  |\n",
      "|Desert_Main|MiddleVilage       |15     |81  |996  |\n",
      "|Desert_Main|LosLeones          |5      |92  |1127 |\n",
      "|Desert_Main|valledelMar        |6      |25  |271  |\n",
      "|Desert_Main|PowerGrid          |1      |42  |530  |\n",
      "|Desert_Main|Alcantara          |6      |9   |64   |\n",
      "|Desert_Main|UnderVillage       |7      |53  |655  |\n",
      "|Desert_Main|TierraBronca       |7      |11  |95   |\n",
      "|Desert_Main|LaBendita          |3      |24  |289  |\n",
      "|Desert_Main|MinasdelSur        |9      |3   |11   |\n",
      "|Desert_Main|MinasdelSur        |10     |3   |11   |\n",
      "|Desert_Main|PuertoParaiso      |9      |28  |258  |\n",
      "|Desert_Main|Military           |6      |7   |54   |\n",
      "|Desert_Main|LeftSideVillage    |3      |17  |183  |\n",
      "|Desert_Main|MiddleVilage       |14     |81  |996  |\n",
      "|Desert_Main|TopVillage         |1      |76  |683  |\n",
      "|Desert_Main|another            |1      |278 |3684 |\n",
      "|Desert_Main|Chumacera          |15     |64  |732  |\n",
      "|Desert_Main|LaCobreria         |8      |25  |272  |\n",
      "|Desert_Main|LaCobreria         |6      |25  |272  |\n",
      "|Desert_Main|LosHigos           |13     |12  |85   |\n",
      "|Desert_Main|Prison             |8      |1   |4    |\n",
      "|Desert_Main|MinasGenerales     |8      |37  |449  |\n",
      "|Desert_Main|TierraBronca       |6      |11  |95   |\n",
      "|Desert_Main|WaterTreatment     |10     |5   |22   |\n",
      "|Desert_Main|Military           |5      |7   |54   |\n",
      "|Desert_Main|CruzdelValle       |11     |25  |269  |\n",
      "|Desert_Main|EIPozo             |5      |49  |521  |\n",
      "|Desert_Main|impala             |11     |44  |519  |\n",
      "|Desert_Main|Prison             |15     |1   |4    |\n",
      "|Desert_Main|Prison             |7      |1   |4    |\n",
      "|Desert_Main|Prison             |14     |1   |4    |\n",
      "|Desert_Main|CraterFields       |1      |19  |142  |\n",
      "|Desert_Main|ElAzahar           |10     |35  |360  |\n",
      "+-----------+-------------------+-------+----+-----+\n",
      "\n"
     ]
    }
   ],
   "source": [
    "#착지장소 카운팅\n",
    "#등수별 카운팅\n",
    "temp1DF = landingPlaceDF.groupBy('mapName','LandingPlace','ranking').agg(count('ranking').alias('count'))\n",
    "#장소별 카운팅\n",
    "temp2DF = temp1DF.groupBy('mapName','landingPlace').agg(max('count').alias('max'),sum('count').alias('total'))\n",
    "\n",
    "summary_landingPlaceDF = temp1DF.alias('SL').join(temp2DF.alias('PL'),\\\n",
    "                                        ((temp1DF['mapName']==temp2DF['mapName']) \\\n",
    "                                        &(temp1DF['landingPlace']==temp2DF['LandingPlace']) \\\n",
    "                                        &(temp1DF['count']==temp2DF['max'])),'inner') \\\n",
    "                                        .select('SL.mapName','SL.landingPlace','SL.ranking',\\\n",
    "                                        col('PL.max').alias('mode'),'PL.total').orderBy('mapName')\n",
    "\n",
    "summary_landingPlaceDF.show(100,truncate = False)"
   ]
  },
  {
   "cell_type": "code",
   "execution_count": 12,
   "id": "9e4ef2cd",
   "metadata": {},
   "outputs": [
    {
     "name": "stdout",
     "output_type": "stream",
     "text": [
      "root\n",
      " |-- matchId: string (nullable = true)\n",
      " |-- createdAt: string (nullable = true)\n",
      " |-- mapName: string (nullable = true)\n",
      " |-- duration: long (nullable = true)\n",
      " |-- mapSideLength: long (nullable = true)\n",
      " |-- airplaneRoute_intercept: double (nullable = true)\n",
      " |-- airplaneRoute_slope: double (nullable = true)\n",
      " |-- blueCircle: array (nullable = true)\n",
      " |    |-- element: array (containsNull = true)\n",
      " |    |    |-- element: double (containsNull = true)\n",
      " |-- whiteCircle: array (nullable = true)\n",
      " |    |-- element: array (containsNull = true)\n",
      " |    |    |-- element: double (containsNull = true)\n",
      "\n"
     ]
    }
   ],
   "source": [
    "matchInfoDF.printSchema()"
   ]
  },
  {
   "cell_type": "code",
   "execution_count": 13,
   "id": "f8f118f5",
   "metadata": {},
   "outputs": [
    {
     "name": "stdout",
     "output_type": "stream",
     "text": [
      "root\n",
      " |-- matchId: string (nullable = true)\n",
      " |-- createAt: string (nullable = true)\n",
      " |-- mapName: string (nullable = true)\n",
      " |-- duration: long (nullable = true)\n",
      " |-- mapSize: long (nullable = true)\n",
      " |-- airplaneRoute: string (nullable = true)\n",
      " |-- blueCircle: array (nullable = true)\n",
      " |    |-- element: array (containsNull = true)\n",
      " |    |    |-- element: double (containsNull = true)\n",
      " |-- whiteCircle: array (nullable = true)\n",
      " |    |-- element: array (containsNull = true)\n",
      " |    |    |-- element: double (containsNull = true)\n",
      "\n"
     ]
    }
   ],
   "source": [
    "#비행기 기울기 절편에 따른 동선명으로 반환\n",
    "def airPlaneRouteTrans(data):\n",
    "    mapSize = data[4]\n",
    "    blockSize = mapSize/3\n",
    "    slope = data[6]\n",
    "    intercept = data[5]\n",
    "    points = []\n",
    "    points.append( (int((0-intercept)/slope),0) ) # tuple(x,y)\n",
    "    points.append( (int(((mapSize/2)-intercept)/slope),mapSize/2) )\n",
    "    points.append( (int((mapSize-intercept)/slope),mapSize) )\n",
    "    blockPos = []\n",
    "    for x, y in points:\n",
    "        block=0\n",
    "        if (x >= 0) and (x <= blockSize): #left\n",
    "            block=1\n",
    "        elif  x<=blockSize*2 : #middle\n",
    "            block=2\n",
    "        else: #right\n",
    "            block=3\n",
    "        if (y >= 0) and (y <= blockSize): #up\n",
    "            block += 0\n",
    "        elif y<=blockSize*2 : #middle\n",
    "            block += 3\n",
    "        else: #down\n",
    "            block += 6\n",
    "        blockPos.append(block)\n",
    "        \n",
    "    Route = \"Don't Know\"\n",
    "    if blockPos[1] == 5:\n",
    "        Route = \"Middle\"\n",
    "    elif (blockPos[0],blockPos[2]) in [(2,8),(8,2),(4,6),(6,4),(1,9),(9,1),(3,7),(7,3)]:\n",
    "        Route = \"Middle\"\n",
    "    elif (blockPos[0],blockPos[2]) in [(1,3),(3,1),(7,9),(9,7),(1,7),(7,1),(3,9),(9,3)]:\n",
    "        if (blockPos[0],blockPos[2]) in [(1,3),(3,1)]:\n",
    "            Route = \"UpSide\"\n",
    "        elif (blockPos[0],blockPos[2]) in [(7,9),(9,7)]:\n",
    "            Route = \"DownSide\"\n",
    "        elif (blockPos[0],blockPos[2]) in [(1,7),(7,1)]:\n",
    "            Route = \"LeftSide\"\n",
    "        elif (blockPos[0],blockPos[2]) in [(3,9),(9,3)]:\n",
    "            Route = \"RightSide\"\n",
    "    elif (blockPos[0] in [2,8]) or (blockPos[2] in [2,8]):\n",
    "        if blockPos[1]==4:\n",
    "            Route = \"LeftSide_Middle\"\n",
    "        elif blockPos[1]==6:\n",
    "            Route = \"RightSide_Middle\"\n",
    "        else:\n",
    "            Route = \"Outer\"\n",
    "    return (data[0],data[1],data[2],data[3],data[4],Route,data[7],data[8])\n",
    "\n",
    "tempRDD = matchInfoDF.rdd.map(airPlaneRouteTrans)\n",
    "matchInfoDF = tempRDD.toDF(['matchId','createAt','mapName','duration','mapSize',\\\n",
    "                                'airplaneRoute','blueCircle','whiteCircle'])\n",
    "matchInfoDF.printSchema()"
   ]
  },
  {
   "cell_type": "code",
   "execution_count": 14,
   "id": "9d25594a",
   "metadata": {
    "scrolled": false
   },
   "outputs": [
    {
     "name": "stdout",
     "output_type": "stream",
     "text": [
      "+--------------------+-----------+----------------+\n",
      "|             matchId|    mapName|   airplaneRoute|\n",
      "+--------------------+-----------+----------------+\n",
      "|0ae4ee76-e0c2-4bb...|Baltic_Main|          Middle|\n",
      "|168bf93d-38af-4aa...|Baltic_Main|          Middle|\n",
      "|3acf4fd9-716f-47c...|Desert_Main|          Middle|\n",
      "|4f51f004-d69d-4fe...|Desert_Main|          Middle|\n",
      "|56901eea-f41e-46d...|Desert_Main|          Middle|\n",
      "|6093b714-511c-4b4...|Desert_Main| LeftSide_Middle|\n",
      "|afaef784-4d55-484...|Baltic_Main|          Middle|\n",
      "|b9738d8c-18aa-4b1...|Baltic_Main|RightSide_Middle|\n",
      "|c5137c90-9c11-45e...|Baltic_Main|RightSide_Middle|\n",
      "|d3ce3c23-052e-416...|Baltic_Main|          Middle|\n",
      "+--------------------+-----------+----------------+\n",
      "only showing top 10 rows\n",
      "\n"
     ]
    }
   ],
   "source": [
    "matchInfoDF.select('matchId','mapName','airplaneRoute').show(10)"
   ]
  },
  {
   "cell_type": "code",
   "execution_count": 15,
   "id": "bd9db20b",
   "metadata": {},
   "outputs": [
    {
     "name": "stdout",
     "output_type": "stream",
     "text": [
      "+-----------+----------------+--------------------+\n",
      "|mapName    |airplaneRoute   |count(airplaneRoute)|\n",
      "+-----------+----------------+--------------------+\n",
      "|Baltic_Main|LeftSide_Middle |126                 |\n",
      "|Baltic_Main|Middle          |688                 |\n",
      "|Baltic_Main|RightSide_Middle|172                 |\n",
      "|Baltic_Main|RightSide       |1                   |\n",
      "|Desert_Main|Middle          |676                 |\n",
      "|Desert_Main|LeftSide_Middle |146                 |\n",
      "|Desert_Main|RightSide_Middle|143                 |\n",
      "+-----------+----------------+--------------------+\n",
      "\n"
     ]
    }
   ],
   "source": [
    "#집계\n",
    "matchInfoDF.groupBy('mapName','airplaneRoute').agg(count('airplaneRoute')).orderBy('mapName').show(100,truncate = False)"
   ]
  },
  {
   "cell_type": "code",
   "execution_count": 16,
   "id": "dfbef1ed",
   "metadata": {},
   "outputs": [
    {
     "name": "stdout",
     "output_type": "stream",
     "text": [
      "root\n",
      " |-- matchId: string (nullable = true)\n",
      " |-- mapName: string (nullable = true)\n",
      " |-- ranking: long (nullable = true)\n",
      " |-- landingPlace: string (nullable = true)\n",
      "\n"
     ]
    }
   ],
   "source": [
    "landingPlaceDF.printSchema()"
   ]
  },
  {
   "cell_type": "code",
   "execution_count": 17,
   "id": "daa907a2",
   "metadata": {},
   "outputs": [
    {
     "name": "stdout",
     "output_type": "stream",
     "text": [
      "root\n",
      " |-- matchId: string (nullable = true)\n",
      " |-- mapName: string (nullable = true)\n",
      " |-- ranking: long (nullable = true)\n",
      " |-- LandingPlace: string (nullable = true)\n",
      " |-- airplaneRoute: string (nullable = true)\n",
      "\n",
      "+--------------------+-----------+-------+--------------+-------------+\n",
      "|             matchId|    mapName|ranking|  LandingPlace|airplaneRoute|\n",
      "+--------------------+-----------+-------+--------------+-------------+\n",
      "|0f568f0d-6bed-478...|Desert_Main|     14|        impala|       Middle|\n",
      "|0f568f0d-6bed-478...|Desert_Main|      2|     Chumacera|       Middle|\n",
      "|0f568f0d-6bed-478...|Desert_Main|      4|        Pecado|       Middle|\n",
      "|0f568f0d-6bed-478...|Desert_Main|     13|      ElAzahar|       Middle|\n",
      "|0f568f0d-6bed-478...|Desert_Main|      6|MinasGenerales|       Middle|\n",
      "|0f568f0d-6bed-478...|Desert_Main|     12|  MiddleVilage|       Middle|\n",
      "|0f568f0d-6bed-478...|Desert_Main|      7|  UnderVillage|       Middle|\n",
      "|0f568f0d-6bed-478...|Desert_Main|      3|      Military|       Middle|\n",
      "|0f568f0d-6bed-478...|Desert_Main|      5|       another|       Middle|\n",
      "|0f568f0d-6bed-478...|Desert_Main|      1|       another|       Middle|\n",
      "+--------------------+-----------+-------+--------------+-------------+\n",
      "only showing top 10 rows\n",
      "\n"
     ]
    }
   ],
   "source": [
    "#착지장소 데이터프레임에 해당 매치의 비행기 동선 추가\n",
    "airplaneRoute_landingPlaceDF = landingPlaceDF.alias('LP').join(matchInfoDF.alias('MI'),[\"matchId\",\"mapName\"],'inner')\\\n",
    "        .select('LP.matchId','LP.mapName','LP.ranking','LP.LandingPlace','MI.airplaneRoute')\n",
    "airplaneRoute_landingPlaceDF.printSchema()\n",
    "airplaneRoute_landingPlaceDF.show(10)"
   ]
  },
  {
   "cell_type": "code",
   "execution_count": 18,
   "id": "c927a79a",
   "metadata": {},
   "outputs": [
    {
     "name": "stdout",
     "output_type": "stream",
     "text": [
      "+-----------+---------------+---------------+----------+-----+\n",
      "|    mapName|  airplaneRoute|   LandingPlace|   ranking|count|\n",
      "+-----------+---------------+---------------+----------+-----+\n",
      "|Baltic_Main|LeftSide_Middle|       AquaCity|  HighRank|    3|\n",
      "|Baltic_Main|LeftSide_Middle|       AquaCity|MiddleRank|    1|\n",
      "|Baltic_Main|LeftSide_Middle|       AquaCity|   LowRank|    7|\n",
      "|Baltic_Main|LeftSide_Middle|           Farm|MiddleRank|   14|\n",
      "|Baltic_Main|LeftSide_Middle|           Farm|   LowRank|   13|\n",
      "|Baltic_Main|LeftSide_Middle|           Farm|  HighRank|    9|\n",
      "|Baltic_Main|LeftSide_Middle|     Ferry Pier|MiddleRank|    9|\n",
      "|Baltic_Main|LeftSide_Middle|     Ferry Pier|  HighRank|    3|\n",
      "|Baltic_Main|LeftSide_Middle|     Ferry Pier|   LowRank|    9|\n",
      "|Baltic_Main|LeftSide_Middle|Georgopol_north|  HighRank|   21|\n",
      "+-----------+---------------+---------------+----------+-----+\n",
      "only showing top 10 rows\n",
      "\n"
     ]
    }
   ],
   "source": [
    "#등수 묶기 후 카운팅\n",
    "def splitrank(data):\n",
    "    if data<=3:\n",
    "        return \"HighRank\"\n",
    "    elif data>=10:\n",
    "        return \"MiddleRank\"\n",
    "    else:\n",
    "        return \"LowRank\"\n",
    "    return data\n",
    "\n",
    "convertUDF = udf(lambda x:splitrank(x),StringType())\n",
    "\n",
    "countByRank_landingPlaceDF = airplaneRoute_landingPlaceDF  \\\n",
    "            .select('mapName','airplaneRoute','LandingPlace',convertUDF(col('ranking')).alias('ranking'))  \\\n",
    "            .groupBy('mapName','airplaneRoute','LandingPlace','ranking').agg(count('ranking').alias('count'))\n",
    "\n",
    "countByRank_landingPlaceDF.orderBy('mapName','airplaneRoute','LandingPlace').show(10)"
   ]
  },
  {
   "cell_type": "code",
   "execution_count": 19,
   "id": "f6596654",
   "metadata": {},
   "outputs": [
    {
     "name": "stdout",
     "output_type": "stream",
     "text": [
      "+-----------+---------------+-------------------+-----+\n",
      "|    mapName|  airplaneRoute|       LandingPlace|total|\n",
      "+-----------+---------------+-------------------+-----+\n",
      "|Baltic_Main|LeftSide_Middle|           AquaCity|   11|\n",
      "|Baltic_Main|LeftSide_Middle|               Farm|   36|\n",
      "|Baltic_Main|LeftSide_Middle|         Ferry Pier|   21|\n",
      "|Baltic_Main|LeftSide_Middle|    Georgopol_north|   87|\n",
      "|Baltic_Main|LeftSide_Middle|    Georgopol_south|  248|\n",
      "|Baltic_Main|LeftSide_Middle|              Getka|   44|\n",
      "|Baltic_Main|LeftSide_Middle|           Kameshki|    2|\n",
      "|Baltic_Main|LeftSide_Middle|            Lipovka|   19|\n",
      "|Baltic_Main|LeftSide_Middle|            Mansion|    3|\n",
      "|Baltic_Main|LeftSide_Middle|MiddleBridgeVillage|   14|\n",
      "+-----------+---------------+-------------------+-----+\n",
      "only showing top 10 rows\n",
      "\n"
     ]
    }
   ],
   "source": [
    "#총 카운팅\n",
    "count_landingPlaceDF = countByRank_landingPlaceDF.groupBy('mapName','airplaneRoute','LandingPlace')  \\\n",
    "                                                  .agg(sum('count').alias('total'))\n",
    "\n",
    "count_landingPlaceDF.orderBy('mapName','airplaneRoute','LandingPlace').show(10)"
   ]
  },
  {
   "cell_type": "code",
   "execution_count": 20,
   "id": "badf8b52",
   "metadata": {},
   "outputs": [],
   "source": [
    "#비율로 변환\n",
    "summary_landingPlaceDF = countByRank_landingPlaceDF.alias('SAL').join(count_landingPlaceDF.alias('PAL') \\\n",
    "             ,((countByRank_landingPlaceDF['mapName']==count_landingPlaceDF['mapName']) \\\n",
    "             &(countByRank_landingPlaceDF['LandingPlace']==count_landingPlaceDF['LandingPlace'])\n",
    "             &(countByRank_landingPlaceDF['airplaneRoute']==count_landingPlaceDF['airplaneRoute'])),'inner')  \\\n",
    "             .select('SAL.mapName','SAL.airplaneRoute','SAL.LandingPlace','SAL.ranking' \\\n",
    "             ,'SAL.count','PAL.total').orderBy('mapName','ranking','airplaneRoute')\n",
    "\n",
    "rankingOfLandingPlayerDF = summary_landingPlaceDF.select('mapName','airplaneRoute','LandingPlace','ranking' \\\n",
    "                ,expr(('round(count/total,3)')).alias('share')).orderBy('mapName','airplaneRoute','LandingPlace','ranking')"
   ]
  },
  {
   "cell_type": "code",
   "execution_count": 21,
   "id": "df789ac9",
   "metadata": {
    "scrolled": false
   },
   "outputs": [
    {
     "name": "stdout",
     "output_type": "stream",
     "text": [
      "+-----------+-------------+-------------------+----------+-----+\n",
      "|mapName    |airplaneRoute|LandingPlace       |ranking   |share|\n",
      "+-----------+-------------+-------------------+----------+-----+\n",
      "|Baltic_Main|Middle       |AquaCity           |HighRank  |0.213|\n",
      "|Baltic_Main|Middle       |AquaCity           |LowRank   |0.319|\n",
      "|Baltic_Main|Middle       |AquaCity           |MiddleRank|0.468|\n",
      "|Baltic_Main|Middle       |Farm               |HighRank  |0.208|\n",
      "|Baltic_Main|Middle       |Farm               |LowRank   |0.375|\n",
      "|Baltic_Main|Middle       |Farm               |MiddleRank|0.416|\n",
      "|Baltic_Main|Middle       |Ferry Pier         |HighRank  |0.204|\n",
      "|Baltic_Main|Middle       |Ferry Pier         |LowRank   |0.439|\n",
      "|Baltic_Main|Middle       |Ferry Pier         |MiddleRank|0.357|\n",
      "|Baltic_Main|Middle       |Georgopol_north    |HighRank  |0.167|\n",
      "|Baltic_Main|Middle       |Georgopol_north    |LowRank   |0.427|\n",
      "|Baltic_Main|Middle       |Georgopol_north    |MiddleRank|0.406|\n",
      "|Baltic_Main|Middle       |Georgopol_south    |HighRank  |0.172|\n",
      "|Baltic_Main|Middle       |Georgopol_south    |LowRank   |0.396|\n",
      "|Baltic_Main|Middle       |Georgopol_south    |MiddleRank|0.432|\n",
      "|Baltic_Main|Middle       |Getka              |HighRank  |0.213|\n",
      "|Baltic_Main|Middle       |Getka              |LowRank   |0.402|\n",
      "|Baltic_Main|Middle       |Getka              |MiddleRank|0.385|\n",
      "|Baltic_Main|Middle       |Kameshki           |HighRank  |0.097|\n",
      "|Baltic_Main|Middle       |Kameshki           |LowRank   |0.387|\n",
      "|Baltic_Main|Middle       |Kameshki           |MiddleRank|0.516|\n",
      "|Baltic_Main|Middle       |Lipovka            |HighRank  |0.19 |\n",
      "|Baltic_Main|Middle       |Lipovka            |LowRank   |0.364|\n",
      "|Baltic_Main|Middle       |Lipovka            |MiddleRank|0.446|\n",
      "|Baltic_Main|Middle       |Mansion            |HighRank  |0.229|\n",
      "|Baltic_Main|Middle       |Mansion            |LowRank   |0.286|\n",
      "|Baltic_Main|Middle       |Mansion            |MiddleRank|0.486|\n",
      "|Baltic_Main|Middle       |MiddleBridgeVillage|HighRank  |0.15 |\n",
      "|Baltic_Main|Middle       |MiddleBridgeVillage|LowRank   |0.3  |\n",
      "|Baltic_Main|Middle       |MiddleBridgeVillage|MiddleRank|0.55 |\n",
      "|Baltic_Main|Middle       |MiddleVillage      |HighRank  |0.226|\n",
      "|Baltic_Main|Middle       |MiddleVillage      |LowRank   |0.375|\n",
      "|Baltic_Main|Middle       |MiddleVillage      |MiddleRank|0.398|\n",
      "|Baltic_Main|Middle       |MilitaryBackYard   |HighRank  |0.105|\n",
      "|Baltic_Main|Middle       |MilitaryBackYard   |LowRank   |0.526|\n",
      "|Baltic_Main|Middle       |MilitaryBackYard   |MiddleRank|0.368|\n",
      "|Baltic_Main|Middle       |MilitaryBase       |HighRank  |0.176|\n",
      "|Baltic_Main|Middle       |MilitaryBase       |LowRank   |0.413|\n",
      "|Baltic_Main|Middle       |MilitaryBase       |MiddleRank|0.411|\n",
      "|Baltic_Main|Middle       |MilitaryBridge     |HighRank  |0.124|\n",
      "|Baltic_Main|Middle       |MilitaryBridge     |LowRank   |0.309|\n",
      "|Baltic_Main|Middle       |MilitaryBridge     |MiddleRank|0.567|\n",
      "|Baltic_Main|Middle       |Mylta              |HighRank  |0.182|\n",
      "|Baltic_Main|Middle       |Mylta              |LowRank   |0.387|\n",
      "|Baltic_Main|Middle       |Mylta              |MiddleRank|0.431|\n",
      "|Baltic_Main|Middle       |MyltaPower         |HighRank  |0.191|\n",
      "|Baltic_Main|Middle       |MyltaPower         |LowRank   |0.391|\n",
      "|Baltic_Main|Middle       |MyltaPower         |MiddleRank|0.418|\n",
      "|Baltic_Main|Middle       |Novorepnoye        |HighRank  |0.207|\n",
      "|Baltic_Main|Middle       |Novorepnoye        |LowRank   |0.432|\n",
      "|Baltic_Main|Middle       |Novorepnoye        |MiddleRank|0.36 |\n",
      "|Baltic_Main|Middle       |Pochinki           |HighRank  |0.183|\n",
      "|Baltic_Main|Middle       |Pochinki           |LowRank   |0.329|\n",
      "|Baltic_Main|Middle       |Pochinki           |MiddleRank|0.488|\n",
      "|Baltic_Main|Middle       |Primorsk           |HighRank  |0.175|\n",
      "|Baltic_Main|Middle       |Primorsk           |LowRank   |0.433|\n",
      "|Baltic_Main|Middle       |Primorsk           |MiddleRank|0.392|\n",
      "|Baltic_Main|Middle       |Prison             |HighRank  |0.167|\n",
      "|Baltic_Main|Middle       |Prison             |LowRank   |0.367|\n",
      "|Baltic_Main|Middle       |Prison             |MiddleRank|0.467|\n",
      "|Baltic_Main|Middle       |Quarry             |HighRank  |0.16 |\n",
      "|Baltic_Main|Middle       |Quarry             |LowRank   |0.48 |\n",
      "|Baltic_Main|Middle       |Quarry             |MiddleRank|0.36 |\n",
      "|Baltic_Main|Middle       |RightSideVillage   |HighRank  |0.336|\n",
      "|Baltic_Main|Middle       |RightSideVillage   |LowRank   |0.314|\n",
      "|Baltic_Main|Middle       |RightSideVillage   |MiddleRank|0.35 |\n",
      "|Baltic_Main|Middle       |Rozhok             |HighRank  |0.117|\n",
      "|Baltic_Main|Middle       |Rozhok             |LowRank   |0.369|\n",
      "|Baltic_Main|Middle       |Rozhok             |MiddleRank|0.514|\n",
      "|Baltic_Main|Middle       |Ruins              |HighRank  |0.238|\n",
      "|Baltic_Main|Middle       |Ruins              |LowRank   |0.333|\n",
      "|Baltic_Main|Middle       |Ruins              |MiddleRank|0.429|\n",
      "|Baltic_Main|Middle       |School             |HighRank  |0.155|\n",
      "|Baltic_Main|Middle       |School             |LowRank   |0.318|\n",
      "|Baltic_Main|Middle       |School             |MiddleRank|0.527|\n",
      "|Baltic_Main|Middle       |Severny            |HighRank  |0.176|\n",
      "|Baltic_Main|Middle       |Severny            |LowRank   |0.337|\n",
      "|Baltic_Main|Middle       |Severny            |MiddleRank|0.487|\n",
      "|Baltic_Main|Middle       |Shelter            |HighRank  |0.225|\n",
      "|Baltic_Main|Middle       |Shelter            |LowRank   |0.403|\n",
      "|Baltic_Main|Middle       |Shelter            |MiddleRank|0.372|\n",
      "|Baltic_Main|Middle       |ShootingRange      |HighRank  |0.13 |\n",
      "|Baltic_Main|Middle       |ShootingRange      |LowRank   |0.391|\n",
      "|Baltic_Main|Middle       |ShootingRange      |MiddleRank|0.478|\n",
      "|Baltic_Main|Middle       |SideVillage        |HighRank  |0.188|\n",
      "|Baltic_Main|Middle       |SideVillage        |LowRank   |0.431|\n",
      "|Baltic_Main|Middle       |SideVillage        |MiddleRank|0.382|\n",
      "|Baltic_Main|Middle       |Stalber            |HighRank  |0.199|\n",
      "|Baltic_Main|Middle       |Stalber            |LowRank   |0.458|\n",
      "|Baltic_Main|Middle       |Stalber            |MiddleRank|0.343|\n",
      "|Baltic_Main|Middle       |TopVillage         |HighRank  |0.146|\n",
      "|Baltic_Main|Middle       |TopVillage         |LowRank   |0.36 |\n",
      "|Baltic_Main|Middle       |TopVillage         |MiddleRank|0.494|\n",
      "|Baltic_Main|Middle       |Yasnaya            |HighRank  |0.172|\n",
      "|Baltic_Main|Middle       |Yasnaya            |LowRank   |0.428|\n",
      "|Baltic_Main|Middle       |Yasnaya            |MiddleRank|0.4  |\n",
      "|Baltic_Main|Middle       |Zharki             |HighRank  |0.163|\n",
      "|Baltic_Main|Middle       |Zharki             |LowRank   |0.465|\n",
      "|Baltic_Main|Middle       |Zharki             |MiddleRank|0.372|\n",
      "|Baltic_Main|Middle       |another            |HighRank  |0.183|\n",
      "+-----------+-------------+-------------------+----------+-----+\n",
      "only showing top 100 rows\n",
      "\n"
     ]
    }
   ],
   "source": [
    "rankingOfLandingPlayerDF.select('*').filter((col('mapName')=='Baltic_Main')&(col('airplaneRoute')=='Middle'))\\\n",
    "    .orderBy('LandingPlace','ranking').show(100,truncate=False)"
   ]
  },
  {
   "cell_type": "code",
   "execution_count": 22,
   "id": "8488ec45",
   "metadata": {
    "scrolled": false
   },
   "outputs": [
    {
     "name": "stdout",
     "output_type": "stream",
     "text": [
      "+--------------------+----------------+--------------------+-------+\n",
      "|             matchId|      playerName|            position|ranking|\n",
      "+--------------------+----------------+--------------------+-------+\n",
      "|21bf1ec8-4ee8-434...|          ATS_SY|[[5.481, 295967.6...|     14|\n",
      "|b4fc5a91-a416-40c...|         NBG_xXx|[[1.649, 161841.7...|     14|\n",
      "|b811ba90-7327-4d8...|       BoB_5king|[[2.754, 939804.0...|     16|\n",
      "|e808b51a-881b-49a...|     Redsox_jjun|[[9.415, 187888.5...|      1|\n",
      "|376564f4-b798-4b8...|       qjhwhwehq|[[8.677, 298904.6...|      5|\n",
      "|75e31315-936e-48f...|         HB_SOSO|[[4.234, 914450.4...|     15|\n",
      "|75e31315-936e-48f...|      WG_lliliil|[[5.939, 890111.4...|     10|\n",
      "|e205544b-ae69-492...|OcO_Uncle_BongTV|[[2.052, 462802.5...|     12|\n",
      "|e205544b-ae69-492...|  Kings_benjamin|[[2.286, 463071.6...|      7|\n",
      "|3769da96-c4f0-4ae...|       bjRungRan|[[8.13, 795046.93...|     10|\n",
      "+--------------------+----------------+--------------------+-------+\n",
      "only showing top 10 rows\n",
      "\n"
     ]
    }
   ],
   "source": [
    "#플레이어 동선\n",
    "playerPositionDF = spark.read.format('json').load(\"/sparkdata/PUBG/Matches1_PlayerPosition_Baltic_Main.json\").distinct()\n",
    "playerPositionDF.show(10)"
   ]
  },
  {
   "cell_type": "code",
   "execution_count": 23,
   "id": "24049f0d",
   "metadata": {},
   "outputs": [
    {
     "name": "stdout",
     "output_type": "stream",
     "text": [
      "root\n",
      " |-- matchId: string (nullable = true)\n",
      " |-- playerName: string (nullable = true)\n",
      " |-- position: array (nullable = true)\n",
      " |    |-- element: array (containsNull = true)\n",
      " |    |    |-- element: double (containsNull = true)\n",
      " |-- ranking: long (nullable = true)\n",
      "\n",
      "root\n",
      " |-- matchId: string (nullable = true)\n",
      " |-- createAt: string (nullable = true)\n",
      " |-- mapName: string (nullable = true)\n",
      " |-- duration: long (nullable = true)\n",
      " |-- mapSize: long (nullable = true)\n",
      " |-- airplaneRoute: string (nullable = true)\n",
      " |-- blueCircle: array (nullable = true)\n",
      " |    |-- element: array (containsNull = true)\n",
      " |    |    |-- element: double (containsNull = true)\n",
      " |-- whiteCircle: array (nullable = true)\n",
      " |    |-- element: array (containsNull = true)\n",
      " |    |    |-- element: double (containsNull = true)\n",
      "\n"
     ]
    }
   ],
   "source": [
    "playerPositionDF.printSchema()\n",
    "matchInfoDF.printSchema()"
   ]
  },
  {
   "cell_type": "code",
   "execution_count": 33,
   "id": "03f391b9",
   "metadata": {},
   "outputs": [
    {
     "name": "stdout",
     "output_type": "stream",
     "text": [
      "root\n",
      " |-- matchId: string (nullable = true)\n",
      " |-- mapName: string (nullable = true)\n",
      " |-- duration: long (nullable = true)\n",
      " |-- blueCircle: array (nullable = true)\n",
      " |    |-- element: array (containsNull = true)\n",
      " |    |    |-- element: double (containsNull = true)\n",
      " |-- whiteCircle: array (nullable = true)\n",
      " |    |-- element: array (containsNull = true)\n",
      " |    |    |-- element: double (containsNull = true)\n",
      " |-- playerName: string (nullable = true)\n",
      " |-- ranking: long (nullable = true)\n",
      " |-- position: array (nullable = true)\n",
      " |    |-- element: array (containsNull = true)\n",
      " |    |    |-- element: double (containsNull = true)\n",
      "\n"
     ]
    }
   ],
   "source": [
    "#자기장과 비교를 위해 조인연산\n",
    "tempDF = playerPositionDF.alias('Pos').join(matchInfoDF.alias('Matches') \\\n",
    "             ,playerPositionDF['matchId']==matchInfoDF['matchId'],'inner')  \\\n",
    "             .select('Matches.matchId','Matches.mapName','Matches.duration','Matches.blueCircle','Matches.whiteCircle'\\\n",
    "             ,'Pos.playerName','Pos.ranking','Pos.position')\n",
    "\n",
    "tempDF.printSchema()"
   ]
  },
  {
   "cell_type": "code",
   "execution_count": 34,
   "id": "cec13812",
   "metadata": {
    "scrolled": false
   },
   "outputs": [
    {
     "name": "stdout",
     "output_type": "stream",
     "text": [
      "+-----------+-------+------------------+------------------+\n",
      "|    mapName|ranking|  moveDistance/sec|          liveTime|\n",
      "+-----------+-------+------------------+------------------+\n",
      "|Baltic_Main|      1| 7.410670372376336|0.9395665707559506|\n",
      "|Baltic_Main|      2| 7.678145058748853|0.8778506370290053|\n",
      "|Baltic_Main|      3|  8.10648809385848|0.8403799781778507|\n",
      "|Baltic_Main|      4| 8.457241022837607|0.7869195813825394|\n",
      "|Baltic_Main|      5| 8.987845454828944|0.7362867913990508|\n",
      "|Baltic_Main|      6| 9.344184721627498|0.6976530727839139|\n",
      "|Baltic_Main|      7| 9.595529453645053|0.6670470353477769|\n",
      "|Baltic_Main|      8| 9.940691899027039|0.6398565365025468|\n",
      "|Baltic_Main|      9| 10.50748348516057|0.6026341533180777|\n",
      "|Baltic_Main|     10|10.714357192541113| 0.570880444064902|\n",
      "|Baltic_Main|     11|11.244495755403852|0.5311543018335685|\n",
      "|Baltic_Main|     12| 11.92006079487146|0.4831766517357223|\n",
      "|Baltic_Main|     13|12.829385028235999|0.4273523627424202|\n",
      "|Baltic_Main|     14|14.140742754989336|0.3596567360928027|\n",
      "|Baltic_Main|     15|16.678807889965533|0.2784237331296154|\n",
      "|Baltic_Main|     16|21.042400211127543|0.2045145821648905|\n",
      "|Baltic_Main|     17|24.117713186924988|0.1699942950285248|\n",
      "|Baltic_Main|     18|28.621879914809345|0.1391377245508982|\n",
      "|Baltic_Main|     19|25.850153665269524|             0.131|\n",
      "|Baltic_Main|     20| 28.27234793897912|             0.145|\n",
      "|Baltic_Main|     21| 37.08096212433034|            0.0915|\n",
      "+-----------+-------+------------------+------------------+\n",
      "\n"
     ]
    }
   ],
   "source": [
    "#총 이동거리로 변환\n",
    "def DistanceData(data):\n",
    "    import builtins\n",
    "    round = getattr(builtins, \"round\")\n",
    "    abs = getattr(builtins, \"abs\")\n",
    "    Distance = 0\n",
    "    position = data[7]\n",
    "    liveTime = 0\n",
    "    if len(position)!=0:\n",
    "        liveTime = position[-1][0]\n",
    "    if time==0: \n",
    "        time=10\n",
    "    for idx, pos in enumerate(position[1:]):\n",
    "        x2,y2 = pos[1],pos[2]\n",
    "        x1,y1 = position[idx][1],position[idx][2]\n",
    "        Distance += ((abs(x2-x1)**2)+(abs(y2-y1)**2))**(1/2) / 102.4\n",
    "    Distance = round(Distance,10) / liveTime\n",
    "    return (data[0],data[1],data[5],data[2],data[6], Distance, liveTime)\n",
    "\n",
    "tempRDD = tempDF.rdd.map(DistanceData)\n",
    "tempDF = tempRDD.toDF(['matchId','mapName','playerName','duration','ranking','moveDistance/sec','liveTime'])\n",
    "tempDF = tempDF.select('mapName','ranking','moveDistance/sec',expr(('round(liveTime/duration,3)')).alias('liveTime'))\n",
    "rankingOfMoveDistance = tempDF.groupBy('mapName','ranking').agg(mean('moveDistance/sec').alias('moveDistance/sec') \\\n",
    "                                                 ,mean('liveTime').alias('liveTime'))\n",
    "rankingOfMoveDistance.orderBy('ranking').show(25)"
   ]
  },
  {
   "cell_type": "code",
   "execution_count": 26,
   "id": "bb76cc36",
   "metadata": {},
   "outputs": [
    {
     "name": "stdout",
     "output_type": "stream",
     "text": [
      "root\n",
      " |-- matchId: string (nullable = true)\n",
      " |-- mapName: string (nullable = true)\n",
      " |-- duration: long (nullable = true)\n",
      " |-- playerName: string (nullable = true)\n",
      " |-- ranking: long (nullable = true)\n",
      " |-- timeLine: array (nullable = true)\n",
      " |    |-- element: double (containsNull = true)\n",
      " |-- InWhiteCircle: array (nullable = true)\n",
      " |    |-- element: boolean (containsNull = true)\n",
      " |-- DistanceWhiteCircle: array (nullable = true)\n",
      " |    |-- element: double (containsNull = true)\n",
      " |-- DistanceBlueCircle: array (nullable = true)\n",
      " |    |-- element: double (containsNull = true)\n",
      "\n"
     ]
    }
   ],
   "source": [
    "#자기장과의 거리 값으로 변환\n",
    "def DistancePlayerAndCircle(data):\n",
    "    blueList = data[3]\n",
    "    whiteList = data[4]\n",
    "    \n",
    "    timeLine = []\n",
    "    InWhiteCircle = []\n",
    "    DistanceByWhite = []\n",
    "    DistanceByBlue = []\n",
    "    \n",
    "    weight = 0.7\n",
    "    cnt=0\n",
    "    for pos in data[7]:\n",
    "        Ptime = pos[0]\n",
    "        timeLine.append(Ptime)\n",
    "        timecheck=0\n",
    "        for point, Ctime in enumerate([tm[0] for tm in whiteList]):\n",
    "            if Ptime < Ctime:\n",
    "                timecheck = point\n",
    "                break\n",
    "                \n",
    "        posX = pos[1]\n",
    "        posY = pos[2]\n",
    "        \n",
    "        if ((cnt%18 == 0) & (cnt!=0)):\n",
    "            weight *=0.7\n",
    "        \n",
    "        WcircleX = whiteList[point][1]\n",
    "        WcircleY = whiteList[point][2]\n",
    "        WcircleR = whiteList[point][4]\n",
    "        \n",
    "        import builtins\n",
    "        abs = getattr(builtins, \"abs\") #내장함수abs와 spark.abs 덮어씌우기\n",
    "        round = getattr(builtins, \"round\")\n",
    "\n",
    "        if WcircleR > ((abs(WcircleX-posX)**2.0)+(abs(WcircleY-posY)**2.0))**(1/2):\n",
    "            InWhiteCircle.append(True)\n",
    "        else:\n",
    "            InWhiteCircle.append(False)\n",
    "        \n",
    "        BcircleX = blueList[point][1]\n",
    "        BcircleY = blueList[point][2]\n",
    "        BcircleR = blueList[point][4]\n",
    "        \n",
    "        BDistance = (BcircleR - ((abs(BcircleX-posX)**2)+(abs(BcircleY-posY)**2))**(1/2))/BcircleR\n",
    "        DistanceByBlue.append( round(BDistance * (1-weight),10) )\n",
    "        \n",
    "        if not WcircleR == 0:\n",
    "            WDistance = 1- ((abs(WcircleX-posX)**2)+(abs(WcircleY-posY)**2))**(1/2) / BcircleR\n",
    "            DistanceByWhite.append( round(WDistance * (1-weight),10) )\n",
    "        cnt+=1\n",
    "        \n",
    "    return (data[0],data[1],data[2],data[5],data[6],timeLine,InWhiteCircle,DistanceByWhite,DistanceByBlue)\n",
    "\n",
    "tempRDD = tempDF.rdd.map(DistancePlayerAndCircle)\n",
    "distance_CircleAndPlayerDF = tempRDD.toDF(['matchId','mapName','duration','playerName','ranking','timeLine', \\\n",
    "                                                'InWhiteCircle','DistanceWhiteCircle','DistanceBlueCircle'])\n",
    "distance_CircleAndPlayerDF.printSchema()"
   ]
  },
  {
   "cell_type": "code",
   "execution_count": 27,
   "id": "dc82c904",
   "metadata": {
    "scrolled": false
   },
   "outputs": [
    {
     "name": "stdout",
     "output_type": "stream",
     "text": [
      "+-------+--------------------+--------------------+--------------------+\n",
      "|ranking|       InWhiteCircle| DistanceWhiteCircle|  DistanceBlueCircle|\n",
      "+-------+--------------------+--------------------+--------------------+\n",
      "|      9|[false, false, fa...|[0.1484710787, 0....|[0.0071996079, 0....|\n",
      "|      9|[false, false, fa...|[0.1246222576, 0....|[0.0225475756, 0....|\n",
      "|      5|[false, false, fa...|[0.2321889961, 0....|[0.0341807159, 0....|\n",
      "|     11|[false, false, fa...|[0.2037010655, 0....|[0.0500183789, 0....|\n",
      "|      8|[false, false, fa...|[0.1418095504, 0....|[0.0416051053, 0....|\n",
      "|      3|[false, false, fa...|[0.1733993217, 0....|[0.0651100479, 0....|\n",
      "|      4|[false, false, fa...|[0.0250214824, 0....|[0.0119029771, 0....|\n",
      "|     10|[false, false, fa...|[0.1684187598, 0....|[0.076242477, 0.1...|\n",
      "|     10|[false, false, fa...|[0.1014119903, 0....|[0.0755007952, 0....|\n",
      "|      3|[false, false, fa...|[0.1753354324, 0....|[0.0500183789, 0....|\n",
      "+-------+--------------------+--------------------+--------------------+\n",
      "only showing top 10 rows\n",
      "\n"
     ]
    }
   ],
   "source": [
    "distance_CircleAndPlayerDF.select('ranking','InWhiteCircle','DistanceWhiteCircle','DistanceBlueCircle').show(10)"
   ]
  },
  {
   "cell_type": "code",
   "execution_count": 28,
   "id": "9516d1e0",
   "metadata": {
    "scrolled": true
   },
   "outputs": [],
   "source": [
    "#평균 거리로 변환\n",
    "def listAVG(data):\n",
    "    import builtins\n",
    "    round = getattr(builtins, \"round\")\n",
    "    sum = getattr(builtins, \"sum\")\n",
    "    avg = 0\n",
    "    if len(data)==0:\n",
    "        avg = 0\n",
    "    else:\n",
    "        avg = round(sum(data)/len(data),5)\n",
    "    return avg\n",
    "\n",
    "convertUDF = udf(lambda x:listAVG(x),DoubleType())\n",
    "tempDF = distance_CircleAndPlayerDF.select('mapName','ranking', \\\n",
    "                    convertUDF('DistanceBlueCircle').alias('DistanceBlueCircleAVG'), \\\n",
    "                    convertUDF('DistanceWhiteCircle').alias('DistanceWhiteCircleAVG'))"
   ]
  },
  {
   "cell_type": "code",
   "execution_count": 29,
   "id": "0612f85c",
   "metadata": {
    "scrolled": false
   },
   "outputs": [],
   "source": [
    "#등수별 평균거리\n",
    "rankingOfDistanceCircleDF = tempDF.groupBy('mapName','ranking') \\\n",
    "    .agg(avg('DistanceBlueCircleAVG').alias('BlueDistRate') \\\n",
    "         ,avg('DistanceWhiteCircleAVG').alias('WhiteDistRate'))"
   ]
  },
  {
   "cell_type": "code",
   "execution_count": 30,
   "id": "6becc7c1",
   "metadata": {},
   "outputs": [
    {
     "name": "stdout",
     "output_type": "stream",
     "text": [
      "+-------+-------------------+\n",
      "|ranking|BlueDistRate       |\n",
      "+-------+-------------------+\n",
      "|1      |0.35014364111953966|\n",
      "|2      |0.3285417918134996 |\n",
      "|3      |0.31460579650845616|\n",
      "|4      |0.3135392564031948 |\n",
      "|7      |0.3043853306727481 |\n",
      "|5      |0.3028690589220888 |\n",
      "|6      |0.29993080430472957|\n",
      "|8      |0.2953243010752687 |\n",
      "|9      |0.28658934210526327|\n",
      "|20     |0.285085           |\n",
      "|10     |0.2849956191289496 |\n",
      "|14     |0.28496977326654366|\n",
      "|13     |0.28461673586451786|\n",
      "|11     |0.2841736276445697 |\n",
      "|12     |0.2796297648376261 |\n",
      "|15     |0.2760536541889484 |\n",
      "|16     |0.25752455692652826|\n",
      "|17     |0.23945175224123885|\n",
      "|21     |0.233395           |\n",
      "|19     |0.22995359999999995|\n",
      "|18     |0.2238935329341317 |\n",
      "+-------+-------------------+\n",
      "\n"
     ]
    }
   ],
   "source": [
    "rankingOfDistanceCircleDF.select('ranking','BlueDistRate').orderBy(desc('BlueDistRate')).show(50,truncate = False)"
   ]
  },
  {
   "cell_type": "code",
   "execution_count": 31,
   "id": "81a88fc4",
   "metadata": {
    "scrolled": false
   },
   "outputs": [
    {
     "name": "stdout",
     "output_type": "stream",
     "text": [
      "+-------+-------------------+\n",
      "|ranking|WhiteDistRate      |\n",
      "+-------+-------------------+\n",
      "|1      |0.34572203766675375|\n",
      "|2      |0.32160574410409304|\n",
      "|3      |0.3075111429350791 |\n",
      "|4      |0.30049497108234646|\n",
      "|5      |0.28977465233175087|\n",
      "|7      |0.2881866590649944 |\n",
      "|6      |0.28234373654390943|\n",
      "|8      |0.27461178268251285|\n",
      "|14     |0.2645960717110466 |\n",
      "|9      |0.2630505264663805 |\n",
      "|10     |0.25993046114432106|\n",
      "|11     |0.2589104315937941 |\n",
      "|13     |0.25796411636164973|\n",
      "|15     |0.25739638818135513|\n",
      "|12     |0.25142468085106395|\n",
      "|16     |0.2439183770076078 |\n",
      "|20     |0.23125875         |\n",
      "|18     |0.22879656957928796|\n",
      "|17     |0.22330062028499578|\n",
      "|19     |0.20838916666666668|\n",
      "|21     |0.193025           |\n",
      "+-------+-------------------+\n",
      "\n"
     ]
    }
   ],
   "source": [
    "rankingOfDistanceCircleDF.select('ranking','WhiteDistRate').orderBy(desc('WhiteDistRate')).show(50,truncate = False)"
   ]
  },
  {
   "cell_type": "code",
   "execution_count": 32,
   "id": "c35f0dc2",
   "metadata": {},
   "outputs": [
    {
     "name": "stdout",
     "output_type": "stream",
     "text": [
      "root\n",
      " |-- a_x: double (nullable = true)\n",
      " |-- a_y: double (nullable = true)\n",
      " |-- a_z: double (nullable = true)\n",
      " |-- attacker: string (nullable = true)\n",
      " |-- matchId: string (nullable = true)\n",
      " |-- time: double (nullable = true)\n",
      " |-- v_x: double (nullable = true)\n",
      " |-- v_y: double (nullable = true)\n",
      " |-- v_z: double (nullable = true)\n",
      "\n",
      "+------------+-----------+-------------+--------+--------------------+------+------------+-----------+-------------+\n",
      "|         a_x|        a_y|          a_z|attacker|             matchId|  time|         v_x|        v_y|          v_z|\n",
      "+------------+-----------+-------------+--------+--------------------+------+------------+-----------+-------------+\n",
      "|416962.09375|   668838.0|51.2099990845|  SMO1KE|ffff5561-157c-401...| 2.602|429306.59375|665495.5625|79.2099990845|\n",
      "|416962.09375|   668838.0|51.2099990845|  SMO1KE|ffff5561-157c-401...| 3.804| 429277.6875|665477.1875|79.2099990845|\n",
      "|416962.09375|   668838.0|51.2099990845|  SMO1KE|ffff5561-157c-401...|  6.31|428915.84375|665316.0625|51.2099990845|\n",
      "|420831.28125|661470.8125|84.1600036621|  SMO1KE|ffff5561-157c-401...|40.742|421856.46875|661569.0625|52.8800010681|\n",
      "|420831.28125|661470.8125|84.1600036621|  SMO1KE|ffff5561-157c-401...|40.742|421856.46875|661569.0625|52.8800010681|\n",
      "|420831.28125|661470.8125|84.1600036621|  SMO1KE|ffff5561-157c-401...|40.743|421856.46875|661569.0625|52.8800010681|\n",
      "|420831.28125|661470.8125|84.1600036621|  SMO1KE|ffff5561-157c-401...|40.743|421856.46875|661569.0625|52.8800010681|\n",
      "|420831.28125|661470.8125|84.1600036621|  SMO1KE|ffff5561-157c-401...|40.743|421856.46875|661569.0625|52.8800010681|\n",
      "|420910.96875|661290.9375|        26.25|  SMO1KE|ffff5561-157c-401...|44.949|421581.09375|  661470.25|87.6900024414|\n",
      "|420910.96875|661290.9375|        26.25|  SMO1KE|ffff5561-157c-401...| 44.95|421581.09375|  661470.25|87.6900024414|\n",
      "+------------+-----------+-------------+--------+--------------------+------+------------+-----------+-------------+\n",
      "only showing top 10 rows\n",
      "\n"
     ]
    }
   ],
   "source": [
    "sqlContext.clearCache()\n",
    "#공격 로그\n",
    "AttackDF = spark.read.format('json').load(\"/sparkdata/PUBG/Matches1_AttackerList.json\")\n",
    "AttackDF.printSchema()\n",
    "AttackDF.show(10)"
   ]
  },
  {
   "cell_type": "code",
   "execution_count": 33,
   "id": "2d7932e8",
   "metadata": {
    "scrolled": false
   },
   "outputs": [
    {
     "name": "stdout",
     "output_type": "stream",
     "text": [
      "root\n",
      " |-- matchId: string (nullable = true)\n",
      " |-- attacker: string (nullable = true)\n",
      " |-- time: double (nullable = true)\n",
      " |-- attackDistance: double (nullable = true)\n",
      "\n",
      "+--------------------+--------+------+--------------+\n",
      "|             matchId|attacker|  time|attackDistance|\n",
      "+--------------------+--------+------+--------------+\n",
      "|ffff5561-157c-401...|  SMO1KE| 2.602|       124.893|\n",
      "|ffff5561-157c-401...|  SMO1KE| 3.804|       124.668|\n",
      "|ffff5561-157c-401...|  SMO1KE|  6.31|       121.697|\n",
      "|ffff5561-157c-401...|  SMO1KE|40.742|        10.062|\n",
      "|ffff5561-157c-401...|  SMO1KE|40.742|        10.062|\n",
      "|ffff5561-157c-401...|  SMO1KE|40.743|        10.062|\n",
      "|ffff5561-157c-401...|  SMO1KE|40.743|        10.062|\n",
      "|ffff5561-157c-401...|  SMO1KE|40.743|        10.062|\n",
      "|ffff5561-157c-401...|  SMO1KE|44.949|         6.801|\n",
      "|ffff5561-157c-401...|  SMO1KE| 44.95|         6.801|\n",
      "+--------------------+--------+------+--------------+\n",
      "only showing top 10 rows\n",
      "\n"
     ]
    }
   ],
   "source": [
    "#공격자, 피해자간의 거리로 변환\n",
    "def DistanceAttacker(data):\n",
    "    import builtins\n",
    "    round = getattr(builtins, \"round\")\n",
    "    abs = getattr(builtins, \"abs\")\n",
    "    a_x = data[0]\n",
    "    a_y = data[1]\n",
    "    a_z = data[2]\n",
    "    v_x = data[6]\n",
    "    v_y = data[7]\n",
    "    v_z = data[8]\n",
    "    Distance_xy = ((abs(a_x-v_x)**2)+(abs(a_y-v_y)**2))**(1/2)\n",
    "    Distance_xyz = ((Distance_xy**2)+(abs(a_z-v_z)**2))**(1/2)\n",
    "    Distance_meter = Distance_xyz/102.4\n",
    "    return (data[4],data[3],data[5],round(Distance_meter,3))\n",
    "\n",
    "attackDistanceRDD = AttackDF.rdd.map(DistanceAttacker)\n",
    "attackDistanceDF = attackDistanceRDD.toDF(['matchId','attacker','time','attackDistance'])\n",
    "attackDistanceDF.printSchema()\n",
    "attackDistanceDF.show(10)"
   ]
  },
  {
   "cell_type": "code",
   "execution_count": 34,
   "id": "b2fab68f",
   "metadata": {},
   "outputs": [
    {
     "name": "stdout",
     "output_type": "stream",
     "text": [
      "root\n",
      " |-- matchId: string (nullable = true)\n",
      " |-- mapName: string (nullable = true)\n",
      " |-- duration: long (nullable = true)\n",
      " |-- playerName: string (nullable = true)\n",
      " |-- ranking: long (nullable = true)\n",
      " |-- timeLine: array (nullable = true)\n",
      " |    |-- element: double (containsNull = true)\n",
      " |-- InWhiteCircle: array (nullable = true)\n",
      " |    |-- element: boolean (containsNull = true)\n",
      " |-- DistanceWhiteCircle: array (nullable = true)\n",
      " |    |-- element: double (containsNull = true)\n",
      " |-- DistanceBlueCircle: array (nullable = true)\n",
      " |    |-- element: double (containsNull = true)\n",
      "\n"
     ]
    }
   ],
   "source": [
    "distance_CircleAndPlayerDF.printSchema()"
   ]
  },
  {
   "cell_type": "code",
   "execution_count": 35,
   "id": "34d47418",
   "metadata": {
    "scrolled": false
   },
   "outputs": [
    {
     "name": "stdout",
     "output_type": "stream",
     "text": [
      "+--------------------+-----------+--------+----------+-------+--------------------+--------------------+--------+--------------+\n",
      "|             matchId|    mapName|duration|playerName|ranking|            timeLine|  DistanceBlueCircle|    time|attackDistance|\n",
      "+--------------------+-----------+--------+----------+-------+--------------------+--------------------+--------+--------------+\n",
      "|00e65f73-668f-49a...|Baltic_Main|    1928| 0w0____S2|     11|[7.743, 17.728, 2...|[0.0578773492, 0....| 717.515|       347.898|\n",
      "|00e65f73-668f-49a...|Baltic_Main|    1928| 0w0____S2|     11|[7.743, 17.728, 2...|[0.0578773492, 0....| 543.031|       244.886|\n",
      "|00e65f73-668f-49a...|Baltic_Main|    1928| 0w0____S2|     11|[7.743, 17.728, 2...|[0.0578773492, 0....|1095.048|        56.189|\n",
      "|00e65f73-668f-49a...|Baltic_Main|    1928| 0w0____S2|     11|[7.743, 17.728, 2...|[0.0578773492, 0....| 524.816|         83.04|\n",
      "|00e65f73-668f-49a...|Baltic_Main|    1928| 0w0____S2|     11|[7.743, 17.728, 2...|[0.0578773492, 0....| 541.845|       243.613|\n",
      "|00e65f73-668f-49a...|Baltic_Main|    1928| 0w0____S2|     11|[7.743, 17.728, 2...|[0.0578773492, 0....| 696.626|       354.242|\n",
      "|00e65f73-668f-49a...|Baltic_Main|    1928| 0w0____S2|     11|[7.743, 17.728, 2...|[0.0578773492, 0....| 697.732|       353.333|\n",
      "|00e65f73-668f-49a...|Baltic_Main|    1928| 0w0____S2|     11|[7.743, 17.728, 2...|[0.0578773492, 0....| 674.084|        99.262|\n",
      "|00e65f73-668f-49a...|Baltic_Main|    1928| 0w0____S2|     11|[7.743, 17.728, 2...|[0.0578773492, 0....| 700.771|       344.302|\n",
      "|00e65f73-668f-49a...|Baltic_Main|    1928| 0w0____S2|     11|[7.743, 17.728, 2...|[0.0578773492, 0....|1093.112|        57.114|\n",
      "+--------------------+-----------+--------+----------+-------+--------------------+--------------------+--------+--------------+\n",
      "only showing top 10 rows\n",
      "\n"
     ]
    }
   ],
   "source": [
    "#매치자기장 정보와 공격정보 묶기\n",
    "attackDistanceAndMatchInfoDF = attackDistanceDF.distinct().alias('Atk').join(distance_CircleAndPlayerDF.alias('DCP') \\\n",
    "             ,((attackDistanceDF['matchId']==distance_CircleAndPlayerDF['matchId']) \\\n",
    "              & (attackDistanceDF['attacker']==distance_CircleAndPlayerDF['playerName'])),'inner')  \\\n",
    "             .select('DCP.matchId','DCP.mapName','DCP.duration','DCP.playerName','DCP.ranking','DCP.timeLine'\\\n",
    "             ,'DCP.DistanceBlueCircle','Atk.time','Atk.attackDistance')\n",
    "attackDistanceAndMatchInfoDF.show(10)"
   ]
  },
  {
   "cell_type": "code",
   "execution_count": 36,
   "id": "8d5b18bf",
   "metadata": {},
   "outputs": [],
   "source": [
    "#등수별 평균 교전 거리\n",
    "rankingOfAttackDistanceDF = attackDistanceAndMatchInfoDF.groupBy('mapName','ranking').agg(avg('attackDistance') \\\n",
    "                                                .alias('avgDist')).select('mapName','ranking','avgDist')"
   ]
  },
  {
   "cell_type": "code",
   "execution_count": 37,
   "id": "45613e38",
   "metadata": {},
   "outputs": [
    {
     "name": "stdout",
     "output_type": "stream",
     "text": [
      "+-----------+-------+------------------+\n",
      "|mapName    |ranking|avgDist           |\n",
      "+-----------+-------+------------------+\n",
      "|Baltic_Main|1      |122.67354347025613|\n",
      "|Baltic_Main|2      |113.96805550552726|\n",
      "|Baltic_Main|3      |114.00283081155432|\n",
      "|Baltic_Main|4      |113.28867949751731|\n",
      "|Baltic_Main|5      |109.36356887742798|\n",
      "|Baltic_Main|6      |102.88543714238558|\n",
      "|Baltic_Main|7      |104.9921046745133 |\n",
      "|Baltic_Main|8      |99.75384359629513 |\n",
      "|Baltic_Main|9      |91.52329258990198 |\n",
      "|Baltic_Main|10     |90.03803301922929 |\n",
      "|Baltic_Main|11     |82.06191728486647 |\n",
      "|Baltic_Main|12     |71.67762468547811 |\n",
      "|Baltic_Main|13     |64.61545128410113 |\n",
      "|Baltic_Main|14     |53.57954296710248 |\n",
      "|Baltic_Main|15     |38.78977381157672 |\n",
      "|Baltic_Main|16     |30.81952732260162 |\n",
      "|Baltic_Main|17     |25.134004651162787|\n",
      "|Baltic_Main|18     |20.697947189097103|\n",
      "|Baltic_Main|19     |25.270984293193717|\n",
      "|Baltic_Main|20     |9.452666666666666 |\n",
      "|Baltic_Main|21     |18.834            |\n",
      "+-----------+-------+------------------+\n",
      "\n"
     ]
    }
   ],
   "source": [
    "rankingOfAttackDistanceDF.orderBy('ranking').show(25,truncate=False)"
   ]
  },
  {
   "cell_type": "code",
   "execution_count": 38,
   "id": "1cf15fa5",
   "metadata": {},
   "outputs": [
    {
     "data": {
      "text/plain": [
       "\"tempRDD = attackDistanceAndMatchInfoDF.select('mapName','playerName','ranking','time')     .rdd.map(lambda x : ((x[0],x[1],x[2]),x[3])).groupByKey().mapValues(list)     .map(lambda y : (y[0][0],y[0][1],y[0][2],y[1]))\\n\\nattackGroupByDF = tempRDD.toDF(['mapName','playerName','ranking','times'])\\nattackGroupByDF.printSchema()\\nattackGroupByDF.show(10)\""
      ]
     },
     "execution_count": 38,
     "metadata": {},
     "output_type": "execute_result"
    }
   ],
   "source": [
    "#공격자에 대해서 공격정보 묶기 (GroupByKey 사용)\n",
    "\"\"\"tempRDD = attackDistanceAndMatchInfoDF.select('mapName','playerName','ranking','time') \\\n",
    "    .rdd.map(lambda x : ((x[0],x[1],x[2]),x[3])).groupByKey().mapValues(list) \\\n",
    "    .map(lambda y : (y[0][0],y[0][1],y[0][2],y[1]))\n",
    "\n",
    "attackGroupByDF = tempRDD.toDF(['mapName','playerName','ranking','times'])\n",
    "attackGroupByDF.printSchema()\n",
    "attackGroupByDF.show(10)\"\"\""
   ]
  },
  {
   "cell_type": "code",
   "execution_count": 39,
   "id": "44b31aaf",
   "metadata": {},
   "outputs": [
    {
     "name": "stdout",
     "output_type": "stream",
     "text": [
      "root\n",
      " |-- matchId: string (nullable = true)\n",
      " |-- mapName: string (nullable = true)\n",
      " |-- playerName: string (nullable = true)\n",
      " |-- ranking: long (nullable = true)\n",
      " |-- times: array (nullable = true)\n",
      " |    |-- element: double (containsNull = true)\n",
      "\n",
      "+--------------------+-----------+------------+-------+--------------------+\n",
      "|             matchId|    mapName|  playerName|ranking|               times|\n",
      "+--------------------+-----------+------------+-------+--------------------+\n",
      "|16545297-863c-41b...|Baltic_Main|     14K-Tak|     11|[688.612, 935.469...|\n",
      "|718c5db0-2b6d-44c...|Baltic_Main|     under24|     17|  [296.706, 299.076]|\n",
      "|b4095108-5e6a-4a1...|Baltic_Main|     woo2-_-|      4|[1755.714, 1738.0...|\n",
      "|e8c36172-471b-414...|Baltic_Main|     Msk_DOG|     10|[1123.966, 492.65...|\n",
      "|49c8fd28-9cec-464...|Baltic_Main|  Roadkill_1|      6|[1576.55, 1362.69...|\n",
      "|ecd63496-a7e5-422...|Baltic_Main|      E__SAK|     13|[926.453, 910.492...|\n",
      "|0c178ae9-bd63-442...|Baltic_Main|aaaqqqwww___|      6|[1005.749, 1101.039]|\n",
      "|a5eec06f-545e-4b6...|Baltic_Main|     JCYmzzm|      5|[1006.055, 808.92...|\n",
      "|2c7e8b94-c50d-4c4...|Baltic_Main| CQC_Gorilla|      5|[1477.078, 1253.5...|\n",
      "|aa487f4f-bf2a-46d...|Baltic_Main| lottopapa--|      4|[1087.117, 1065.5...|\n",
      "+--------------------+-----------+------------+-------+--------------------+\n",
      "only showing top 10 rows\n",
      "\n"
     ]
    }
   ],
   "source": [
    "#공격자에 대해서 공격정보 묶기 (ReduceByKey 사용)\n",
    "tempRDD = attackDistanceAndMatchInfoDF.select('matchId','mapName','playerName','ranking','time') \\\n",
    "    .rdd.map(lambda row : ((row[0],row[1],row[2],row[3]),[row[4]])).reduceByKey(lambda x,y: x+y) \\\n",
    "        .map(lambda y : (y[0][0],y[0][1],y[0][2],y[0][3],y[1]))\n",
    "\n",
    "attackGroupByDF = tempRDD.toDF(['matchId','mapName','playerName','ranking','times'])\n",
    "attackGroupByDF.printSchema()\n",
    "attackGroupByDF.show(10)"
   ]
  },
  {
   "cell_type": "code",
   "execution_count": 40,
   "id": "d454226d",
   "metadata": {},
   "outputs": [
    {
     "name": "stdout",
     "output_type": "stream",
     "text": [
      "root\n",
      " |-- matchId: string (nullable = true)\n",
      " |-- mapName: string (nullable = true)\n",
      " |-- playerName: string (nullable = true)\n",
      " |-- ranking: long (nullable = true)\n",
      " |-- combatCount: long (nullable = true)\n",
      "\n",
      "+--------------------+-----------+--------------+-------+-----------+\n",
      "|             matchId|    mapName|    playerName|ranking|combatCount|\n",
      "+--------------------+-----------+--------------+-------+-----------+\n",
      "|011f80b3-74b9-49d...|Baltic_Main|       shotgoa|      1|          4|\n",
      "|80678a83-1311-47d...|Baltic_Main|   bigbozigirl|      1|          5|\n",
      "|8c9ae95f-15fe-43d...|Baltic_Main|   TCN_lastman|      1|          1|\n",
      "|fb1bdea2-b828-47e...|Baltic_Main|      AF_MXSIK|      1|          5|\n",
      "|bf63b1a0-f0ad-49a...|Baltic_Main|      WWS_Dior|      1|          2|\n",
      "|41d8d5f8-e58e-41d...|Baltic_Main|         VGLTN|      1|          4|\n",
      "|de31bc7f-ac50-4a5...|Baltic_Main|     subal2-_-|      1|          2|\n",
      "|03c8286a-1023-48c...|Baltic_Main|     themaia20|      1|          1|\n",
      "|7c2b8dd5-3c5d-4bc...|Baltic_Main|      JM_d-_-b|      1|          2|\n",
      "|aeee81ce-fa94-40a...|Baltic_Main|       J_DOOLY|      1|          4|\n",
      "|473d0b84-adb7-400...|Baltic_Main|       8002811|      1|          4|\n",
      "|fe9a3239-ddaa-44d...|Baltic_Main|     curry_kim|      1|          2|\n",
      "|8c9ae95f-15fe-43d...|Baltic_Main|      Motelogo|      1|          3|\n",
      "|5cf72b24-88d9-438...|Baltic_Main|      Kanq_BGS|      1|          5|\n",
      "|47485065-ab7b-40d...|Baltic_Main|          7o75|      1|          4|\n",
      "|c11197a3-66ba-457...|Baltic_Main|       DURI5GU|      1|          2|\n",
      "|f063b167-7e1a-485...|Baltic_Main|   TCN_lastman|      1|          4|\n",
      "|28edd311-d9a8-4b4...|Baltic_Main|        7mm5mm|      1|          2|\n",
      "|7bc20a4d-79c4-407...|Baltic_Main|       pakkaaa|      1|          2|\n",
      "|bf63b1a0-f0ad-49a...|Baltic_Main|         WWS_S|      1|          4|\n",
      "|6ca3fe44-6956-40d...|Baltic_Main|Afreecatv_kiro|      1|          4|\n",
      "|8bbc18e7-f665-439...|Baltic_Main|under_airfxrce|      1|          1|\n",
      "|07c47e64-60f2-4be...|Baltic_Main|       hxexxsx|      1|          2|\n",
      "|bb5dbb15-5a8e-47b...|Baltic_Main|   GEN_Inomix_|      1|          1|\n",
      "|16b08316-e3d6-456...|Baltic_Main|   WWS_Blossom|      1|          4|\n",
      "|33f6d17d-c9e7-4b4...|Baltic_Main|  yogimini2seo|      1|          3|\n",
      "|67623760-044a-4d2...|Baltic_Main|       l02l030|      1|          2|\n",
      "|46476b1b-f7aa-42b...|Baltic_Main|      XXXGONZO|      1|          2|\n",
      "|66efe5d0-9271-424...|Baltic_Main|        aslmal|      1|          2|\n",
      "|891bc374-3528-470...|Baltic_Main|      GyuniGod|      1|          3|\n",
      "+--------------------+-----------+--------------+-------+-----------+\n",
      "only showing top 30 rows\n",
      "\n"
     ]
    }
   ],
   "source": [
    "def combatCount(data):   \n",
    "    times = data[4]\n",
    "    cnt = 0\n",
    "    combatStart = 0\n",
    "    for time in times:\n",
    "        if combatStart == 0:\n",
    "            combatStart = time\n",
    "            cnt += 1\n",
    "        else:\n",
    "            if time-combatStart >= 20:\n",
    "                combatStart = time\n",
    "                cnt +=1   \n",
    "    return (data[0],data[1],data[2],data[3],cnt)\n",
    "\n",
    "\n",
    "tempRDD = attackGroupByDF.rdd.map(combatCount)\n",
    "rankingOfCombatCountDF = tempRDD.toDF(['matchId','mapName','playerName','ranking','combatCount'])\n",
    "rankingOfCombatCountDF.printSchema()\n",
    "rankingOfCombatCountDF.orderBy('ranking').show(30)"
   ]
  },
  {
   "cell_type": "code",
   "execution_count": 41,
   "id": "824860ec",
   "metadata": {
    "scrolled": false
   },
   "outputs": [
    {
     "name": "stdout",
     "output_type": "stream",
     "text": [
      "+-----------+-------+------------------+\n",
      "|    mapName|ranking|       combatCount|\n",
      "+-----------+-------+------------------+\n",
      "|Baltic_Main|      1|2.6555767657485685|\n",
      "|Baltic_Main|      2|2.3670553935860057|\n",
      "|Baltic_Main|      3| 2.228225568349572|\n",
      "|Baltic_Main|      4| 2.116626065773447|\n",
      "|Baltic_Main|      5| 2.011598746081505|\n",
      "|Baltic_Main|      6|1.9102106969205834|\n",
      "|Baltic_Main|      7|1.8986115595737811|\n",
      "|Baltic_Main|      8|1.7776307081403044|\n",
      "|Baltic_Main|      9|1.7032011134307585|\n",
      "|Baltic_Main|     10| 1.688495575221239|\n",
      "|Baltic_Main|     11| 1.608695652173913|\n",
      "|Baltic_Main|     12|1.5229324665944384|\n",
      "|Baltic_Main|     13|1.4856706152082537|\n",
      "|Baltic_Main|     14|1.3623459096002988|\n",
      "|Baltic_Main|     15| 1.313369397217929|\n",
      "|Baltic_Main|     16| 1.262797074954296|\n",
      "|Baltic_Main|     17|1.2099290780141845|\n",
      "|Baltic_Main|     18|1.1818181818181819|\n",
      "|Baltic_Main|     19|1.0731707317073171|\n",
      "|Baltic_Main|     20|               1.0|\n",
      "|Baltic_Main|     21|               1.0|\n",
      "+-----------+-------+------------------+\n",
      "\n"
     ]
    }
   ],
   "source": [
    "rankingOfCombatCountDF.groupBy('mapName','ranking').agg(avg('combatCount').alias('combatCount')).orderBy('ranking').show(25)"
   ]
  },
  {
   "cell_type": "code",
   "execution_count": 42,
   "id": "3736d35d",
   "metadata": {},
   "outputs": [
    {
     "name": "stdout",
     "output_type": "stream",
     "text": [
      "root\n",
      " |-- matchId: string (nullable = true)\n",
      " |-- mapName: string (nullable = true)\n",
      " |-- duration: long (nullable = true)\n",
      " |-- playerName: string (nullable = true)\n",
      " |-- ranking: long (nullable = true)\n",
      " |-- timeLine: array (nullable = true)\n",
      " |    |-- element: double (containsNull = true)\n",
      " |-- DistanceBlueCircle: array (nullable = true)\n",
      " |    |-- element: double (containsNull = true)\n",
      " |-- time: double (nullable = true)\n",
      " |-- attackDistance: double (nullable = true)\n",
      "\n"
     ]
    }
   ],
   "source": [
    "attackDistanceAndMatchInfoDF.printSchema()"
   ]
  },
  {
   "cell_type": "code",
   "execution_count": 43,
   "id": "f75099ae",
   "metadata": {},
   "outputs": [
    {
     "name": "stdout",
     "output_type": "stream",
     "text": [
      "+-----------+----------+-------+--------------------+--------------------+--------------------+\n",
      "|    mapName|playerName|ranking|            timeLine|  DistanceBlueCircle|               times|\n",
      "+-----------+----------+-------+--------------------+--------------------+--------------------+\n",
      "|Baltic_Main|    0-u-ya|      3|[0.608, 10.594, 2...|[0.0068924466, 0....|[1605.558, 848.79...|\n",
      "|Baltic_Main|  000521-3|      1|[5.197, 15.184, 2...|[0.0397974237, 0....|[1822.203, 1826.0...|\n",
      "|Baltic_Main|    000_vv|     11|[10.64, 20.627, 3...|[0.0781973219, 0....|           [740.908]|\n",
      "|Baltic_Main|    000_vv|     12|[3.316, 13.301, 2...|[0.026767074, 0.1...|           [411.848]|\n",
      "|Baltic_Main|    001_MN|      6|[9.274, 19.259, 2...|[0.0689831998, 0....|[1170.072, 1170.3...|\n",
      "|Baltic_Main|    001_MN|      6|[2.901, 12.886, 2...|[0.0239310089, 0....|[149.248, 919.178...|\n",
      "|Baltic_Main|    001_MN|     11|[9.895, 19.913, 2...|[0.0758593976, 0....|           [965.298]|\n",
      "|Baltic_Main|    001_MN|      7|[0.872, 10.858, 2...|[0.0085782322, 0....|[1171.613, 686.6,...|\n",
      "|Baltic_Main|   0029934|      7|[7.041, 17.03, 27...|[0.0538455444, 0....|[539.845, 1322.21...|\n",
      "|Baltic_Main|    0055__|      2|[10.124, 20.129, ...|[0.0766714043, 0....|[1359.268, 1230.2...|\n",
      "+-----------+----------+-------+--------------------+--------------------+--------------------+\n",
      "only showing top 10 rows\n",
      "\n"
     ]
    }
   ],
   "source": [
    "#교전시 자기장 거리 정보\n",
    "tempDF = attackGroupByDF.alias('AGB').join(distance_CircleAndPlayerDF.alias('DCP') \\\n",
    "             ,((attackGroupByDF['matchId']==distance_CircleAndPlayerDF['matchId']) \\\n",
    "              & (attackGroupByDF['mapName']==distance_CircleAndPlayerDF['mapName']) \\\n",
    "              & (attackGroupByDF['playerName']==distance_CircleAndPlayerDF['playerName']) \\\n",
    "              & (attackGroupByDF['ranking']==distance_CircleAndPlayerDF['ranking'])),'inner')  \\\n",
    "             .select('DCP.mapName','DCP.playerName','DCP.ranking','DCP.timeLine', 'DCP.DistanceBlueCircle','AGB.times')\n",
    "\n",
    "tempDF.orderBy('playerName').show(10)"
   ]
  },
  {
   "cell_type": "code",
   "execution_count": 44,
   "id": "1c1df5dd",
   "metadata": {},
   "outputs": [
    {
     "name": "stdout",
     "output_type": "stream",
     "text": [
      "root\n",
      " |-- mapName: string (nullable = true)\n",
      " |-- playerName: string (nullable = true)\n",
      " |-- ranking: long (nullable = true)\n",
      " |-- combatDistance: double (nullable = true)\n",
      "\n",
      "+-----------+--------------+-------+--------------------+\n",
      "|    mapName|    playerName|ranking|      combatDistance|\n",
      "+-----------+--------------+-------+--------------------+\n",
      "|Baltic_Main|    Y_DXNGYEOL|      1|0.011719624900000001|\n",
      "|Baltic_Main|     RaveN5pro|      1| 0.06749004069999999|\n",
      "|Baltic_Main|        JANG-U|      1| 0.06301335639999996|\n",
      "|Baltic_Main|     VVS-Upppp|      1|0.013801692899999997|\n",
      "|Baltic_Main|    hye_vely_-|      1|        0.0426803555|\n",
      "|Baltic_Main|Gangsterparksm|      1| 0.05358327230000002|\n",
      "|Baltic_Main|     SoN-_-No7|      1|        0.0093891422|\n",
      "|Baltic_Main|     T_Bnb-Kue|      1|        0.0313594149|\n",
      "|Baltic_Main|        RIP_GH|      1|        0.0389700646|\n",
      "|Baltic_Main|      ex-Eyros|      1| 0.05215578349999997|\n",
      "+-----------+--------------+-------+--------------------+\n",
      "only showing top 10 rows\n",
      "\n"
     ]
    }
   ],
   "source": [
    "def combatDistance(data): \n",
    "    import builtins\n",
    "    sum = getattr(builtins, \"sum\")\n",
    "\n",
    "    timeLine = data[3]\n",
    "    length = len(timeLine)\n",
    "    blue = data[4]\n",
    "    attackTimes = data[5]\n",
    "    attackDistance = []\n",
    "    for time in attackTimes:\n",
    "        for idx, stp in enumerate(timeLine):\n",
    "            if idx < length:\n",
    "                if (stp < time) | (timeLine[idx+1] >= time):\n",
    "                    attackDistance.append(blue[idx])\n",
    "                    break\n",
    "            else:\n",
    "                attackDistance.append(blue[idx])\n",
    "                break\n",
    "    DistAVG = sum(attackDistance) / len(attackDistance)\n",
    "             \n",
    "    return (data[0],data[1],data[2],DistAVG)\n",
    "\n",
    "\n",
    "tempRDD = tempDF.rdd.map(combatDistance)\n",
    "combatDistanceDF = tempRDD.toDF(['mapName','playerName','ranking','combatDistance'])\n",
    "combatDistanceDF.printSchema()\n",
    "combatDistanceDF.orderBy('ranking').show(10)"
   ]
  },
  {
   "cell_type": "code",
   "execution_count": 45,
   "id": "862838d7",
   "metadata": {},
   "outputs": [
    {
     "name": "stdout",
     "output_type": "stream",
     "text": [
      "+-----------+-------+--------------------+\n",
      "|    mapName|ranking|      combatDistance|\n",
      "+-----------+-------+--------------------+\n",
      "|Baltic_Main|      1| 0.04190316714425963|\n",
      "|Baltic_Main|      2|0.042226765123381936|\n",
      "|Baltic_Main|      3|  0.0418175074352229|\n",
      "|Baltic_Main|      4| 0.04168572727375153|\n",
      "|Baltic_Main|      5|0.042146549239341684|\n",
      "|Baltic_Main|      6| 0.04171680111141006|\n",
      "|Baltic_Main|      7|   0.041992515776784|\n",
      "|Baltic_Main|      8| 0.04221387783272664|\n",
      "|Baltic_Main|      9| 0.04090563618806541|\n",
      "|Baltic_Main|     10| 0.04169922288718587|\n",
      "|Baltic_Main|     11|0.042034149731254425|\n",
      "|Baltic_Main|     12| 0.04211621810917298|\n",
      "|Baltic_Main|     13| 0.04142524419197554|\n",
      "|Baltic_Main|     14|0.041778389889802016|\n",
      "|Baltic_Main|     15|0.041326630237132934|\n",
      "|Baltic_Main|     16| 0.04216635152006399|\n",
      "|Baltic_Main|     17| 0.04218386357489359|\n",
      "|Baltic_Main|     18|0.039906402049431806|\n",
      "|Baltic_Main|     19| 0.04396975666341464|\n",
      "|Baltic_Main|     20|     0.0443754845125|\n",
      "|Baltic_Main|     21|        0.0094027645|\n",
      "+-----------+-------+--------------------+\n",
      "\n"
     ]
    }
   ],
   "source": [
    "rankingOfCombatDistanceDF = combatDistanceDF.groupBy('mapName','ranking').agg(avg('combatDistance').alias('combatDistance'))\n",
    "rankingOfCombatDistanceDF.orderBy('ranking').show(25)"
   ]
  },
  {
   "cell_type": "code",
   "execution_count": 46,
   "id": "fb79ce69",
   "metadata": {},
   "outputs": [
    {
     "name": "stdout",
     "output_type": "stream",
     "text": [
      "root\n",
      " |-- matchId: string (nullable = true)\n",
      " |-- player: string (nullable = true)\n",
      " |-- time: string (nullable = true)\n",
      " |-- x: double (nullable = true)\n",
      " |-- y: double (nullable = true)\n",
      " |-- z: double (nullable = true)\n",
      "\n",
      "+--------------------+--------------+--------------------+-------------+-------------+---------------+\n",
      "|             matchId|        player|                time|            x|            y|              z|\n",
      "+--------------------+--------------+--------------------+-------------+-------------+---------------+\n",
      "|b9337288-2cce-4f0...|     K_JooHong|2022-05-14T14:18:...| 433253.84375| 467092.46875|2095.7080078125|\n",
      "|b9337288-2cce-4f0...|What9Sangman_2|2022-05-14T14:18:...|     427737.0|    327429.25| 784.8502197266|\n",
      "|b9337288-2cce-4f0...|    kim_seulki|2022-05-14T14:18:...| 408346.34375| 346234.53125| 208.9286804199|\n",
      "|b9337288-2cce-4f0...|     K_JooHong|2022-05-14T14:18:...|  416194.9375|   476328.125|3009.9797363281|\n",
      "|b9337288-2cce-4f0...|      BLOODC0W|2022-05-14T14:18:...| 271604.09375|  428083.5625| 608.6817626953|\n",
      "|b9337288-2cce-4f0...|      BLOODC0W|2022-05-14T14:18:...| 271494.28125| 428082.59375| 609.0389404297|\n",
      "|b9337288-2cce-4f0...|     Hwan-2-DA|2022-05-14T14:18:...| 356188.21875|240840.328125|5127.8149414062|\n",
      "|b9337288-2cce-4f0...|     Hwan-2-DA|2022-05-14T14:18:...|  356196.9375| 240768.15625|5123.0834960938|\n",
      "|b9337288-2cce-4f0...|         DX_RV|2022-05-14T14:18:...|210571.453125| 372157.09375|1734.4343261719|\n",
      "|b9337288-2cce-4f0...|         DX_RV|2022-05-14T14:18:...|   210654.625| 372228.78125|1732.7362060547|\n",
      "+--------------------+--------------+--------------------+-------------+-------------+---------------+\n",
      "only showing top 10 rows\n",
      "\n"
     ]
    }
   ],
   "source": [
    "#차량탑승 로그\n",
    "rideVehicleDF = spark.read.format('json').load(\"/sparkdata/PUBG/Matches1_RideVehicle.json\")\n",
    "rideVehicleDF.printSchema()\n",
    "rideVehicleDF.show(10)"
   ]
  },
  {
   "cell_type": "code",
   "execution_count": 47,
   "id": "1b8d2a13",
   "metadata": {},
   "outputs": [
    {
     "name": "stdout",
     "output_type": "stream",
     "text": [
      "+------------------------------------+----------------+------------------------+\n",
      "|matchId                             |player          |firstRide               |\n",
      "+------------------------------------+----------------+------------------------+\n",
      "|0017e390-fdf6-4592-a1ce-1855258cb1a4|PLAT-_-RyeonGwan|2022-05-15T09:43:56.534Z|\n",
      "|0017e390-fdf6-4592-a1ce-1855258cb1a4|UNI_WooKi       |2022-05-15T09:44:23.002Z|\n",
      "|0017e390-fdf6-4592-a1ce-1855258cb1a4|Guoke-BaeMi     |2022-05-15T09:48:21.244Z|\n",
      "|0017e390-fdf6-4592-a1ce-1855258cb1a4|rjsemfaustkakd  |2022-05-15T09:46:38.794Z|\n",
      "|0017e390-fdf6-4592-a1ce-1855258cb1a4|LGT_WATSUB      |2022-05-15T09:49:15.104Z|\n",
      "|0017e390-fdf6-4592-a1ce-1855258cb1a4|KingPooh-_-     |2022-05-15T09:46:55.431Z|\n",
      "|0017e390-fdf6-4592-a1ce-1855258cb1a4|MMM_YuN2        |2022-05-15T09:51:07.010Z|\n",
      "|0017e390-fdf6-4592-a1ce-1855258cb1a4|Archi_S         |2022-05-15T09:43:40.925Z|\n",
      "|0017e390-fdf6-4592-a1ce-1855258cb1a4|llI_H           |2022-05-15T09:52:38.927Z|\n",
      "|0017e390-fdf6-4592-a1ce-1855258cb1a4|abn123          |2022-05-15T09:45:48.480Z|\n",
      "+------------------------------------+----------------+------------------------+\n",
      "only showing top 10 rows\n",
      "\n"
     ]
    }
   ],
   "source": [
    "rideVehicleDF.groupBy('matchId','player').agg(min('time').alias('firstRide')).orderBy('matchId').show(10,truncate=False)"
   ]
  },
  {
   "cell_type": "code",
   "execution_count": 48,
   "id": "307a1845",
   "metadata": {},
   "outputs": [
    {
     "name": "stdout",
     "output_type": "stream",
     "text": [
      "root\n",
      " |-- matchId: string (nullable = true)\n",
      " |-- createAt: string (nullable = true)\n",
      " |-- mapName: string (nullable = true)\n",
      " |-- duration: long (nullable = true)\n",
      " |-- mapSize: long (nullable = true)\n",
      " |-- airplaneRoute: string (nullable = true)\n",
      " |-- blueCircle: array (nullable = true)\n",
      " |    |-- element: array (containsNull = true)\n",
      " |    |    |-- element: double (containsNull = true)\n",
      " |-- whiteCircle: array (nullable = true)\n",
      " |    |-- element: array (containsNull = true)\n",
      " |    |    |-- element: double (containsNull = true)\n",
      "\n"
     ]
    }
   ],
   "source": [
    "matchInfoDF.printSchema()"
   ]
  },
  {
   "cell_type": "code",
   "execution_count": 49,
   "id": "f9a3945b",
   "metadata": {},
   "outputs": [
    {
     "name": "stdout",
     "output_type": "stream",
     "text": [
      "+--------------------+-----------+--------+----------+--------------------+--------------------+------------+------------+\n",
      "|             matchId|    mapName|duration|playerName|            createAt|                time|           x|           y|\n",
      "+--------------------+-----------+--------+----------+--------------------+--------------------+------------+------------+\n",
      "|0ae4ee76-e0c2-4bb...|Baltic_Main|    1619|    AMF_6x|2022-05-23T06:06:32Z|2022-05-23T06:07:...| 271477.1875| 428035.9375|\n",
      "|0ae4ee76-e0c2-4bb...|Baltic_Main|    1619|   14K-nok|2022-05-23T06:06:32Z|2022-05-23T06:07:...|342503.78125|403012.28125|\n",
      "|0ae4ee76-e0c2-4bb...|Baltic_Main|    1619|   14K-nok|2022-05-23T06:06:32Z|2022-05-23T06:07:...|342435.84375| 403038.0625|\n",
      "|0ae4ee76-e0c2-4bb...|Baltic_Main|    1619|    AMF_6x|2022-05-23T06:06:32Z|2022-05-23T06:07:...|   290243.75| 446290.4375|\n",
      "|0ae4ee76-e0c2-4bb...|Baltic_Main|    1619|Limbinlord|2022-05-23T06:06:32Z|2022-05-23T06:07:...|448547.84375| 311692.9375|\n",
      "+--------------------+-----------+--------+----------+--------------------+--------------------+------------+------------+\n",
      "only showing top 5 rows\n",
      "\n"
     ]
    }
   ],
   "source": [
    "tempDF = rideVehicleDF.alias('RV').join(matchInfoDF.alias('MI') \\\n",
    "             ,rideVehicleDF['matchId']==matchInfoDF['matchId'],'inner')  \\\n",
    "             .select('RV.matchId','MI.mapName','MI.duration',col('RV.player').alias('playerName'),'MI.createAt'\\\n",
    "             ,'RV.time','RV.x','RV.y')\n",
    "tempDF.show(5)"
   ]
  },
  {
   "cell_type": "code",
   "execution_count": 50,
   "id": "3c7198e5",
   "metadata": {},
   "outputs": [
    {
     "name": "stdout",
     "output_type": "stream",
     "text": [
      "root\n",
      " |-- matchId: string (nullable = true)\n",
      " |-- mapName: string (nullable = true)\n",
      " |-- duration: long (nullable = true)\n",
      " |-- playerName: string (nullable = true)\n",
      " |-- rideTime: long (nullable = true)\n",
      " |-- x: double (nullable = true)\n",
      " |-- y: double (nullable = true)\n",
      "\n",
      "+--------------------+-----------+--------+----------------+--------+------------+------------+\n",
      "|             matchId|    mapName|duration|      playerName|rideTime|           x|           y|\n",
      "+--------------------+-----------+--------+----------------+--------+------------+------------+\n",
      "|0ae4ee76-e0c2-4bb...|Baltic_Main|    1619|          AMF_6x|      70| 271477.1875| 428035.9375|\n",
      "|0ae4ee76-e0c2-4bb...|Baltic_Main|    1619|         14K-nok|      71|342503.78125|403012.28125|\n",
      "|0ae4ee76-e0c2-4bb...|Baltic_Main|    1619|         14K-nok|      71|342435.84375| 403038.0625|\n",
      "|0ae4ee76-e0c2-4bb...|Baltic_Main|    1619|          AMF_6x|      86|   290243.75| 446290.4375|\n",
      "|0ae4ee76-e0c2-4bb...|Baltic_Main|    1619|      Limbinlord|      86|448547.84375| 311692.9375|\n",
      "|0ae4ee76-e0c2-4bb...|Baltic_Main|    1619|      Limbinlord|      86| 448604.6875| 311666.9375|\n",
      "|0ae4ee76-e0c2-4bb...|Baltic_Main|    1619|  Valentino_TANK|      87|450776.46875| 314672.3125|\n",
      "|0ae4ee76-e0c2-4bb...|Baltic_Main|    1619|     Dark_B_Plar|      88|515814.03125| 485615.8125|\n",
      "|0ae4ee76-e0c2-4bb...|Baltic_Main|    1619|Valentino_Golden|      89|449167.28125|312258.96875|\n",
      "|0ae4ee76-e0c2-4bb...|Baltic_Main|    1619|     itzy3_3yeji|      93|433245.15625|  467028.625|\n",
      "+--------------------+-----------+--------+----------------+--------+------------+------------+\n",
      "only showing top 10 rows\n",
      "\n"
     ]
    }
   ],
   "source": [
    "def timeSet(data): \n",
    "    import re\n",
    "    import builtins\n",
    "    sum = getattr(builtins, \"sum\")\n",
    "    createAt=re.compile('T[0-9]{2}:[0-9]{2}:[0-9]{2}Z').findall(data[4])\n",
    "    playTime=re.compile('T[0-9]{2}:[0-9]{2}:[0-9]{2}[.]').findall(data[5])\n",
    "    (createHour,createMin,createSec) = re.findall(\"[0-9]{2}\",createAt[0])\n",
    "    (playHour,playMin,playSec) = re.findall(\"[0-9]{2}\",playTime[0])\n",
    "    Sec = int(playSec) - int(createSec)\n",
    "    Min = int(playMin) - int(createMin)\n",
    "    Hour = int(playHour) - int(createHour)\n",
    "    #년도날짜요일에 대해서는 빼기 때문에 음수에 대해서 올림처리\n",
    "    if Sec < 0:\n",
    "        Sec = 60+Sec\n",
    "        Min -=1\n",
    "    if Min < 0:\n",
    "        Min = 60+Min\n",
    "        Hour -=1\n",
    "    if Hour < 0:\n",
    "        Hour = 24+Hour\n",
    "        \n",
    "    time = (Hour*3600)+(Min*60)+Sec\n",
    "             \n",
    "    return (data[0],data[1],data[2],data[3],time,data[6],data[7])\n",
    "\n",
    "\n",
    "tempRDD = tempDF.rdd.map(timeSet)\n",
    "rideVehicleTimeDF = tempRDD.toDF(['matchId','mapName','duration','playerName','rideTime','x','y'])\n",
    "rideVehicleTimeDF.printSchema()\n",
    "rideVehicleTimeDF.show(10)"
   ]
  },
  {
   "cell_type": "code",
   "execution_count": 51,
   "id": "f72fbbad",
   "metadata": {},
   "outputs": [
    {
     "name": "stdout",
     "output_type": "stream",
     "text": [
      "root\n",
      " |-- matchId: string (nullable = true)\n",
      " |-- mapName: string (nullable = true)\n",
      " |-- duration: long (nullable = true)\n",
      " |-- playerName: string (nullable = true)\n",
      " |-- ranking: long (nullable = true)\n",
      " |-- timeLine: array (nullable = true)\n",
      " |    |-- element: double (containsNull = true)\n",
      " |-- InWhiteCircle: array (nullable = true)\n",
      " |    |-- element: boolean (containsNull = true)\n",
      " |-- DistanceWhiteCircle: array (nullable = true)\n",
      " |    |-- element: double (containsNull = true)\n",
      " |-- DistanceBlueCircle: array (nullable = true)\n",
      " |    |-- element: double (containsNull = true)\n",
      "\n",
      "root\n",
      " |-- matchId: string (nullable = true)\n",
      " |-- mapName: string (nullable = true)\n",
      " |-- playerName: string (nullable = true)\n",
      " |-- ranking: long (nullable = true)\n",
      "\n",
      "root\n",
      " |-- matchId: string (nullable = true)\n",
      " |-- mapName: string (nullable = true)\n",
      " |-- duration: long (nullable = true)\n",
      " |-- playerName: string (nullable = true)\n",
      " |-- rideTime: long (nullable = true)\n",
      " |-- x: double (nullable = true)\n",
      " |-- y: double (nullable = true)\n",
      "\n"
     ]
    }
   ],
   "source": [
    "distance_CircleAndPlayerDF.printSchema()\n",
    "tempDF = distance_CircleAndPlayerDF.select('matchId','mapName','playerName','ranking')\n",
    "tempDF.printSchema()\n",
    "rideVehicleTimeDF.printSchema()"
   ]
  },
  {
   "cell_type": "code",
   "execution_count": 52,
   "id": "66104aaa",
   "metadata": {},
   "outputs": [
    {
     "name": "stdout",
     "output_type": "stream",
     "text": [
      "+--------------------+-----------+--------+----------------+--------+------------+------------+\n",
      "|             matchId|    mapName|duration|      playerName|rideTime|           x|           y|\n",
      "+--------------------+-----------+--------+----------------+--------+------------+------------+\n",
      "|0ae4ee76-e0c2-4bb...|Baltic_Main|    1619|          AMF_6x|      70| 271477.1875| 428035.9375|\n",
      "|0ae4ee76-e0c2-4bb...|Baltic_Main|    1619|         14K-nok|      71|342503.78125|403012.28125|\n",
      "|0ae4ee76-e0c2-4bb...|Baltic_Main|    1619|         14K-nok|      71|342435.84375| 403038.0625|\n",
      "|0ae4ee76-e0c2-4bb...|Baltic_Main|    1619|          AMF_6x|      86|   290243.75| 446290.4375|\n",
      "|0ae4ee76-e0c2-4bb...|Baltic_Main|    1619|      Limbinlord|      86|448547.84375| 311692.9375|\n",
      "|0ae4ee76-e0c2-4bb...|Baltic_Main|    1619|      Limbinlord|      86| 448604.6875| 311666.9375|\n",
      "|0ae4ee76-e0c2-4bb...|Baltic_Main|    1619|  Valentino_TANK|      87|450776.46875| 314672.3125|\n",
      "|0ae4ee76-e0c2-4bb...|Baltic_Main|    1619|     Dark_B_Plar|      88|515814.03125| 485615.8125|\n",
      "|0ae4ee76-e0c2-4bb...|Baltic_Main|    1619|Valentino_Golden|      89|449167.28125|312258.96875|\n",
      "|0ae4ee76-e0c2-4bb...|Baltic_Main|    1619|     itzy3_3yeji|      93|433245.15625|  467028.625|\n",
      "+--------------------+-----------+--------+----------------+--------+------------+------------+\n",
      "only showing top 10 rows\n",
      "\n"
     ]
    }
   ],
   "source": [
    "#등수 열을 얻기위해 다른 데이터 프레임과 조인연산\n",
    "rideTempDF = rideVehicleTimeDF.alias('VT').join(tempDF.alias('tmp'), \\\n",
    "                    ((col('VT.matchId')==col('tmp.matchId')) \\\n",
    "                    & (col('VT.playerName')==col('tmp.playerName'))),'inner') \\\n",
    "                    .select('tmp.matchId','tmp.mapName','tmp.playerName' \\\n",
    "                            ,'tmp.ranking','VT.rideTime','VT.x','VT.y')\n",
    "rideTempDF.show(10)"
   ]
  },
  {
   "cell_type": "code",
   "execution_count": 53,
   "id": "7ba25d4d",
   "metadata": {},
   "outputs": [
    {
     "name": "stdout",
     "output_type": "stream",
     "text": [
      "+-----------+-------+------------------+\n",
      "|    mapName|ranking|          rideTime|\n",
      "+-----------+-------+------------------+\n",
      "|Baltic_Main|      1|275.76312880044225|\n",
      "|Baltic_Main|      2|303.43414491053096|\n",
      "|Baltic_Main|      3|309.04777351813624|\n",
      "|Baltic_Main|      4|310.46486486486486|\n",
      "|Baltic_Main|      5|317.63689559593473|\n",
      "|Baltic_Main|      6| 327.7141515341265|\n",
      "|Baltic_Main|      7| 322.3134138588684|\n",
      "|Baltic_Main|      8| 325.1457349700976|\n",
      "|Baltic_Main|      9|331.02439807383627|\n",
      "|Baltic_Main|     10|  334.590792015454|\n",
      "|Baltic_Main|     11| 322.4951861360719|\n",
      "|Baltic_Main|     12|335.34328358208955|\n",
      "|Baltic_Main|     13| 320.2096500169895|\n",
      "|Baltic_Main|     14|303.99848082035703|\n",
      "|Baltic_Main|     15| 280.9096098953378|\n",
      "|Baltic_Main|     16|247.60850694444446|\n",
      "|Baltic_Main|     17| 256.4807692307692|\n",
      "|Baltic_Main|     18|180.48979591836735|\n",
      "|Baltic_Main|     19|128.45454545454547|\n",
      "+-----------+-------+------------------+\n",
      "\n"
     ]
    }
   ],
   "source": [
    "rankingOfFirstRideVehicleDF = rideTempDF.groupBy('matchId','mapName','playerName','ranking') \\\n",
    "                        .agg(min('rideTime').alias('rideTime')).groupBy('mapName','ranking').agg(avg('rideTime').alias('rideTime'))\n",
    "rankingOfFirstRideVehicleDF.filter(col('mapName')=='Baltic_Main').orderBy('ranking').show(25)"
   ]
  },
  {
   "cell_type": "code",
   "execution_count": 63,
   "id": "db3b1b6d",
   "metadata": {},
   "outputs": [],
   "source": [
    "#차량을 타는 비율에 대해\n",
    "rideTempDF = rideVehicleTimeDF.alias('VT').join(tempDF.alias('tmp'), \\\n",
    "                    ((col('VT.matchId')==col('tmp.matchId')) \\\n",
    "                    & (col('VT.playerName')==col('tmp.playerName'))),'rightouter') \\\n",
    "                    .select('tmp.matchId','tmp.mapName','tmp.playerName' \\\n",
    "                            ,'tmp.ranking','VT.rideTime','VT.x','VT.y').na.fill(0)\n",
    "\n",
    "rideTempDF = rideTempDF.groupBy('matchId','mapName','ranking').agg(min('rideTime').alias('rideTime'))"
   ]
  },
  {
   "cell_type": "code",
   "execution_count": 64,
   "id": "f369aa5c",
   "metadata": {},
   "outputs": [
    {
     "name": "stdout",
     "output_type": "stream",
     "text": [
      "root\n",
      " |-- matchId: string (nullable = true)\n",
      " |-- mapName: string (nullable = true)\n",
      " |-- ranking: long (nullable = true)\n",
      " |-- rideTime: long (nullable = true)\n",
      "\n",
      "+--------------------+-----------+-------+--------+\n",
      "|             matchId|    mapName|ranking|rideTime|\n",
      "+--------------------+-----------+-------+--------+\n",
      "|a32bb497-01b4-4ef...|Baltic_Main|      2|     532|\n",
      "|4749edfc-b0a9-434...|Baltic_Main|      1|     106|\n",
      "|b2d20a91-52bd-4ca...|Baltic_Main|     11|     230|\n",
      "|71ffe4b2-2245-40a...|Baltic_Main|     11|     777|\n",
      "|b9738d8c-18aa-4b1...|Baltic_Main|      7|     217|\n",
      "|f2f016fa-a98d-45e...|Baltic_Main|      4|     106|\n",
      "|6a4b500f-bbac-493...|Baltic_Main|      4|      70|\n",
      "|d6fc34e0-8359-49d...|Baltic_Main|      3|       0|\n",
      "|de31bc7f-ac50-4a5...|Baltic_Main|     10|      73|\n",
      "|3600bd64-e13b-469...|Baltic_Main|      8|      84|\n",
      "+--------------------+-----------+-------+--------+\n",
      "only showing top 10 rows\n",
      "\n"
     ]
    }
   ],
   "source": [
    "rideTempDF.printSchema()\n",
    "rideTempDF.show(10)"
   ]
  },
  {
   "cell_type": "code",
   "execution_count": 65,
   "id": "cea32282",
   "metadata": {},
   "outputs": [
    {
     "name": "stdout",
     "output_type": "stream",
     "text": [
      "root\n",
      " |-- matchId: string (nullable = true)\n",
      " |-- mapName: string (nullable = true)\n",
      " |-- ranking: long (nullable = true)\n",
      " |-- rideTime: boolean (nullable = true)\n",
      "\n",
      "+--------------------+-----------+-------+--------+\n",
      "|             matchId|    mapName|ranking|rideTime|\n",
      "+--------------------+-----------+-------+--------+\n",
      "|a32bb497-01b4-4ef...|Baltic_Main|      2|    true|\n",
      "|4749edfc-b0a9-434...|Baltic_Main|      1|    true|\n",
      "|b2d20a91-52bd-4ca...|Baltic_Main|     11|    true|\n",
      "|71ffe4b2-2245-40a...|Baltic_Main|     11|    true|\n",
      "|b9738d8c-18aa-4b1...|Baltic_Main|      7|    true|\n",
      "|f2f016fa-a98d-45e...|Baltic_Main|      4|    true|\n",
      "|6a4b500f-bbac-493...|Baltic_Main|      4|    true|\n",
      "|d6fc34e0-8359-49d...|Baltic_Main|      3|   false|\n",
      "|de31bc7f-ac50-4a5...|Baltic_Main|     10|    true|\n",
      "|3600bd64-e13b-469...|Baltic_Main|      8|    true|\n",
      "|75e31315-936e-48f...|Baltic_Main|      7|   false|\n",
      "|c6e0e2be-12c5-451...|Baltic_Main|     16|   false|\n",
      "|8f3ca786-7cee-4d4...|Baltic_Main|     16|   false|\n",
      "|ec56adf3-17fa-4ca...|Baltic_Main|      9|    true|\n",
      "|95506615-e222-423...|Baltic_Main|      3|    true|\n",
      "|a4bc5e6c-f1f1-452...|Baltic_Main|     11|   false|\n",
      "|532615f4-e6e7-485...|Baltic_Main|     11|    true|\n",
      "|a8ac0856-641c-497...|Baltic_Main|      7|    true|\n",
      "|87ca2f39-9627-443...|Baltic_Main|     15|   false|\n",
      "|e1c3fb54-d641-498...|Baltic_Main|      3|    true|\n",
      "|16b08316-e3d6-456...|Baltic_Main|      4|    true|\n",
      "|3d37f561-d30e-4c1...|Baltic_Main|      6|    true|\n",
      "|5b610a5d-343f-4aa...|Baltic_Main|     10|    true|\n",
      "|c9eb8a53-cb83-4d7...|Baltic_Main|      5|   false|\n",
      "|c6a3f9f7-10bb-49c...|Baltic_Main|      5|    true|\n",
      "|bcae862e-8396-4a9...|Baltic_Main|     15|   false|\n",
      "|6b830938-a9d6-41d...|Baltic_Main|      8|    true|\n",
      "|4458146d-9a5a-42c...|Baltic_Main|     16|    true|\n",
      "|0b0871e0-4f0f-4eb...|Baltic_Main|      1|    true|\n",
      "|2ae8eb86-8c7c-482...|Baltic_Main|     12|    true|\n",
      "|366334dc-e53e-459...|Baltic_Main|     17|   false|\n",
      "|478813bb-ac39-44d...|Baltic_Main|     17|   false|\n",
      "|18407397-071d-4dc...|Baltic_Main|     16|   false|\n",
      "|f040f45c-c6ce-465...|Baltic_Main|      9|    true|\n",
      "|10af1046-86e9-41e...|Baltic_Main|     16|    true|\n",
      "|ab727eca-d884-48c...|Baltic_Main|     11|    true|\n",
      "|06124d64-7a4e-40e...|Baltic_Main|      9|    true|\n",
      "|da7b861a-9502-4c3...|Baltic_Main|      2|    true|\n",
      "|6a46b57c-61fa-4fa...|Baltic_Main|      6|    true|\n",
      "|77dbd711-6a34-405...|Baltic_Main|      1|   false|\n",
      "|71022d6f-4abd-459...|Baltic_Main|      3|    true|\n",
      "|dac2646e-4676-436...|Baltic_Main|      4|    true|\n",
      "|19ea639f-afa0-4d9...|Baltic_Main|      7|   false|\n",
      "|990cc349-dfbd-421...|Baltic_Main|      7|    true|\n",
      "|cc9bfb23-7f2b-4ac...|Baltic_Main|      6|    true|\n",
      "|d158dd27-e9f0-4d2...|Baltic_Main|      9|    true|\n",
      "|50ebd258-d0c3-4f9...|Baltic_Main|     10|    true|\n",
      "|0bd0fd7e-617e-48e...|Baltic_Main|     11|    true|\n",
      "|4973dbc1-708b-4b0...|Baltic_Main|     13|   false|\n",
      "|bf63b1a0-f0ad-49a...|Baltic_Main|      1|    true|\n",
      "|9dda1e06-d8c4-434...|Baltic_Main|      7|    true|\n",
      "|b9f6c386-fbc5-47f...|Baltic_Main|      7|   false|\n",
      "|28edd311-d9a8-4b4...|Baltic_Main|      2|    true|\n",
      "|05c957ea-c822-4c1...|Baltic_Main|     13|   false|\n",
      "|63f4ef2d-9810-422...|Baltic_Main|      9|    true|\n",
      "|9751e666-7a0d-407...|Baltic_Main|      9|    true|\n",
      "|13bcb8fb-d90c-4cd...|Baltic_Main|      1|    true|\n",
      "|46660a81-22d0-491...|Baltic_Main|      5|    true|\n",
      "|714ac3d7-79bb-4f8...|Baltic_Main|      2|    true|\n",
      "|4cf020d4-6f4b-4b9...|Baltic_Main|      2|    true|\n",
      "|fd1d8821-a333-4d4...|Baltic_Main|     15|   false|\n",
      "|af91b978-7fc4-48f...|Baltic_Main|      5|    true|\n",
      "|85e22cc5-0258-462...|Baltic_Main|     12|   false|\n",
      "|95c17861-24de-43c...|Baltic_Main|      3|    true|\n",
      "|04b0c144-2937-441...|Baltic_Main|     10|    true|\n",
      "|82b1b069-dc07-44c...|Baltic_Main|      8|    true|\n",
      "|bfc5682d-f5b6-418...|Baltic_Main|      1|    true|\n",
      "|9df52581-458b-481...|Baltic_Main|     16|   false|\n",
      "|2aa3a1e1-fda6-436...|Baltic_Main|      9|   false|\n",
      "|17562fa2-00f7-4dd...|Baltic_Main|     12|    true|\n",
      "|0ee533cd-6a11-4ce...|Baltic_Main|      9|    true|\n",
      "|95c17861-24de-43c...|Baltic_Main|     10|    true|\n",
      "|e15d1d15-89fa-4ca...|Baltic_Main|      3|    true|\n",
      "|6ca3fe44-6956-40d...|Baltic_Main|     12|    true|\n",
      "|39b0b883-2e21-4d8...|Baltic_Main|     15|    true|\n",
      "|77a56d6b-3ca8-47e...|Baltic_Main|      1|    true|\n",
      "|d158dd27-e9f0-4d2...|Baltic_Main|     14|   false|\n",
      "|41a3beab-6c21-471...|Baltic_Main|      9|    true|\n",
      "|05918e92-48d5-47b...|Baltic_Main|     13|    true|\n",
      "|c9b5f152-fc86-44f...|Baltic_Main|     13|    true|\n",
      "|01ce7bf4-765a-473...|Baltic_Main|     14|   false|\n",
      "|50dbb47b-62f3-433...|Baltic_Main|      1|    true|\n",
      "|6a771639-8d51-439...|Baltic_Main|     13|    true|\n",
      "|980a94a5-ad22-4db...|Baltic_Main|      3|    true|\n",
      "|cab7f48c-651f-48b...|Baltic_Main|      5|    true|\n",
      "|33ac7b29-5c3a-46d...|Baltic_Main|     10|    true|\n",
      "|168bf93d-38af-4aa...|Baltic_Main|     10|    true|\n",
      "|e94a4925-7a4c-476...|Baltic_Main|      7|    true|\n",
      "|96b743a3-d8f5-4c2...|Baltic_Main|      1|    true|\n",
      "|9e3f34d9-e5f2-435...|Baltic_Main|      6|   false|\n",
      "|404c7b47-763f-4d5...|Baltic_Main|     10|    true|\n",
      "|060b6ddd-9f54-446...|Baltic_Main|      8|    true|\n",
      "|5255d5ca-a0a3-404...|Baltic_Main|     14|    true|\n",
      "|891bc374-3528-470...|Baltic_Main|     13|    true|\n",
      "|33ac7b29-5c3a-46d...|Baltic_Main|      3|    true|\n",
      "|478813bb-ac39-44d...|Baltic_Main|      5|    true|\n",
      "|75d5625e-09c0-421...|Baltic_Main|      4|   false|\n",
      "|c5ad4d5d-36af-4a1...|Baltic_Main|     12|    true|\n",
      "|1e42bd39-195f-44f...|Baltic_Main|     12|    true|\n",
      "|de31bc7f-ac50-4a5...|Baltic_Main|     14|   false|\n",
      "+--------------------+-----------+-------+--------+\n",
      "only showing top 100 rows\n",
      "\n"
     ]
    }
   ],
   "source": [
    "#0과 아닌것에 대해 구분\n",
    "#공격자에 대해서 공격정보 묶기 (ReduceByKey 사용)\n",
    "def splitZero(data):\n",
    "    return bool(data)\n",
    "\n",
    "convertUDF = udf(lambda x:splitZero(x),BooleanType())\n",
    "rideTempDF = rideTempDF.select('matchId','mapName','ranking',convertUDF(col('rideTime')).alias('rideTime'))\n",
    "rideTempDF.printSchema()\n",
    "rideTempDF.show(100)"
   ]
  },
  {
   "cell_type": "code",
   "execution_count": 73,
   "id": "171c0626",
   "metadata": {},
   "outputs": [
    {
     "name": "stdout",
     "output_type": "stream",
     "text": [
      "+-----------+-------+-------------------+\n",
      "|    mapName|ranking|           rideRate|\n",
      "+-----------+-------+-------------------+\n",
      "|Baltic_Main|      1| 0.9207003089598352|\n",
      "|Baltic_Main|      2| 0.8671472708547889|\n",
      "|Baltic_Main|      3| 0.8712667353244078|\n",
      "|Baltic_Main|      4| 0.8558187435633368|\n",
      "|Baltic_Main|      5| 0.8362512873326468|\n",
      "|Baltic_Main|      6|  0.831101956745623|\n",
      "|Baltic_Main|      7| 0.8084449021627189|\n",
      "|Baltic_Main|      8| 0.8084449021627189|\n",
      "|Baltic_Main|      9| 0.7991761071060762|\n",
      "|Baltic_Main|     10| 0.7894736842105263|\n",
      "|Baltic_Main|     11| 0.7731958762886598|\n",
      "|Baltic_Main|     12| 0.7254901960784313|\n",
      "|Baltic_Main|     13| 0.6666666666666667|\n",
      "|Baltic_Main|     14| 0.5254413291796469|\n",
      "|Baltic_Main|     15| 0.3729338842975206|\n",
      "|Baltic_Main|     16|0.16805721096543502|\n",
      "|Baltic_Main|     17|0.09354838709677415|\n",
      "|Baltic_Main|     18|0.06451612903225812|\n",
      "|Baltic_Main|     19|0.05555555555555558|\n",
      "|Baltic_Main|     20|                0.0|\n",
      "|Baltic_Main|     21|                0.0|\n",
      "+-----------+-------+-------------------+\n",
      "\n"
     ]
    }
   ],
   "source": [
    "CountTempDF = rideTempDF.groupBy('mapName','ranking').agg(count('rideTime').alias('count'))\n",
    "notRideTempDF = rideTempDF.filter(col('rideTime')==False).groupBy('mapName','ranking').agg(count('rideTime').alias('count'))\n",
    "rideRateDF = CountTempDF.alias('TOTAL').join(notRideTempDF.alias('DONT'), \\\n",
    "                                   ((col('TOTAL.mapName')==col('DONT.mapName')) \\\n",
    "                                   &(col('TOTAL.ranking')==col('DONT.ranking'))),'inner') \\\n",
    "                                   .select('TOTAL.mapName','TOTAL.ranking' \\\n",
    "                                   ,expr(('1 - (DONT.count/TOTAL.count)')).alias('rideRate'))\n",
    "\n",
    "rideRateDF.orderBy('ranking').show(25)"
   ]
  },
  {
   "cell_type": "code",
   "execution_count": 74,
   "id": "fbf48cfa",
   "metadata": {},
   "outputs": [
    {
     "name": "stdout",
     "output_type": "stream",
     "text": [
      "+-----------+-------+------------------+-------------------+\n",
      "|    mapName|ranking|          rideTime|           rideRate|\n",
      "+-----------+-------+------------------+-------------------+\n",
      "|Baltic_Main|      1|275.76312880044225| 0.9207003089598352|\n",
      "|Baltic_Main|      2|303.43414491053096| 0.8671472708547889|\n",
      "|Baltic_Main|      3|309.04777351813624| 0.8712667353244078|\n",
      "|Baltic_Main|      4|310.46486486486486| 0.8558187435633368|\n",
      "|Baltic_Main|      5|317.63689559593473| 0.8362512873326468|\n",
      "|Baltic_Main|      6| 327.7141515341265|  0.831101956745623|\n",
      "|Baltic_Main|      7| 322.3134138588684| 0.8084449021627189|\n",
      "|Baltic_Main|      8| 325.1457349700976| 0.8084449021627189|\n",
      "|Baltic_Main|      9|331.02439807383627| 0.7991761071060762|\n",
      "|Baltic_Main|     10|  334.590792015454| 0.7894736842105263|\n",
      "|Baltic_Main|     11| 322.4951861360719| 0.7731958762886598|\n",
      "|Baltic_Main|     12|335.34328358208955| 0.7254901960784313|\n",
      "|Baltic_Main|     13| 320.2096500169895| 0.6666666666666667|\n",
      "|Baltic_Main|     14|303.99848082035703| 0.5254413291796469|\n",
      "|Baltic_Main|     15| 280.9096098953378| 0.3729338842975206|\n",
      "|Baltic_Main|     16|247.60850694444446|0.16805721096543502|\n",
      "|Baltic_Main|     17| 256.4807692307692|0.09354838709677415|\n",
      "|Baltic_Main|     18|180.48979591836735|0.06451612903225812|\n",
      "|Baltic_Main|     19|128.45454545454547|0.05555555555555558|\n",
      "+-----------+-------+------------------+-------------------+\n",
      "\n"
     ]
    }
   ],
   "source": [
    "rankingOfFirstRideVehicleDF = rankingOfFirstRideVehicleDF.alias('FR').join(rideRateDF.alias('rate'), \\\n",
    "                                            ((rankingOfFirstRideVehicleDF['mapName']==rideRateDF['mapName']) \\\n",
    "                                            &(rankingOfFirstRideVehicleDF['ranking']==rideRateDF['ranking'])),'rightouter')\\\n",
    "                                        .select('FR.mapName','FR.ranking','FR.rideTime','rate.rideRate')\n",
    "\n",
    "rankingOfFirstRideVehicleDF.filter(col('mapName')=='Baltic_Main').orderBy('ranking').show(25)"
   ]
  },
  {
   "cell_type": "code",
   "execution_count": null,
   "id": "5a4f665b",
   "metadata": {},
   "outputs": [],
   "source": []
  }
 ],
 "metadata": {
  "kernelspec": {
   "display_name": "Python 3",
   "language": "python",
   "name": "python3"
  },
  "language_info": {
   "codemirror_mode": {
    "name": "ipython",
    "version": 3
   },
   "file_extension": ".py",
   "mimetype": "text/x-python",
   "name": "python",
   "nbconvert_exporter": "python",
   "pygments_lexer": "ipython3",
   "version": "3.6.13"
  }
 },
 "nbformat": 4,
 "nbformat_minor": 5
}
